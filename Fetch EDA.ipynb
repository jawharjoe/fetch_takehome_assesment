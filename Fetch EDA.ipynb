{
 "cells": [
  {
   "cell_type": "code",
   "execution_count": 1,
   "id": "2b5be9c9-0c0e-4089-893d-fe87b554ea30",
   "metadata": {},
   "outputs": [],
   "source": [
    "import us"
   ]
  },
  {
   "cell_type": "code",
   "execution_count": 2,
   "id": "a423ba6e",
   "metadata": {},
   "outputs": [
    {
     "data": {
      "text/html": [
       "<div>\n",
       "<style scoped>\n",
       "    .dataframe tbody tr th:only-of-type {\n",
       "        vertical-align: middle;\n",
       "    }\n",
       "\n",
       "    .dataframe tbody tr th {\n",
       "        vertical-align: top;\n",
       "    }\n",
       "\n",
       "    .dataframe thead th {\n",
       "        text-align: right;\n",
       "    }\n",
       "</style>\n",
       "<table border=\"1\" class=\"dataframe\">\n",
       "  <thead>\n",
       "    <tr style=\"text-align: right;\">\n",
       "      <th></th>\n",
       "      <th>ID</th>\n",
       "      <th>CREATED_DATE</th>\n",
       "      <th>BIRTH_DATE</th>\n",
       "      <th>STATE</th>\n",
       "      <th>LANGUAGE</th>\n",
       "      <th>GENDER</th>\n",
       "    </tr>\n",
       "  </thead>\n",
       "  <tbody>\n",
       "    <tr>\n",
       "      <th>0</th>\n",
       "      <td>5ef3b4f17053ab141787697d</td>\n",
       "      <td>2020-06-24 20:17:54.000 Z</td>\n",
       "      <td>2000-08-11 00:00:00.000 Z</td>\n",
       "      <td>CA</td>\n",
       "      <td>es-419</td>\n",
       "      <td>female</td>\n",
       "    </tr>\n",
       "    <tr>\n",
       "      <th>1</th>\n",
       "      <td>5ff220d383fcfc12622b96bc</td>\n",
       "      <td>2021-01-03 19:53:55.000 Z</td>\n",
       "      <td>2001-09-24 04:00:00.000 Z</td>\n",
       "      <td>PA</td>\n",
       "      <td>en</td>\n",
       "      <td>female</td>\n",
       "    </tr>\n",
       "    <tr>\n",
       "      <th>2</th>\n",
       "      <td>6477950aa55bb77a0e27ee10</td>\n",
       "      <td>2023-05-31 18:42:18.000 Z</td>\n",
       "      <td>1994-10-28 00:00:00.000 Z</td>\n",
       "      <td>FL</td>\n",
       "      <td>es-419</td>\n",
       "      <td>female</td>\n",
       "    </tr>\n",
       "    <tr>\n",
       "      <th>3</th>\n",
       "      <td>658a306e99b40f103b63ccf8</td>\n",
       "      <td>2023-12-26 01:46:22.000 Z</td>\n",
       "      <td>NaN</td>\n",
       "      <td>NC</td>\n",
       "      <td>en</td>\n",
       "      <td>NaN</td>\n",
       "    </tr>\n",
       "    <tr>\n",
       "      <th>4</th>\n",
       "      <td>653cf5d6a225ea102b7ecdc2</td>\n",
       "      <td>2023-10-28 11:51:50.000 Z</td>\n",
       "      <td>1972-03-19 00:00:00.000 Z</td>\n",
       "      <td>PA</td>\n",
       "      <td>en</td>\n",
       "      <td>female</td>\n",
       "    </tr>\n",
       "    <tr>\n",
       "      <th>...</th>\n",
       "      <td>...</td>\n",
       "      <td>...</td>\n",
       "      <td>...</td>\n",
       "      <td>...</td>\n",
       "      <td>...</td>\n",
       "      <td>...</td>\n",
       "    </tr>\n",
       "    <tr>\n",
       "      <th>99995</th>\n",
       "      <td>61fc06d41febf771966da8fa</td>\n",
       "      <td>2022-02-03 16:46:12.000 Z</td>\n",
       "      <td>1992-03-16 08:00:00.000 Z</td>\n",
       "      <td>CA</td>\n",
       "      <td>en</td>\n",
       "      <td>female</td>\n",
       "    </tr>\n",
       "    <tr>\n",
       "      <th>99996</th>\n",
       "      <td>6391e7ef90ad5449ec5f782d</td>\n",
       "      <td>2022-12-08 13:34:39.000 Z</td>\n",
       "      <td>1993-09-23 05:00:00.000 Z</td>\n",
       "      <td>MO</td>\n",
       "      <td>en</td>\n",
       "      <td>female</td>\n",
       "    </tr>\n",
       "    <tr>\n",
       "      <th>99997</th>\n",
       "      <td>637d5efdd6f2a49c49934dcb</td>\n",
       "      <td>2022-11-22 23:45:05.000 Z</td>\n",
       "      <td>1983-04-19 00:00:00.000 Z</td>\n",
       "      <td>RI</td>\n",
       "      <td>en</td>\n",
       "      <td>female</td>\n",
       "    </tr>\n",
       "    <tr>\n",
       "      <th>99998</th>\n",
       "      <td>5f0de23b05d8a6147dc0cafa</td>\n",
       "      <td>2020-07-14 16:50:04.000 Z</td>\n",
       "      <td>1995-06-09 04:00:00.000 Z</td>\n",
       "      <td>DE</td>\n",
       "      <td>en</td>\n",
       "      <td>female</td>\n",
       "    </tr>\n",
       "    <tr>\n",
       "      <th>99999</th>\n",
       "      <td>5e7ab436905e9512ff44abc8</td>\n",
       "      <td>2020-03-25 01:30:30.000 Z</td>\n",
       "      <td>1995-12-15 05:00:00.000 Z</td>\n",
       "      <td>VA</td>\n",
       "      <td>NaN</td>\n",
       "      <td>female</td>\n",
       "    </tr>\n",
       "  </tbody>\n",
       "</table>\n",
       "<p>100000 rows × 6 columns</p>\n",
       "</div>"
      ],
      "text/plain": [
       "                             ID               CREATED_DATE  \\\n",
       "0      5ef3b4f17053ab141787697d  2020-06-24 20:17:54.000 Z   \n",
       "1      5ff220d383fcfc12622b96bc  2021-01-03 19:53:55.000 Z   \n",
       "2      6477950aa55bb77a0e27ee10  2023-05-31 18:42:18.000 Z   \n",
       "3      658a306e99b40f103b63ccf8  2023-12-26 01:46:22.000 Z   \n",
       "4      653cf5d6a225ea102b7ecdc2  2023-10-28 11:51:50.000 Z   \n",
       "...                         ...                        ...   \n",
       "99995  61fc06d41febf771966da8fa  2022-02-03 16:46:12.000 Z   \n",
       "99996  6391e7ef90ad5449ec5f782d  2022-12-08 13:34:39.000 Z   \n",
       "99997  637d5efdd6f2a49c49934dcb  2022-11-22 23:45:05.000 Z   \n",
       "99998  5f0de23b05d8a6147dc0cafa  2020-07-14 16:50:04.000 Z   \n",
       "99999  5e7ab436905e9512ff44abc8  2020-03-25 01:30:30.000 Z   \n",
       "\n",
       "                      BIRTH_DATE STATE LANGUAGE  GENDER  \n",
       "0      2000-08-11 00:00:00.000 Z    CA   es-419  female  \n",
       "1      2001-09-24 04:00:00.000 Z    PA       en  female  \n",
       "2      1994-10-28 00:00:00.000 Z    FL   es-419  female  \n",
       "3                            NaN    NC       en     NaN  \n",
       "4      1972-03-19 00:00:00.000 Z    PA       en  female  \n",
       "...                          ...   ...      ...     ...  \n",
       "99995  1992-03-16 08:00:00.000 Z    CA       en  female  \n",
       "99996  1993-09-23 05:00:00.000 Z    MO       en  female  \n",
       "99997  1983-04-19 00:00:00.000 Z    RI       en  female  \n",
       "99998  1995-06-09 04:00:00.000 Z    DE       en  female  \n",
       "99999  1995-12-15 05:00:00.000 Z    VA      NaN  female  \n",
       "\n",
       "[100000 rows x 6 columns]"
      ]
     },
     "execution_count": 2,
     "metadata": {},
     "output_type": "execute_result"
    }
   ],
   "source": [
    "import pandas as pd\n",
    "\n",
    "users = pd.read_csv('USER_TAKEHOME.csv') \n",
    "users"
   ]
  },
  {
   "cell_type": "markdown",
   "id": "5f24c135-fc3b-427f-a428-818284dc3bd1",
   "metadata": {},
   "source": [
    "# Users EDA"
   ]
  },
  {
   "cell_type": "markdown",
   "id": "26365615-c649-49f7-8da7-5bc3ddb18744",
   "metadata": {},
   "source": [
    "#### Column names: 'ID', 'CREATED_DATE', 'BIRTH_DATE', 'STATE', 'LANGUAGE', 'GENDER'"
   ]
  },
  {
   "cell_type": "markdown",
   "id": "2119928e-2e45-4f93-a862-02f9eab91150",
   "metadata": {},
   "source": [
    "**ID**: Zero NULL values, 100000 unique values, ID values are all Unique\n",
    "\n",
    "**CREATED DATE**:\n",
    "Has zero NULL values, 99942 unique values. Accounts starting from 2014-04-18 to 2024-09-11. Most account creation in 2022, 2023 and 2021 in that order.\n",
    "\n",
    "**BIRTH DATE**:\n",
    "3675 NULL values, 54721 unique values.\n",
    "Birth dates starting from 1900-01-01 to 2022-04-03. Most frequent birth dates between 1980-2005\n",
    "\n",
    "**STATE**: 4812 NULL Records, Total Unique 52 records - 50 US States, Nan, DC(US territory). Most User state is TX and least user state is VT. Top 5 states i.e., TX, FL, CA, NY, IL - makes up 37.85% of the users.\n",
    "\n",
    "**LANGUAGE**: 30508 NULL records i.e., 30.50% NULL records. Total Unique 2 records - Eng and es-419. 91.2% eng speakers and 8.7% Spanish speakers\n",
    "\n",
    "**GENDER**:5892 NULL Records. 7 unique records - female, male, non_binary, transgender, prefer_not_to_say, unknown, not_listed. Most frequent gender is female with 68.39% and least frequent is not_listed with 0.029%."
   ]
  },
  {
   "cell_type": "code",
   "execution_count": null,
   "id": "87af0cf6-4e08-4c98-aac1-26efadfdcccc",
   "metadata": {},
   "outputs": [],
   "source": []
  },
  {
   "cell_type": "code",
   "execution_count": 253,
   "id": "0087dc13-801b-4ecd-b009-7062b2bcd0ff",
   "metadata": {},
   "outputs": [
    {
     "data": {
      "text/plain": [
       "ID               0.000\n",
       "CREATED_DATE     0.000\n",
       "BIRTH_DATE       3.675\n",
       "STATE            4.812\n",
       "LANGUAGE        30.508\n",
       "GENDER           6.078\n",
       "dtype: float64"
      ]
     },
     "execution_count": 253,
     "metadata": {},
     "output_type": "execute_result"
    }
   ],
   "source": [
    "users.isna().sum()/users.shape[0]*100\n"
   ]
  },
  {
   "cell_type": "code",
   "execution_count": 3,
   "id": "9c1cdcbb-3875-4ef2-a53a-f41626242e09",
   "metadata": {},
   "outputs": [
    {
     "data": {
      "text/plain": [
       "Index(['ID', 'CREATED_DATE', 'BIRTH_DATE', 'STATE', 'LANGUAGE', 'GENDER'], dtype='object')"
      ]
     },
     "execution_count": 3,
     "metadata": {},
     "output_type": "execute_result"
    }
   ],
   "source": [
    "users.columns"
   ]
  },
  {
   "cell_type": "code",
   "execution_count": 4,
   "id": "bc3205a1-b8a3-4611-8240-ab8bc8271709",
   "metadata": {},
   "outputs": [
    {
     "data": {
      "text/plain": [
       "100000"
      ]
     },
     "execution_count": 4,
     "metadata": {},
     "output_type": "execute_result"
    }
   ],
   "source": [
    "users.ID.nunique()"
   ]
  },
  {
   "cell_type": "code",
   "execution_count": 5,
   "id": "ba931f4e-76d8-475e-bc45-6f8102379362",
   "metadata": {},
   "outputs": [
    {
     "data": {
      "text/plain": [
       "0"
      ]
     },
     "execution_count": 5,
     "metadata": {},
     "output_type": "execute_result"
    }
   ],
   "source": [
    "users.ID.isna().sum()"
   ]
  },
  {
   "cell_type": "code",
   "execution_count": 30,
   "id": "d4c3842d-6913-482a-ac2e-5fcec1359df5",
   "metadata": {},
   "outputs": [
    {
     "data": {
      "text/plain": [
       "99942"
      ]
     },
     "execution_count": 30,
     "metadata": {},
     "output_type": "execute_result"
    }
   ],
   "source": [
    "users.CREATED_DATE.nunique()"
   ]
  },
  {
   "cell_type": "code",
   "execution_count": 6,
   "id": "018d6e07-934a-4f5c-b5f1-92435228cc0f",
   "metadata": {},
   "outputs": [
    {
     "data": {
      "text/plain": [
       "0"
      ]
     },
     "execution_count": 6,
     "metadata": {},
     "output_type": "execute_result"
    }
   ],
   "source": [
    "users.CREATED_DATE.isna().sum()"
   ]
  },
  {
   "cell_type": "code",
   "execution_count": 7,
   "id": "72181043-cf8d-42ea-be3f-690eaece2ed8",
   "metadata": {},
   "outputs": [
    {
     "data": {
      "text/plain": [
       "'2024-09-11 17:59:15.000 Z'"
      ]
     },
     "execution_count": 7,
     "metadata": {},
     "output_type": "execute_result"
    }
   ],
   "source": [
    "users.CREATED_DATE.max()"
   ]
  },
  {
   "cell_type": "code",
   "execution_count": 8,
   "id": "b8dc42df-5ada-4b31-9a9b-4ee00913ec7f",
   "metadata": {},
   "outputs": [
    {
     "data": {
      "text/plain": [
       "'2014-04-18 23:14:55.000 Z'"
      ]
     },
     "execution_count": 8,
     "metadata": {},
     "output_type": "execute_result"
    }
   ],
   "source": [
    "users.CREATED_DATE.min()"
   ]
  },
  {
   "cell_type": "code",
   "execution_count": 32,
   "id": "5c80de51-5cf9-4cb7-a6dc-ec27bbb5f380",
   "metadata": {},
   "outputs": [
    {
     "data": {
      "text/plain": [
       "3675"
      ]
     },
     "execution_count": 32,
     "metadata": {},
     "output_type": "execute_result"
    }
   ],
   "source": [
    "users.BIRTH_DATE.isna().sum()"
   ]
  },
  {
   "cell_type": "code",
   "execution_count": 31,
   "id": "6e2eef03-9c79-4a80-b9df-5b06723e959c",
   "metadata": {},
   "outputs": [
    {
     "data": {
      "text/plain": [
       "54721"
      ]
     },
     "execution_count": 31,
     "metadata": {},
     "output_type": "execute_result"
    }
   ],
   "source": [
    "users.BIRTH_DATE.nunique()"
   ]
  },
  {
   "cell_type": "code",
   "execution_count": 33,
   "id": "6862c0b9-0df9-4650-b15d-80f6809e824d",
   "metadata": {},
   "outputs": [
    {
     "data": {
      "text/plain": [
       "Timestamp('2022-04-03 07:00:00+0000', tz='UTC')"
      ]
     },
     "execution_count": 33,
     "metadata": {},
     "output_type": "execute_result"
    }
   ],
   "source": [
    "users.BIRTH_DATE.max()"
   ]
  },
  {
   "cell_type": "code",
   "execution_count": 34,
   "id": "77d9cbc5-4552-44e9-9558-9850f054dd06",
   "metadata": {},
   "outputs": [
    {
     "data": {
      "text/plain": [
       "Timestamp('1900-01-01 00:00:00+0000', tz='UTC')"
      ]
     },
     "execution_count": 34,
     "metadata": {},
     "output_type": "execute_result"
    }
   ],
   "source": [
    "users.BIRTH_DATE.min()"
   ]
  },
  {
   "cell_type": "code",
   "execution_count": 41,
   "id": "c4102799-014e-4e16-b3df-5cd7ff399b59",
   "metadata": {},
   "outputs": [],
   "source": [
    "import matplotlib.pyplot as plt\n"
   ]
  },
  {
   "cell_type": "code",
   "execution_count": 42,
   "id": "2c7a57c9-e668-440d-bb0e-f860fe2318fd",
   "metadata": {},
   "outputs": [],
   "source": [
    "users['BIRTH_DATE'] = pd.to_datetime(users['BIRTH_DATE'])\n",
    "users['CREATED_DATE'] = pd.to_datetime(users['CREATED_DATE'])"
   ]
  },
  {
   "cell_type": "code",
   "execution_count": 43,
   "id": "dbd085b5-ab17-47a2-adc5-1f2128737343",
   "metadata": {},
   "outputs": [],
   "source": [
    "date_series = pd.Series(users.CREATED_DATE)"
   ]
  },
  {
   "cell_type": "code",
   "execution_count": 44,
   "id": "9f31fb1e-71f8-4435-8b80-f908e7786613",
   "metadata": {},
   "outputs": [
    {
     "data": {
      "text/plain": [
       "0       2020-06-24 20:17:54+00:00\n",
       "1       2021-01-03 19:53:55+00:00\n",
       "2       2023-05-31 18:42:18+00:00\n",
       "3       2023-12-26 01:46:22+00:00\n",
       "4       2023-10-28 11:51:50+00:00\n",
       "                   ...           \n",
       "99995   2022-02-03 16:46:12+00:00\n",
       "99996   2022-12-08 13:34:39+00:00\n",
       "99997   2022-11-22 23:45:05+00:00\n",
       "99998   2020-07-14 16:50:04+00:00\n",
       "99999   2020-03-25 01:30:30+00:00\n",
       "Name: CREATED_DATE, Length: 100000, dtype: datetime64[ns, UTC]"
      ]
     },
     "execution_count": 44,
     "metadata": {},
     "output_type": "execute_result"
    }
   ],
   "source": [
    "date_series"
   ]
  },
  {
   "cell_type": "code",
   "execution_count": 45,
   "id": "75bd8092-0660-49b0-a2c1-d4a26dea173e",
   "metadata": {},
   "outputs": [
    {
     "data": {
      "image/png": "[encoded data removed]",
      "text/plain": [
       "<Figure size 640x480 with 1 Axes>"
      ]
     },
     "metadata": {},
     "output_type": "display_data"
    }
   ],
   "source": [
    "plt.hist(date_series, bins=10)\n",
    "plt.xlabel('Date')\n",
    "plt.ylabel('Frequency')\n",
    "plt.title('Distribution of Dates')\n",
    "plt.show()"
   ]
  },
  {
   "cell_type": "code",
   "execution_count": 49,
   "id": "2daa9b46-05ed-4088-9e1e-6b2b0b23446b",
   "metadata": {},
   "outputs": [],
   "source": [
    "date_birth = pd.Series(users.BIRTH_DATE.dropna())"
   ]
  },
  {
   "cell_type": "code",
   "execution_count": 50,
   "id": "1faf50be-35a0-4b9d-8bfc-0618905debf5",
   "metadata": {},
   "outputs": [
    {
     "data": {
      "text/plain": [
       "0       2000-08-11 00:00:00+00:00\n",
       "1       2001-09-24 04:00:00+00:00\n",
       "2       1994-10-28 00:00:00+00:00\n",
       "4       1972-03-19 00:00:00+00:00\n",
       "5       1999-10-27 04:00:00+00:00\n",
       "                   ...           \n",
       "99995   1992-03-16 08:00:00+00:00\n",
       "99996   1993-09-23 05:00:00+00:00\n",
       "99997   1983-04-19 00:00:00+00:00\n",
       "99998   1995-06-09 04:00:00+00:00\n",
       "99999   1995-12-15 05:00:00+00:00\n",
       "Name: BIRTH_DATE, Length: 96325, dtype: datetime64[ns, UTC]"
      ]
     },
     "execution_count": 50,
     "metadata": {},
     "output_type": "execute_result"
    }
   ],
   "source": [
    "date_birth"
   ]
  },
  {
   "cell_type": "code",
   "execution_count": 58,
   "id": "0be8f922-57af-402f-87b2-5354139bad2c",
   "metadata": {},
   "outputs": [
    {
     "data": {
      "image/png": "[encoded data removed]",
      "text/plain": [
       "<Figure size 640x480 with 1 Axes>"
      ]
     },
     "metadata": {},
     "output_type": "display_data"
    }
   ],
   "source": [
    "plt.hist(date_birth, bins=20)\n",
    "plt.xlabel('Date')\n",
    "plt.ylabel('Frequency')\n",
    "plt.title('Distribution of Dates')\n",
    "plt.show()"
   ]
  },
  {
   "cell_type": "code",
   "execution_count": 20,
   "id": "a5243470-550d-4077-88c9-274442939fdf",
   "metadata": {},
   "outputs": [
    {
     "data": {
      "text/plain": [
       "0        2020-06-24 20:17:54.000 Z\n",
       "1        2021-01-03 19:53:55.000 Z\n",
       "2        2023-05-31 18:42:18.000 Z\n",
       "3        2023-12-26 01:46:22.000 Z\n",
       "4        2023-10-28 11:51:50.000 Z\n",
       "                   ...            \n",
       "99995    2022-02-03 16:46:12.000 Z\n",
       "99996    2022-12-08 13:34:39.000 Z\n",
       "99997    2022-11-22 23:45:05.000 Z\n",
       "99998    2020-07-14 16:50:04.000 Z\n",
       "99999    2020-03-25 01:30:30.000 Z\n",
       "Name: CREATED_DATE, Length: 100000, dtype: object"
      ]
     },
     "execution_count": 20,
     "metadata": {},
     "output_type": "execute_result"
    }
   ],
   "source": [
    "users.CREATED_DATE"
   ]
  },
  {
   "cell_type": "code",
   "execution_count": 17,
   "id": "a91e416f-7283-4527-85ab-d4b7c342afa7",
   "metadata": {},
   "outputs": [
    {
     "data": {
      "text/plain": [
       "CREATED_DATE\n",
       "2023-01-12 18:30:15.000 Z    2\n",
       "2019-08-28 02:21:44.000 Z    2\n",
       "2024-04-11 02:56:41.000 Z    2\n",
       "2024-03-11 17:03:02.000 Z    2\n",
       "2024-02-25 20:43:59.000 Z    2\n",
       "                            ..\n",
       "2024-08-25 03:30:41.000 Z    1\n",
       "2021-03-12 13:08:04.000 Z    1\n",
       "2024-07-24 19:33:12.000 Z    1\n",
       "2020-12-01 05:25:08.000 Z    1\n",
       "2020-03-25 01:30:30.000 Z    1\n",
       "Name: count, Length: 99942, dtype: int64"
      ]
     },
     "execution_count": 17,
     "metadata": {},
     "output_type": "execute_result"
    }
   ],
   "source": [
    "users.CREATED_DATE.value_counts()"
   ]
  },
  {
   "cell_type": "code",
   "execution_count": 20,
   "id": "b7f4f691",
   "metadata": {},
   "outputs": [
    {
     "name": "stdout",
     "output_type": "stream",
     "text": [
      "<class 'pandas.core.frame.DataFrame'>\n",
      "RangeIndex: 100000 entries, 0 to 99999\n",
      "Data columns (total 6 columns):\n",
      " #   Column        Non-Null Count   Dtype \n",
      "---  ------        --------------   ----- \n",
      " 0   ID            100000 non-null  object\n",
      " 1   CREATED_DATE  100000 non-null  object\n",
      " 2   BIRTH_DATE    96325 non-null   object\n",
      " 3   STATE         95188 non-null   object\n",
      " 4   LANGUAGE      69492 non-null   object\n",
      " 5   GENDER        94108 non-null   object\n",
      "dtypes: object(6)\n",
      "memory usage: 4.6+ MB\n"
     ]
    }
   ],
   "source": [
    "users.info()"
   ]
  },
  {
   "cell_type": "code",
   "execution_count": 21,
   "id": "8e80496a-762a-41cc-b7d5-95a25f226656",
   "metadata": {},
   "outputs": [
    {
     "data": {
      "text/plain": [
       "ID                        CREATED_DATE               BIRTH_DATE                 STATE  LANGUAGE  GENDER\n",
       "53f14a5de4b04398e8bc1397  2014-08-18 00:35:41.000 Z  1983-05-08 00:00:00.000 Z  WI     en        female    1\n",
       "63c9de3b39c79dcbdd5daf49  2023-01-20 00:20:11.000 Z  1971-08-16 00:00:00.000 Z  FL     en        female    1\n",
       "63c9aa633d310dceeacd55ac  2023-01-19 20:38:59.000 Z  1956-10-26 00:00:00.000 Z  CO     en        female    1\n",
       "63c9af0039c79dcbdd5d7b9d  2023-01-19 20:58:40.000 Z  1983-01-19 05:00:00.000 Z  NJ     es-419    female    1\n",
       "63c9af0c3d310dceeacd5aa2  2023-01-19 20:58:52.000 Z  2000-08-23 00:00:00.000 Z  NV     en        male      1\n",
       "                                                                                                          ..\n",
       "621b62dfb715a675fffe5942  2022-02-27 11:39:11.000 Z  1982-03-23 05:00:00.000 Z  FL     en        female    1\n",
       "621b82467224483dcf3aefe6  2022-02-27 13:53:10.000 Z  1972-06-11 00:00:00.000 Z  TN     en        male      1\n",
       "621b941a3fef641a6a882f4e  2022-02-27 15:09:14.000 Z  1989-06-29 00:00:00.000 Z  MA     en        female    1\n",
       "621b9f96792a4c3d1afbe0f4  2022-02-27 15:58:14.000 Z  1973-02-28 00:00:00.000 Z  TX     en        female    1\n",
       "66e1379d7d6591145d46a4a3  2024-09-11 06:24:29.000 Z  1985-10-27 05:00:00.000 Z  IN     en        male      1\n",
       "Name: count, Length: 65190, dtype: int64"
      ]
     },
     "execution_count": 21,
     "metadata": {},
     "output_type": "execute_result"
    }
   ],
   "source": [
    "users.value_counts()"
   ]
  },
  {
   "cell_type": "code",
   "execution_count": 59,
   "id": "eca7b91b-7038-45b7-a848-5fc86f2163ea",
   "metadata": {},
   "outputs": [
    {
     "data": {
      "text/plain": [
       "ID              100000\n",
       "CREATED_DATE     99942\n",
       "BIRTH_DATE       54721\n",
       "STATE               52\n",
       "LANGUAGE             2\n",
       "GENDER              11\n",
       "dtype: int64"
      ]
     },
     "execution_count": 59,
     "metadata": {},
     "output_type": "execute_result"
    }
   ],
   "source": [
    "users.nunique()"
   ]
  },
  {
   "cell_type": "code",
   "execution_count": 83,
   "id": "55f3f9ec-ec0a-4ca1-a4d6-848a7876fc2b",
   "metadata": {},
   "outputs": [],
   "source": [
    "user_states = users.STATE.unique()"
   ]
  },
  {
   "cell_type": "code",
   "execution_count": 91,
   "id": "784b1be8-1a65-4f14-90ea-0610f4d8c526",
   "metadata": {},
   "outputs": [
    {
     "data": {
      "text/plain": [
       "array(['CA', 'PA', 'FL', 'NC', 'NY', 'IN', nan, 'OH', 'TX', 'NM', 'PR',\n",
       "       'CO', 'AZ', 'RI', 'MO', 'NJ', 'MA', 'TN', 'LA', 'NH', 'WI', 'IA',\n",
       "       'GA', 'VA', 'DC', 'KY', 'SC', 'MN', 'WV', 'DE', 'MI', 'IL', 'MS',\n",
       "       'WA', 'KS', 'CT', 'OR', 'UT', 'MD', 'OK', 'NE', 'NV', 'AL', 'AK',\n",
       "       'AR', 'HI', 'ME', 'ND', 'ID', 'WY', 'MT', 'SD', 'VT'], dtype=object)"
      ]
     },
     "execution_count": 91,
     "metadata": {},
     "output_type": "execute_result"
    }
   ],
   "source": [
    "user_states"
   ]
  },
  {
   "cell_type": "code",
   "execution_count": 63,
   "id": "f799b946-4ecd-4676-a67b-78335ede1e2d",
   "metadata": {},
   "outputs": [
    {
     "data": {
      "text/plain": [
       "4812"
      ]
     },
     "execution_count": 63,
     "metadata": {},
     "output_type": "execute_result"
    }
   ],
   "source": [
    "users.STATE.isna().sum()"
   ]
  },
  {
   "cell_type": "code",
   "execution_count": 121,
   "id": "9831b8ff-fc4d-4053-9bcc-30da5de543a9",
   "metadata": {},
   "outputs": [
    {
     "name": "stdout",
     "output_type": "stream",
     "text": [
      "True CA\n",
      "True PA\n",
      "True FL\n",
      "True NC\n",
      "True NY\n",
      "True IN\n",
      "True OH\n",
      "True TX\n",
      "True NM\n",
      "True PR\n",
      "True CO\n",
      "True AZ\n",
      "True RI\n",
      "True MO\n",
      "True NJ\n",
      "True MA\n",
      "True TN\n",
      "True LA\n",
      "True NH\n",
      "True WI\n",
      "True IA\n",
      "True GA\n",
      "True VA\n",
      "False DC\n",
      "True KY\n",
      "True SC\n",
      "True MN\n",
      "True WV\n",
      "True DE\n",
      "True MI\n",
      "True IL\n",
      "True MS\n",
      "True WA\n",
      "True KS\n",
      "True CT\n",
      "True OR\n",
      "True UT\n",
      "True MD\n",
      "True OK\n",
      "True NE\n",
      "True NV\n",
      "True AL\n",
      "True AK\n",
      "True AR\n",
      "True HI\n",
      "True ME\n",
      "True ND\n",
      "True ID\n",
      "True WY\n",
      "True MT\n",
      "True SD\n",
      "True VT\n"
     ]
    }
   ],
   "source": [
    " for i in user_states:\n",
    "     if not pd.isna(i):\n",
    "         print(bool(us.states.lookup(i)),i)\n",
    "         # if bool(us.states.lookup(i))=='True':\n",
    "             # print(bool(us.states.lookup(i)))\n",
    "         #     # print(type(i),i)\n",
    "         #     print('8')\n",
    "         # else:\n",
    "         #     print(\"GOTTTT IT\",i)\n",
    "    "
   ]
  },
  {
   "cell_type": "code",
   "execution_count": 60,
   "id": "86f334e2-0fa3-4643-9866-3995ccfd0e4d",
   "metadata": {},
   "outputs": [
    {
     "data": {
      "text/plain": [
       "STATE\n",
       "TX    9028\n",
       "FL    8921\n",
       "CA    8589\n",
       "NY    5703\n",
       "IL    3794\n",
       "GA    3718\n",
       "PA    3644\n",
       "OH    3519\n",
       "NC    3399\n",
       "NJ    2899\n",
       "MI    2582\n",
       "VA    2400\n",
       "IN    2213\n",
       "TN    2165\n",
       "AL    1792\n",
       "SC    1773\n",
       "KY    1731\n",
       "AZ    1728\n",
       "MO    1652\n",
       "MD    1636\n",
       "MA    1523\n",
       "WI    1389\n",
       "PR    1361\n",
       "LA    1290\n",
       "WA    1234\n",
       "CO    1139\n",
       "MN    1125\n",
       "CT    1110\n",
       "OK    1100\n",
       "AR    1011\n",
       "MS     960\n",
       "IA     933\n",
       "NV     837\n",
       "KS     835\n",
       "OR     700\n",
       "WV     674\n",
       "UT     593\n",
       "DE     492\n",
       "NE     487\n",
       "NM     452\n",
       "ME     368\n",
       "NH     359\n",
       "HI     350\n",
       "ID     350\n",
       "AK     297\n",
       "RI     284\n",
       "DC     241\n",
       "SD     205\n",
       "ND     185\n",
       "MT     169\n",
       "WY     138\n",
       "VT     111\n",
       "Name: count, dtype: int64"
      ]
     },
     "execution_count": 60,
     "metadata": {},
     "output_type": "execute_result"
    }
   ],
   "source": [
    "users.STATE.value_counts()"
   ]
  },
  {
   "cell_type": "code",
   "execution_count": 88,
   "id": "d44ab801-0b1a-43d0-a3cf-9d64f9c2b4e6",
   "metadata": {},
   "outputs": [
    {
     "data": {
      "text/plain": [
       "37.85666260452999"
      ]
     },
     "execution_count": 88,
     "metadata": {},
     "output_type": "execute_result"
    }
   ],
   "source": [
    "users.STATE.value_counts().head().sum()/users.STATE.notna().sum()*100"
   ]
  },
  {
   "cell_type": "code",
   "execution_count": 84,
   "id": "9cd8394f-5ec9-4806-8e59-50aa97e0381c",
   "metadata": {},
   "outputs": [
    {
     "data": {
      "text/plain": [
       "STATE\n",
       "TX    9.484389\n",
       "FL    9.371980\n",
       "CA    9.023196\n",
       "NY    5.991301\n",
       "IL    3.985797\n",
       "GA    3.905955\n",
       "PA    3.828214\n",
       "OH    3.696895\n",
       "NC    3.570828\n",
       "NJ    3.045552\n",
       "MI    2.712527\n",
       "VA    2.521326\n",
       "IN    2.324873\n",
       "TN    2.274446\n",
       "AL    1.882590\n",
       "SC    1.862630\n",
       "KY    1.818507\n",
       "AZ    1.815355\n",
       "MO    1.735513\n",
       "MD    1.718704\n",
       "MA    1.599992\n",
       "WI    1.459218\n",
       "PR    1.429802\n",
       "LA    1.355213\n",
       "WA    1.296382\n",
       "CO    1.196579\n",
       "MN    1.181872\n",
       "CT    1.166113\n",
       "OK    1.155608\n",
       "AR    1.062109\n",
       "MS    1.008530\n",
       "IA    0.980166\n",
       "NV    0.879313\n",
       "KS    0.877211\n",
       "OR    0.735387\n",
       "WV    0.708072\n",
       "UT    0.622978\n",
       "DE    0.516872\n",
       "NE    0.511619\n",
       "NM    0.474850\n",
       "ME    0.386603\n",
       "NH    0.377148\n",
       "HI    0.367693\n",
       "ID    0.367693\n",
       "AK    0.312014\n",
       "RI    0.298357\n",
       "DC    0.253183\n",
       "SD    0.215363\n",
       "ND    0.194352\n",
       "MT    0.177543\n",
       "WY    0.144976\n",
       "VT    0.116611\n",
       "Name: count, dtype: float64"
      ]
     },
     "execution_count": 84,
     "metadata": {},
     "output_type": "execute_result"
    }
   ],
   "source": [
    "users.STATE.value_counts()/users.STATE.notna().sum()*100"
   ]
  },
  {
   "cell_type": "code",
   "execution_count": 119,
   "id": "3b81d5ff-1a38-4d66-9d46-4a0edbe71679",
   "metadata": {},
   "outputs": [
    {
     "data": {
      "text/html": [
       "<div>\n",
       "<style scoped>\n",
       "    .dataframe tbody tr th:only-of-type {\n",
       "        vertical-align: middle;\n",
       "    }\n",
       "\n",
       "    .dataframe tbody tr th {\n",
       "        vertical-align: top;\n",
       "    }\n",
       "\n",
       "    .dataframe thead th {\n",
       "        text-align: right;\n",
       "    }\n",
       "</style>\n",
       "<table border=\"1\" class=\"dataframe\">\n",
       "  <thead>\n",
       "    <tr style=\"text-align: right;\">\n",
       "      <th></th>\n",
       "      <th>ID</th>\n",
       "      <th>CREATED_DATE</th>\n",
       "      <th>BIRTH_DATE</th>\n",
       "      <th>STATE</th>\n",
       "      <th>LANGUAGE</th>\n",
       "      <th>GENDER</th>\n",
       "    </tr>\n",
       "  </thead>\n",
       "  <tbody>\n",
       "    <tr>\n",
       "      <th>count</th>\n",
       "      <td>100000</td>\n",
       "      <td>100000</td>\n",
       "      <td>96325</td>\n",
       "      <td>95188</td>\n",
       "      <td>69492</td>\n",
       "      <td>94108</td>\n",
       "    </tr>\n",
       "    <tr>\n",
       "      <th>unique</th>\n",
       "      <td>100000</td>\n",
       "      <td>99942</td>\n",
       "      <td>54721</td>\n",
       "      <td>52</td>\n",
       "      <td>2</td>\n",
       "      <td>11</td>\n",
       "    </tr>\n",
       "    <tr>\n",
       "      <th>top</th>\n",
       "      <td>5ef3b4f17053ab141787697d</td>\n",
       "      <td>2023-01-12 18:30:15.000 Z</td>\n",
       "      <td>1970-01-01 00:00:00.000 Z</td>\n",
       "      <td>TX</td>\n",
       "      <td>en</td>\n",
       "      <td>female</td>\n",
       "    </tr>\n",
       "    <tr>\n",
       "      <th>freq</th>\n",
       "      <td>1</td>\n",
       "      <td>2</td>\n",
       "      <td>1272</td>\n",
       "      <td>9028</td>\n",
       "      <td>63403</td>\n",
       "      <td>64240</td>\n",
       "    </tr>\n",
       "  </tbody>\n",
       "</table>\n",
       "</div>"
      ],
      "text/plain": [
       "                              ID               CREATED_DATE  \\\n",
       "count                     100000                     100000   \n",
       "unique                    100000                      99942   \n",
       "top     5ef3b4f17053ab141787697d  2023-01-12 18:30:15.000 Z   \n",
       "freq                           1                          2   \n",
       "\n",
       "                       BIRTH_DATE  STATE LANGUAGE  GENDER  \n",
       "count                       96325  95188    69492   94108  \n",
       "unique                      54721     52        2      11  \n",
       "top     1970-01-01 00:00:00.000 Z     TX       en  female  \n",
       "freq                         1272   9028    63403   64240  "
      ]
     },
     "execution_count": 119,
     "metadata": {},
     "output_type": "execute_result"
    }
   ],
   "source": [
    "#data frequency\n",
    "users.describe()"
   ]
  },
  {
   "cell_type": "code",
   "execution_count": 23,
   "id": "c3ce2608-3d2b-4ed6-a0d2-a6522ef5ae48",
   "metadata": {},
   "outputs": [
    {
     "data": {
      "text/plain": [
       "LANGUAGE\n",
       "en        63403\n",
       "es-419     6089\n",
       "Name: count, dtype: int64"
      ]
     },
     "execution_count": 23,
     "metadata": {},
     "output_type": "execute_result"
    }
   ],
   "source": [
    "users.LANGUAGE.value_counts()"
   ]
  },
  {
   "cell_type": "code",
   "execution_count": 73,
   "id": "3361f90e-f38a-4bef-87b7-089f675bb8c9",
   "metadata": {},
   "outputs": [
    {
     "data": {
      "text/plain": [
       "LANGUAGE\n",
       "en        0.912378\n",
       "es-419    0.087622\n",
       "Name: count, dtype: float64"
      ]
     },
     "execution_count": 73,
     "metadata": {},
     "output_type": "execute_result"
    }
   ],
   "source": [
    "users.LANGUAGE.value_counts()/users.LANGUAGE.notna().sum()"
   ]
  },
  {
   "cell_type": "code",
   "execution_count": 24,
   "id": "4906a9ac-ed8d-4b5e-9186-e66e6b5e91f5",
   "metadata": {},
   "outputs": [
    {
     "data": {
      "text/plain": [
       "ID                  0\n",
       "CREATED_DATE        0\n",
       "BIRTH_DATE       3675\n",
       "STATE            4812\n",
       "LANGUAGE        30508\n",
       "GENDER           5892\n",
       "dtype: int64"
      ]
     },
     "execution_count": 24,
     "metadata": {},
     "output_type": "execute_result"
    }
   ],
   "source": [
    "#total null count in each row\n",
    "users.isnull().sum()"
   ]
  },
  {
   "cell_type": "code",
   "execution_count": 66,
   "id": "1b3a60c4-6198-42bb-9b34-b82e50c93eda",
   "metadata": {},
   "outputs": [
    {
     "data": {
      "text/plain": [
       "ID                  0\n",
       "CREATED_DATE        0\n",
       "BIRTH_DATE       3675\n",
       "STATE            4812\n",
       "LANGUAGE        30508\n",
       "GENDER           5892\n",
       "dtype: int64"
      ]
     },
     "execution_count": 66,
     "metadata": {},
     "output_type": "execute_result"
    }
   ],
   "source": [
    "users.isna().sum()"
   ]
  },
  {
   "cell_type": "code",
   "execution_count": 74,
   "id": "a5982088-19b8-4b93-aff0-2aa208c3ebb4",
   "metadata": {},
   "outputs": [
    {
     "data": {
      "text/plain": [
       "GENDER\n",
       "female                    64240\n",
       "male                      25829\n",
       "transgender                1772\n",
       "prefer_not_to_say          1350\n",
       "non_binary                  473\n",
       "unknown                     196\n",
       "not_listed                  180\n",
       "Non-Binary                   34\n",
       "not_specified                28\n",
       "My gender isn't listed        5\n",
       "Prefer not to say             1\n",
       "Name: count, dtype: int64"
      ]
     },
     "execution_count": 74,
     "metadata": {},
     "output_type": "execute_result"
    }
   ],
   "source": [
    "users.GENDER.value_counts()"
   ]
  },
  {
   "cell_type": "code",
   "execution_count": 76,
   "id": "0876c27e-1495-435b-b6e8-26121d2d33d4",
   "metadata": {},
   "outputs": [
    {
     "data": {
      "text/plain": [
       "GENDER\n",
       "female                    68.261997\n",
       "male                      27.446126\n",
       "transgender                1.882943\n",
       "prefer_not_to_say          1.434522\n",
       "non_binary                 0.502614\n",
       "unknown                    0.208271\n",
       "not_listed                 0.191270\n",
       "Non-Binary                 0.036129\n",
       "not_specified              0.029753\n",
       "My gender isn't listed     0.005313\n",
       "Prefer not to say          0.001063\n",
       "Name: count, dtype: float64"
      ]
     },
     "execution_count": 76,
     "metadata": {},
     "output_type": "execute_result"
    }
   ],
   "source": [
    "users.GENDER.value_counts()/users.GENDER.notna().sum()*100"
   ]
  },
  {
   "cell_type": "code",
   "execution_count": null,
   "id": "1797c8ff-b226-4185-adfe-99d351b77571",
   "metadata": {},
   "outputs": [],
   "source": []
  },
  {
   "cell_type": "code",
   "execution_count": 79,
   "id": "02c0fde6-3bca-4dda-9913-89d73226e337",
   "metadata": {},
   "outputs": [],
   "source": [
    "#gender mapping\n",
    "gender_mapping = {\n",
    "    \"female\": \"female\",\n",
    "    \"male\": \"male\",\n",
    "    \"transgender\": \"transgender\",\n",
    "    \"prefer_not_to_say\": \"prefer_not_to_say\",\n",
    "    \"non_binary\": \"non_binary\",\n",
    "    \"unknown\": \"unknown\",\n",
    "    \"not_listed \": \"not_listed \",\n",
    "    \"Non-Binary\" : \"non_binary\",\n",
    "    \"not_specified\" :\"prefer_not_to_say\",\n",
    "    \"My gender isn't listed\":\"not_listed\",\n",
    "    \"Prefer not to say\":\"prefer_not_to_say\"\n",
    "}"
   ]
  },
  {
   "cell_type": "code",
   "execution_count": 80,
   "id": "2fe29e93-0531-4655-9799-5af834688e86",
   "metadata": {},
   "outputs": [],
   "source": [
    "users[\"GENDER\"] = users[\"GENDER\"].map(gender_mapping)\n"
   ]
  },
  {
   "cell_type": "code",
   "execution_count": 82,
   "id": "4617c195-da0a-40fc-a083-79257d839d9a",
   "metadata": {},
   "outputs": [
    {
     "data": {
      "text/plain": [
       "GENDER\n",
       "female               64240\n",
       "male                 25829\n",
       "transgender           1772\n",
       "prefer_not_to_say     1350\n",
       "non_binary             507\n",
       "unknown                196\n",
       "not_listed              28\n",
       "Name: count, dtype: int64"
      ]
     },
     "execution_count": 82,
     "metadata": {},
     "output_type": "execute_result"
    }
   ],
   "source": [
    "users.GENDER.value_counts()\n"
   ]
  },
  {
   "cell_type": "code",
   "execution_count": 83,
   "id": "7422f2cf-8b7b-4660-9237-a7955fb56ce4",
   "metadata": {},
   "outputs": [
    {
     "data": {
      "text/plain": [
       "array(['female', nan, 'male', 'non_binary', 'transgender',\n",
       "       'prefer_not_to_say', 'unknown', 'not_listed'], dtype=object)"
      ]
     },
     "execution_count": 83,
     "metadata": {},
     "output_type": "execute_result"
    }
   ],
   "source": [
    "users.GENDER.unique()\n"
   ]
  },
  {
   "cell_type": "code",
   "execution_count": 81,
   "id": "2bdaa64b-15e9-47b1-a518-2ec077ded128",
   "metadata": {},
   "outputs": [
    {
     "data": {
      "text/plain": [
       "GENDER\n",
       "female               68.397181\n",
       "male                 27.500479\n",
       "transgender           1.886672\n",
       "prefer_not_to_say     1.437363\n",
       "non_binary            0.539810\n",
       "unknown               0.208684\n",
       "not_listed            0.029812\n",
       "Name: count, dtype: float64"
      ]
     },
     "execution_count": 81,
     "metadata": {},
     "output_type": "execute_result"
    }
   ],
   "source": [
    "users.GENDER.value_counts()/users.GENDER.notna().sum()*100"
   ]
  },
  {
   "cell_type": "markdown",
   "id": "118044aa-9985-4766-8d8a-0e6740286066",
   "metadata": {},
   "source": [
    "# Products EDA"
   ]
  },
  {
   "cell_type": "markdown",
   "id": "6d0861e0-3d86-41de-9e18-4acc9f551179",
   "metadata": {},
   "source": [
    "#### Columns:  'CATEGORY_1', 'CATEGORY_2', 'CATEGORY_3', 'CATEGORY_4', 'MANUFACTURER', 'BRAND', 'BARCODE'"
   ]
  },
  {
   "cell_type": "markdown",
   "id": "9a815d71-680a-4b7c-9c64-77673da30998",
   "metadata": {},
   "source": [
    "**CATEGORY_1**  - 27 unique categories (including NaN). NULL values : 0.013%. Health & Wellness makes up 60.64% of the entries and Snacks makes up 38.41% of the entries. 99% of the entries are \"Health & Wellness\" and \"Snacks\". \n",
    "\n",
    "**CATEGORY_2**  - 121 unique categories (including NaN). NULL values : 0.16%. Top 5 make up 56.35% of the NON NULL categories and top 10 categories make up 72.36% of the NON NULL values. \n",
    "\n",
    "**CATEGORY_3**  - 344 unique categories (including NaN). NULL values : 7.16%. Top 5 categories: Confection Candy, Vitamins & Herbal Supplements, Chocolate Candy, Hair Styling Products, Reading Glasses.\n",
    "\n",
    "**CATEGORY_4**  - 127 unique categories (including NaN). NULL values : 92.02%. top 10 categories make up 64% of the NON NULL values.\n",
    "\n",
    "**MANUFACTURER**  - 4354 unique manufacturesrs (including NaN). NULL values : 26.78%. \n",
    "\n",
    "**BRAND**  - 8122 unique brands (including NaN) NULL values : 26.78%\n",
    "\n",
    "**BARCODE**  - NULL values : 0.47%. 841342 unique barcodes"
   ]
  },
  {
   "cell_type": "code",
   "execution_count": 97,
   "id": "fee14fdf-f8ab-4d2b-8022-a4d5f6173e60",
   "metadata": {},
   "outputs": [
    {
     "data": {
      "text/html": [
       "<div>\n",
       "<style scoped>\n",
       "    .dataframe tbody tr th:only-of-type {\n",
       "        vertical-align: middle;\n",
       "    }\n",
       "\n",
       "    .dataframe tbody tr th {\n",
       "        vertical-align: top;\n",
       "    }\n",
       "\n",
       "    .dataframe thead th {\n",
       "        text-align: right;\n",
       "    }\n",
       "</style>\n",
       "<table border=\"1\" class=\"dataframe\">\n",
       "  <thead>\n",
       "    <tr style=\"text-align: right;\">\n",
       "      <th></th>\n",
       "      <th>CATEGORY_1</th>\n",
       "      <th>CATEGORY_2</th>\n",
       "      <th>CATEGORY_3</th>\n",
       "      <th>CATEGORY_4</th>\n",
       "      <th>MANUFACTURER</th>\n",
       "      <th>BRAND</th>\n",
       "      <th>BARCODE</th>\n",
       "    </tr>\n",
       "  </thead>\n",
       "  <tbody>\n",
       "    <tr>\n",
       "      <th>0</th>\n",
       "      <td>Health &amp; Wellness</td>\n",
       "      <td>Sexual Health</td>\n",
       "      <td>Conductivity Gels &amp; Lotions</td>\n",
       "      <td>NaN</td>\n",
       "      <td>NaN</td>\n",
       "      <td>NaN</td>\n",
       "      <td>7.964944e+11</td>\n",
       "    </tr>\n",
       "    <tr>\n",
       "      <th>1</th>\n",
       "      <td>Snacks</td>\n",
       "      <td>Puffed Snacks</td>\n",
       "      <td>Cheese Curls &amp; Puffs</td>\n",
       "      <td>NaN</td>\n",
       "      <td>NaN</td>\n",
       "      <td>NaN</td>\n",
       "      <td>2.327801e+10</td>\n",
       "    </tr>\n",
       "    <tr>\n",
       "      <th>2</th>\n",
       "      <td>Health &amp; Wellness</td>\n",
       "      <td>Hair Care</td>\n",
       "      <td>Hair Care Accessories</td>\n",
       "      <td>NaN</td>\n",
       "      <td>PLACEHOLDER MANUFACTURER</td>\n",
       "      <td>ELECSOP</td>\n",
       "      <td>4.618178e+11</td>\n",
       "    </tr>\n",
       "    <tr>\n",
       "      <th>3</th>\n",
       "      <td>Health &amp; Wellness</td>\n",
       "      <td>Oral Care</td>\n",
       "      <td>Toothpaste</td>\n",
       "      <td>NaN</td>\n",
       "      <td>COLGATE-PALMOLIVE</td>\n",
       "      <td>COLGATE</td>\n",
       "      <td>3.500047e+10</td>\n",
       "    </tr>\n",
       "    <tr>\n",
       "      <th>4</th>\n",
       "      <td>Health &amp; Wellness</td>\n",
       "      <td>Medicines &amp; Treatments</td>\n",
       "      <td>Essential Oils</td>\n",
       "      <td>NaN</td>\n",
       "      <td>MAPLE HOLISTICS AND HONEYDEW PRODUCTS INTERCHA...</td>\n",
       "      <td>MAPLE HOLISTICS</td>\n",
       "      <td>8.068109e+11</td>\n",
       "    </tr>\n",
       "    <tr>\n",
       "      <th>...</th>\n",
       "      <td>...</td>\n",
       "      <td>...</td>\n",
       "      <td>...</td>\n",
       "      <td>...</td>\n",
       "      <td>...</td>\n",
       "      <td>...</td>\n",
       "      <td>...</td>\n",
       "    </tr>\n",
       "    <tr>\n",
       "      <th>845547</th>\n",
       "      <td>Health &amp; Wellness</td>\n",
       "      <td>Topical Muscle &amp; Joint Relief Treatments</td>\n",
       "      <td>Braces &amp; Wraps</td>\n",
       "      <td>NaN</td>\n",
       "      <td>NaN</td>\n",
       "      <td>NaN</td>\n",
       "      <td>7.223016e+11</td>\n",
       "    </tr>\n",
       "    <tr>\n",
       "      <th>845548</th>\n",
       "      <td>Snacks</td>\n",
       "      <td>Cookies</td>\n",
       "      <td>NaN</td>\n",
       "      <td>NaN</td>\n",
       "      <td>TREEHOUSE FOODS, INC.</td>\n",
       "      <td>LOFTHOUSE</td>\n",
       "      <td>4.182082e+10</td>\n",
       "    </tr>\n",
       "    <tr>\n",
       "      <th>845549</th>\n",
       "      <td>Snacks</td>\n",
       "      <td>Candy</td>\n",
       "      <td>Confection Candy</td>\n",
       "      <td>NaN</td>\n",
       "      <td>HARIBO GMBH &amp; CO KG</td>\n",
       "      <td>HARIBO</td>\n",
       "      <td>1.001672e+11</td>\n",
       "    </tr>\n",
       "    <tr>\n",
       "      <th>845550</th>\n",
       "      <td>Snacks</td>\n",
       "      <td>Nuts &amp; Seeds</td>\n",
       "      <td>Hazelnuts</td>\n",
       "      <td>NaN</td>\n",
       "      <td>DOUBLE-COLA CO</td>\n",
       "      <td>JUMBO</td>\n",
       "      <td>7.539076e+10</td>\n",
       "    </tr>\n",
       "    <tr>\n",
       "      <th>845551</th>\n",
       "      <td>Health &amp; Wellness</td>\n",
       "      <td>First Aid</td>\n",
       "      <td>First Aid Kits</td>\n",
       "      <td>NaN</td>\n",
       "      <td>3M</td>\n",
       "      <td>NEXCARE</td>\n",
       "      <td>7.967933e+11</td>\n",
       "    </tr>\n",
       "  </tbody>\n",
       "</table>\n",
       "<p>845552 rows × 7 columns</p>\n",
       "</div>"
      ],
      "text/plain": [
       "               CATEGORY_1                                CATEGORY_2  \\\n",
       "0       Health & Wellness                             Sexual Health   \n",
       "1                  Snacks                             Puffed Snacks   \n",
       "2       Health & Wellness                                 Hair Care   \n",
       "3       Health & Wellness                                 Oral Care   \n",
       "4       Health & Wellness                    Medicines & Treatments   \n",
       "...                   ...                                       ...   \n",
       "845547  Health & Wellness  Topical Muscle & Joint Relief Treatments   \n",
       "845548             Snacks                                   Cookies   \n",
       "845549             Snacks                                     Candy   \n",
       "845550             Snacks                              Nuts & Seeds   \n",
       "845551  Health & Wellness                                 First Aid   \n",
       "\n",
       "                         CATEGORY_3 CATEGORY_4  \\\n",
       "0       Conductivity Gels & Lotions        NaN   \n",
       "1              Cheese Curls & Puffs        NaN   \n",
       "2             Hair Care Accessories        NaN   \n",
       "3                        Toothpaste        NaN   \n",
       "4                    Essential Oils        NaN   \n",
       "...                             ...        ...   \n",
       "845547               Braces & Wraps        NaN   \n",
       "845548                          NaN        NaN   \n",
       "845549             Confection Candy        NaN   \n",
       "845550                    Hazelnuts        NaN   \n",
       "845551               First Aid Kits        NaN   \n",
       "\n",
       "                                             MANUFACTURER            BRAND  \\\n",
       "0                                                     NaN              NaN   \n",
       "1                                                     NaN              NaN   \n",
       "2                                PLACEHOLDER MANUFACTURER          ELECSOP   \n",
       "3                                       COLGATE-PALMOLIVE          COLGATE   \n",
       "4       MAPLE HOLISTICS AND HONEYDEW PRODUCTS INTERCHA...  MAPLE HOLISTICS   \n",
       "...                                                   ...              ...   \n",
       "845547                                                NaN              NaN   \n",
       "845548                              TREEHOUSE FOODS, INC.        LOFTHOUSE   \n",
       "845549                                HARIBO GMBH & CO KG           HARIBO   \n",
       "845550                                     DOUBLE-COLA CO            JUMBO   \n",
       "845551                                                 3M          NEXCARE   \n",
       "\n",
       "             BARCODE  \n",
       "0       7.964944e+11  \n",
       "1       2.327801e+10  \n",
       "2       4.618178e+11  \n",
       "3       3.500047e+10  \n",
       "4       8.068109e+11  \n",
       "...              ...  \n",
       "845547  7.223016e+11  \n",
       "845548  4.182082e+10  \n",
       "845549  1.001672e+11  \n",
       "845550  7.539076e+10  \n",
       "845551  7.967933e+11  \n",
       "\n",
       "[845552 rows x 7 columns]"
      ]
     },
     "execution_count": 97,
     "metadata": {},
     "output_type": "execute_result"
    }
   ],
   "source": [
    "products = pd.read_csv('PRODUCTS_TAKEHOME.csv') \n",
    "products"
   ]
  },
  {
   "cell_type": "code",
   "execution_count": 91,
   "id": "e1d4ea5c-1bbc-4067-8e14-11d357ac2e78",
   "metadata": {},
   "outputs": [
    {
     "data": {
      "text/plain": [
       "CATEGORY_4\n",
       "Lip Balms                      9737\n",
       "Already Popped Popcorn         6974\n",
       "Sleep Aids                     4978\n",
       "Hair Brushes & Combs           4724\n",
       "Women's Shaving Gel & Cream    3874\n",
       "                               ... \n",
       "Sherbet                           1\n",
       "Coconut Milk                      1\n",
       "Corn Syrup                        1\n",
       "White Merlot                      1\n",
       "Spices                            1\n",
       "Name: count, Length: 127, dtype: int64"
      ]
     },
     "execution_count": 91,
     "metadata": {},
     "output_type": "execute_result"
    }
   ],
   "source": [
    "products.CATEGORY_4.value_counts()"
   ]
  },
  {
   "cell_type": "code",
   "execution_count": 92,
   "id": "f82bcbf4-d798-4dc0-9c0d-d86779b4a6b4",
   "metadata": {},
   "outputs": [
    {
     "data": {
      "text/plain": [
       "Index(['CATEGORY_1', 'CATEGORY_2', 'CATEGORY_3', 'CATEGORY_4', 'MANUFACTURER',\n",
       "       'BRAND', 'BARCODE'],\n",
       "      dtype='object')"
      ]
     },
     "execution_count": 92,
     "metadata": {},
     "output_type": "execute_result"
    }
   ],
   "source": [
    "products.columns"
   ]
  },
  {
   "cell_type": "code",
   "execution_count": 96,
   "id": "2748c6c6-1310-4b13-bd42-ed586c2c2540",
   "metadata": {},
   "outputs": [
    {
     "name": "stdout",
     "output_type": "stream",
     "text": [
      "<class 'pandas.core.frame.DataFrame'>\n",
      "RangeIndex: 845552 entries, 0 to 845551\n",
      "Data columns (total 7 columns):\n",
      " #   Column        Non-Null Count   Dtype  \n",
      "---  ------        --------------   -----  \n",
      " 0   CATEGORY_1    845441 non-null  object \n",
      " 1   CATEGORY_2    844128 non-null  object \n",
      " 2   CATEGORY_3    784986 non-null  object \n",
      " 3   CATEGORY_4    67459 non-null   object \n",
      " 4   MANUFACTURER  619078 non-null  object \n",
      " 5   BRAND         619080 non-null  object \n",
      " 6   BARCODE       841527 non-null  float64\n",
      "dtypes: float64(1), object(6)\n",
      "memory usage: 45.2+ MB\n"
     ]
    }
   ],
   "source": [
    "products.info()"
   ]
  },
  {
   "cell_type": "code",
   "execution_count": 99,
   "id": "599649c7-c80e-48fb-b875-56f8d3e5bcbc",
   "metadata": {},
   "outputs": [
    {
     "data": {
      "text/plain": [
       "CATEGORY_1       0.013128\n",
       "CATEGORY_2       0.168411\n",
       "CATEGORY_3       7.162895\n",
       "CATEGORY_4      92.021898\n",
       "MANUFACTURER    26.784160\n",
       "BRAND           26.783923\n",
       "BARCODE          0.476020\n",
       "dtype: float64"
      ]
     },
     "execution_count": 99,
     "metadata": {},
     "output_type": "execute_result"
    }
   ],
   "source": [
    "products.isna().sum()/products.shape[0]*100\n"
   ]
  },
  {
   "cell_type": "code",
   "execution_count": 98,
   "id": "167c90d5-41e8-4ccc-bf78-727387192d27",
   "metadata": {},
   "outputs": [
    {
     "data": {
      "text/plain": [
       "845552"
      ]
     },
     "execution_count": 98,
     "metadata": {},
     "output_type": "execute_result"
    }
   ],
   "source": [
    "products.shape[0]"
   ]
  },
  {
   "cell_type": "code",
   "execution_count": 119,
   "id": "6e365db1-5e7c-4f0d-af3b-3b450ec001a4",
   "metadata": {},
   "outputs": [
    {
     "data": {
      "text/plain": [
       "27"
      ]
     },
     "execution_count": 119,
     "metadata": {},
     "output_type": "execute_result"
    }
   ],
   "source": [
    "products.CATEGORY_1.nunique()\n"
   ]
  },
  {
   "cell_type": "code",
   "execution_count": 120,
   "id": "8a39b01c-8735-4cee-91e9-dd671e12ac52",
   "metadata": {},
   "outputs": [
    {
     "data": {
      "text/plain": [
       "121"
      ]
     },
     "execution_count": 120,
     "metadata": {},
     "output_type": "execute_result"
    }
   ],
   "source": [
    "products.CATEGORY_2.nunique()\n"
   ]
  },
  {
   "cell_type": "code",
   "execution_count": 100,
   "id": "781ad233-962b-4c86-90ad-8f5a63949d6d",
   "metadata": {},
   "outputs": [
    {
     "data": {
      "text/plain": [
       "array(['Health & Wellness', 'Snacks', 'Beverages', 'Pantry', 'Alcohol',\n",
       "       'Apparel & Accessories', 'Restaurant', 'Needs Review', 'Dairy',\n",
       "       'Home & Garden', nan, 'Household Supplies', 'Meat & Seafood',\n",
       "       'Deli & Bakery', 'Sporting Goods', 'Produce', 'Office & School',\n",
       "       'Frozen', 'Arts & Entertainment', 'Animals & Pet Supplies',\n",
       "       'Electronics', 'Beauty', 'Toys & Games', 'Mature',\n",
       "       'Vehicles & Parts', 'Baby & Toddler', 'Luggage & Bags', 'Media'],\n",
       "      dtype=object)"
      ]
     },
     "execution_count": 100,
     "metadata": {},
     "output_type": "execute_result"
    }
   ],
   "source": [
    "products.CATEGORY_1.unique()\n"
   ]
  },
  {
   "cell_type": "code",
   "execution_count": 104,
   "id": "db74bafa-58fa-46d7-a49e-c6b6bfbf234e",
   "metadata": {},
   "outputs": [
    {
     "data": {
      "text/plain": [
       "CATEGORY_1\n",
       "Health & Wellness         512695\n",
       "Snacks                    324817\n",
       "Beverages                   3990\n",
       "Pantry                       871\n",
       "Apparel & Accessories        846\n",
       "Dairy                        602\n",
       "Needs Review                 547\n",
       "Alcohol                      503\n",
       "Home & Garden                115\n",
       "Restaurant                    69\n",
       "Deli & Bakery                 69\n",
       "Frozen                        62\n",
       "Meat & Seafood                49\n",
       "Sporting Goods                47\n",
       "Office & School               45\n",
       "Toys & Games                  28\n",
       "Household Supplies            24\n",
       "Produce                       20\n",
       "Animals & Pet Supplies        16\n",
       "Arts & Entertainment           7\n",
       "Electronics                    5\n",
       "Mature                         3\n",
       "Vehicles & Parts               3\n",
       "Baby & Toddler                 3\n",
       "Beauty                         2\n",
       "Media                          2\n",
       "Luggage & Bags                 1\n",
       "Name: count, dtype: int64"
      ]
     },
     "execution_count": 104,
     "metadata": {},
     "output_type": "execute_result"
    }
   ],
   "source": [
    "products.CATEGORY_1.value_counts()\n"
   ]
  },
  {
   "cell_type": "code",
   "execution_count": 105,
   "id": "428fdae3-cc65-4e2b-b8be-b0d02a090848",
   "metadata": {},
   "outputs": [
    {
     "data": {
      "text/plain": [
       "CATEGORY_1\n",
       "Health & Wellness         60.642316\n",
       "Snacks                    38.419831\n",
       "Beverages                  0.471943\n",
       "Pantry                     0.103023\n",
       "Apparel & Accessories      0.100066\n",
       "Dairy                      0.071205\n",
       "Needs Review               0.064700\n",
       "Alcohol                    0.059496\n",
       "Home & Garden              0.013602\n",
       "Restaurant                 0.008161\n",
       "Deli & Bakery              0.008161\n",
       "Frozen                     0.007333\n",
       "Meat & Seafood             0.005796\n",
       "Sporting Goods             0.005559\n",
       "Office & School            0.005323\n",
       "Toys & Games               0.003312\n",
       "Household Supplies         0.002839\n",
       "Produce                    0.002366\n",
       "Animals & Pet Supplies     0.001893\n",
       "Arts & Entertainment       0.000828\n",
       "Electronics                0.000591\n",
       "Mature                     0.000355\n",
       "Vehicles & Parts           0.000355\n",
       "Baby & Toddler             0.000355\n",
       "Beauty                     0.000237\n",
       "Media                      0.000237\n",
       "Luggage & Bags             0.000118\n",
       "Name: count, dtype: float64"
      ]
     },
     "execution_count": 105,
     "metadata": {},
     "output_type": "execute_result"
    }
   ],
   "source": [
    "products.CATEGORY_1.value_counts()/products.CATEGORY_1.notna().sum()*100\n"
   ]
  },
  {
   "cell_type": "code",
   "execution_count": 106,
   "id": "d3464bf1-64c8-41c5-aad1-54474bb6111b",
   "metadata": {},
   "outputs": [
    {
     "data": {
      "text/plain": [
       "99.06214700000001"
      ]
     },
     "execution_count": 106,
     "metadata": {},
     "output_type": "execute_result"
    }
   ],
   "source": [
    "60.642316+38.419831"
   ]
  },
  {
   "cell_type": "code",
   "execution_count": 101,
   "id": "cbc45a7a-0c36-4c7e-b299-59c27633c069",
   "metadata": {},
   "outputs": [
    {
     "data": {
      "text/plain": [
       "array(['Sexual Health', 'Puffed Snacks', 'Hair Care', 'Oral Care',\n",
       "       'Medicines & Treatments', 'Deodorant & Antiperspirant',\n",
       "       'Snack Bars', nan, 'Bath & Body', 'Nuts & Seeds', 'Candy',\n",
       "       'Cookies', 'Variety Snack Packs', 'Hair Removal',\n",
       "       'Medical Supplies & Equipment', 'Chips', 'Snack Cakes',\n",
       "       'Skin Care', 'Dessert Toppings', 'Eye Care',\n",
       "       'Fruit & Vegetable Snacks', 'Snack Mixes', 'Crackers',\n",
       "       'Jerky & Dried Meat', 'Topical Muscle & Joint Relief Treatments',\n",
       "       'Foot Care', 'First Aid', 'Ear Care', 'Menstrual Care', 'Pretzels',\n",
       "       'Trail Mix', 'Dips & Salsa', 'Adult Incontinence', 'Water',\n",
       "       'Cereal, Granola, & Toaster Pastries', 'Wine', 'Pudding & Gelatin',\n",
       "       'Clothing', 'Carbonated Soft Drinks', 'Energy & Endurance',\n",
       "       'Beverages', 'Cheese', 'Kitchen & Dining', 'Energy Drinks',\n",
       "       'Packaged Vegetables', 'Household Cleaning Supplies',\n",
       "       'Business & Home Security',\n",
       "       'Hard Seltzers, Sodas, Waters, Lemonades & Teas', 'Beer',\n",
       "       'Fresh Seafood', 'Packaged Meals & Sides', 'Prepared Meals',\n",
       "       'Jewelry', 'Exercise & Fitness', 'Pasta & Noodles',\n",
       "       'Packaged Fruit & Applesauce', 'Fresh Fruits', 'Name Plates',\n",
       "       'Sauces & Marinades', 'Frozen Desserts', 'Spirits',\n",
       "       'Cooking & Baking', 'Athletics', 'Clothing Accessories', 'Plants',\n",
       "       'Musical Instruments', 'Cocktail Prep', 'Beverage Syrups',\n",
       "       'Frozen Pizza & Pizza Snacks', 'Nut Butters & Jam', 'Coffee',\n",
       "       'Fruit & Vegetable Juices', 'Pet Carriers, Crates & Accessories',\n",
       "       'Audio', 'Hardware', 'Fish Supplies', 'Makeup', 'Decor', 'Toys',\n",
       "       'À La Carte Item', 'Office Carts', 'Frozen Meat',\n",
       "       'Pet Grooming Supplies', 'Fresh Vegetables', 'Furniture',\n",
       "       'Tobacco Products', 'Soup & Broth', 'Dairy Alternatives',\n",
       "       'Vehicle Storage & Cargo', 'Packaged Seafood',\n",
       "       'Office & Chair Mats', 'Pickled Goods', 'Outdoor Recreation',\n",
       "       'Indoor Games', 'Arts & Crafts', 'Frozen Appetizers',\n",
       "       'Food Storage', 'Tea', 'Vehicle Maintenance, Care & Decor',\n",
       "       'Games', 'Arcade Equipment & Accessories',\n",
       "       'Baby Toys & Activity Equipment', 'Hard Ciders',\n",
       "       'Luggage Accessories', 'Lawn & Garden', 'Books', 'Condiments',\n",
       "       'Lighting', 'Ice', 'Presentation Supplies',\n",
       "       'Handbag, Wallet & Accessories', 'Emergency Preparedness',\n",
       "       'Music & Recordings', 'Party & Celebration', 'Shoes',\n",
       "       'Pool, Spa & Accessories', 'Baby & Toddler Feeding',\n",
       "       'Malt Beverages', 'Household Appliances', 'Shipping Supplies',\n",
       "       'Frozen Sides', 'Baby Transport'], dtype=object)"
      ]
     },
     "execution_count": 101,
     "metadata": {},
     "output_type": "execute_result"
    }
   ],
   "source": [
    "products.CATEGORY_2.unique()\n"
   ]
  },
  {
   "cell_type": "code",
   "execution_count": 107,
   "id": "a2573f46-c5e7-443b-8388-25a93e0e6701",
   "metadata": {},
   "outputs": [
    {
     "data": {
      "text/plain": [
       "CATEGORY_2\n",
       "Candy                      121036\n",
       "Hair Care                  111482\n",
       "Medicines & Treatments      99118\n",
       "Bath & Body                 81469\n",
       "Skin Care                   62587\n",
       "                            ...  \n",
       "Games                           1\n",
       "Vehicle Storage & Cargo         1\n",
       "Audio                           1\n",
       "Pasta & Noodles                 1\n",
       "Baby Transport                  1\n",
       "Name: count, Length: 121, dtype: int64"
      ]
     },
     "execution_count": 107,
     "metadata": {},
     "output_type": "execute_result"
    }
   ],
   "source": [
    "products.CATEGORY_2.value_counts()\n"
   ]
  },
  {
   "cell_type": "code",
   "execution_count": 108,
   "id": "d2d34992-166f-4a5d-b9b3-15307cf2b947",
   "metadata": {},
   "outputs": [
    {
     "data": {
      "text/plain": [
       "CATEGORY_2\n",
       "Candy                      14.338584\n",
       "Hair Care                  13.206765\n",
       "Medicines & Treatments     11.742058\n",
       "Bath & Body                 9.651261\n",
       "Skin Care                   7.414397\n",
       "                             ...    \n",
       "Games                       0.000118\n",
       "Vehicle Storage & Cargo     0.000118\n",
       "Audio                       0.000118\n",
       "Pasta & Noodles             0.000118\n",
       "Baby Transport              0.000118\n",
       "Name: count, Length: 121, dtype: float64"
      ]
     },
     "execution_count": 108,
     "metadata": {},
     "output_type": "execute_result"
    }
   ],
   "source": [
    "products.CATEGORY_2.value_counts()/products.CATEGORY_2.notna().sum()*100\n"
   ]
  },
  {
   "cell_type": "code",
   "execution_count": 114,
   "id": "6ff0298d-36af-4f4c-8f15-0dc4680a2d34",
   "metadata": {},
   "outputs": [
    {
     "data": {
      "text/plain": [
       "56.353065"
      ]
     },
     "execution_count": 114,
     "metadata": {},
     "output_type": "execute_result"
    }
   ],
   "source": [
    "14.338584+13.206765+11.742058+9.651261+7.414397"
   ]
  },
  {
   "cell_type": "code",
   "execution_count": 112,
   "id": "25f88864-4c48-4e25-933e-df0dd39f8c1f",
   "metadata": {},
   "outputs": [
    {
     "data": {
      "text/plain": [
       "72.36947477159862"
      ]
     },
     "execution_count": 112,
     "metadata": {},
     "output_type": "execute_result"
    }
   ],
   "source": [
    "products.CATEGORY_2.value_counts().head(10).sum()/products.CATEGORY_2.notna().sum()*100"
   ]
  },
  {
   "cell_type": "code",
   "execution_count": 113,
   "id": "241843a0-101d-4d10-8679-3eb343ea6b57",
   "metadata": {},
   "outputs": [
    {
     "data": {
      "text/plain": [
       "56.35306493801888"
      ]
     },
     "execution_count": 113,
     "metadata": {},
     "output_type": "execute_result"
    }
   ],
   "source": [
    "products.CATEGORY_2.value_counts().head(5).sum()/products.CATEGORY_2.notna().sum()*100"
   ]
  },
  {
   "cell_type": "code",
   "execution_count": 102,
   "id": "14c74581-daca-4df8-8b00-a8bd41f3e9d4",
   "metadata": {},
   "outputs": [
    {
     "data": {
      "text/plain": [
       "array(['Conductivity Gels & Lotions', 'Cheese Curls & Puffs',\n",
       "       'Hair Care Accessories', 'Toothpaste', 'Essential Oils',\n",
       "       'Vitamins & Herbal Supplements',\n",
       "       \"Men's Deodorant & Antiperspirant\", 'Granola Bars', nan,\n",
       "       'Skin Treatments', 'Hand & Body Lotions', 'Hazelnuts',\n",
       "       'Shower Caps', 'Hair Tools', 'Candy Variety Pack',\n",
       "       'Chocolate Candy', 'Oral Care Accessories', 'Hand Sanitizer Wipes',\n",
       "       'Shaving Gel & Cream', 'Crisps', 'Pies & Tarts Snack Cakes',\n",
       "       'Skin Care Masks & Peels', 'Lip Balms & Treatments',\n",
       "       'Anti-Aging Skin Care Kits', 'Shampoo',\n",
       "       'Ice Cream Sauces & Syrups', 'Reading Glasses', 'Popcorn',\n",
       "       'Dried Fruit', 'Sunscreen', 'Hair Styling Products', 'Almonds',\n",
       "       'Facial Cleansers', 'Confection Candy', 'Wheat Crackers',\n",
       "       'Hand Sanitizer', 'Potato Chips', 'Performance & Protein Bars',\n",
       "       'Jerky & Bites', 'Facial Pore Strips', 'Braces & Wraps',\n",
       "       'Body Wash', 'Body Powder', 'Bath & Body Gift Sets', 'Chestnuts',\n",
       "       'Denture Care', 'Brownie Snack Cakes', 'Bath Sponges & Loofahs',\n",
       "       'Snack Seeds', 'Foot Care Devices and Grooming Aids',\n",
       "       'Allergy & Sinus Medicines & Treatments',\n",
       "       'Facial Lotion & Moisturizer', 'Razors', 'Toothbrushes',\n",
       "       'Hot & Cold Compress', 'Floss', 'Sleeping & Snoring',\n",
       "       'Covered Nuts', 'Fruit & Nut Bars', 'Mints', 'Teeth Whitening',\n",
       "       'Fruit Snacks', 'Donut Snack Cakes', 'Bandages & Gauze',\n",
       "       'Insoles & Orthotics', 'Hair Color', 'Ear Plugs',\n",
       "       'Menstrual Care Underwear', 'Hair Treatments', 'Corn Chips',\n",
       "       'Pretzel Crisps', 'Eye Creams', 'Tattoo Care', 'Tortilla Chips',\n",
       "       'Cereal Bars & Breakfast Biscuits', 'Oral Pain Relief',\n",
       "       'Mixed Nuts', 'Medical Masks & Gloves', 'Liquid Hand Soap',\n",
       "       'Contact Lens Solution', 'Pistachios', 'Bath Additives',\n",
       "       'Hair Removal Cream', 'Conditioner', 'Hummus',\n",
       "       'Gender Neutral Deodorant & Antiperspirant',\n",
       "       'Topical & Muscular Medicines & Treatments',\n",
       "       'Menstrual Care Liners', 'Digestive Health Medicines & Treatments',\n",
       "       'Pork Skins', 'Eye Drops', 'Ranch Dip', 'Anti-Fungal Foot Care',\n",
       "       'Acne Treatments & Kits', 'Gum', 'Hair Removal Accessories',\n",
       "       'Bar Soap', 'Fruit Rolls & Twists', 'Rice Treats', 'Peanuts',\n",
       "       'Bath Brushes', 'Flavored Pretzels', 'Ointments & Liquids',\n",
       "       'Danishes & Puffs Snack Cakes', 'Adult Incontinence Underwear',\n",
       "       'Dried Vegetables', 'Body Oil', 'Callus Cushions & Paddings',\n",
       "       'After Shave', 'Cheese Crackers', 'Smoking Cessation',\n",
       "       'Sparkling Water', 'Menstrual Care Cups',\n",
       "       'Cough & Cold Medicines & Treatments', 'Traditional Pretzels',\n",
       "       'Facial Cleansing Kits', 'Adult Incontinence Liners',\n",
       "       'Bagel & Pita Chips', 'Mouthwash',\n",
       "       'Menstrual Care Treatments & Cleansers',\n",
       "       'Shampoo & Conditioner Combinations',\n",
       "       'Pain & Fever Medicines & Treatments', 'Breakfast Cereal',\n",
       "       'Dried Meat Sticks', 'Canned & Whipped Cream',\n",
       "       \"Women's Deodorant & Antiperspirant\", 'Cashews', 'Dip Mixes',\n",
       "       'Salsa', 'Cakes & Truffles Snack Cakes', 'Other Crackers',\n",
       "       'Hair Loss Prevention', 'Ready-to-Eat Gelatin', 'Tampons',\n",
       "       'Shirts & Tops', 'Cola', 'Meal Replacement Bars',\n",
       "       'Adult Incontinence Furniture Pads',\n",
       "       'Adult Incontinence Bladder Supports', 'Menstrual Care Pads',\n",
       "       'Other Dips', 'Animal Crackers', 'Shampoo & Conditioner Co-Pack',\n",
       "       'Sandwich Crackers', 'Ear Drops', 'Thermometers & Accesories',\n",
       "       'Dry Shampoo', 'Adult Incontinence Pads', 'Other Nuts',\n",
       "       'Corn & Rice Cakes', 'Ready-to-Eat Pudding', 'Waxing & Strips',\n",
       "       'Chews & Gels', 'Covered Pretzels', 'Contraceptives',\n",
       "       'Asthma Treatments', 'First Aid Kits', 'Soda', 'Petroleum Jelly',\n",
       "       'Graham Crackers', 'Guacamole', 'Cotton Swabs',\n",
       "       'Whole Grain Chips', 'Lice Treatment', 'Saltine Crackers',\n",
       "       'Muffin Snack Cakes', 'Skin Toners & Astringents',\n",
       "       'Shredded & Grated Cheese', 'Activewear', 'Shots',\n",
       "       'Food & Beverage Carriers', 'French Onion Dip', 'Wart Removers',\n",
       "       'Skin Insect Repellent', 'Cheese Dip', 'Bean Dip',\n",
       "       'Butter Crackers', 'Ice Cream Cones', 'Sliced Cheese',\n",
       "       'Breath Strips & Sprays', 'Powdered Hand Soap', 'Sparkling Wines',\n",
       "       'Mushrooms', 'Jock Itch', 'Household Cleaning Products',\n",
       "       'Hard Seltzer & Still Water', 'Lager', 'Cheese Snacks',\n",
       "       'Filled Pretzels', 'Eyeglass Cleaning Kits', 'Cheese Blocks',\n",
       "       'Fresh Fish', 'Microwavable Sides', 'Prepared Snack Pack',\n",
       "       'Sleepwear & Loungewear', 'Red Wine', 'White Wine',\n",
       "       'Sweaters & Sweatshirts', 'Watches & Accessories',\n",
       "       'Vibration Exercise Machines', 'Microwavable Entrees', 'Club Soda',\n",
       "       'Contraceptive Cases', 'Prescription Lenses', 'Non-Alcoholic Beer',\n",
       "       'Rosé', 'Dry Pasta', 'Ready-to-Eat Dessert Cups',\n",
       "       'Kitchen Appliances', 'Prescription Medications',\n",
       "       'Packaged Pineapple', 'Fresh Grapes', 'Soy & Fish Sauce',\n",
       "       'Frozen Non-Dairy Dessert', 'Applesauce',\n",
       "       'Packaged Mixed Fruit & Cocktail', 'Packaged Pears',\n",
       "       'Fresh Citrus Fruits', 'Frozen Dairy Desserts', 'Vodka',\n",
       "       'Baking Ingredients', 'Gymnastics', 'Dessert Dips', 'Hats',\n",
       "       'Seeds & Bulbs', 'Packaged Peaches', 'Ale',\n",
       "       'Non-Alchoholic Cocktail Mixers', 'Underwear & Socks',\n",
       "       'Scarves & Shawls', 'Purified Water', 'Stovetop & Oven Entrees',\n",
       "       'Teriyaki Sauce', 'Frozen Pizza Rolls', 'Tableware',\n",
       "       'Jellies, Jams, & Preserves', 'Ready-To-Drink Coffee',\n",
       "       'Coconut Water', 'Granola', 'Bottoms', 'Audio Players & Recorders',\n",
       "       'Aquariums & Accessories', 'Lip Makeup', 'Stopwatches',\n",
       "       'Cream Cheese & Spreads', 'Pasta Sauce', 'Baby & Toddler Clothing',\n",
       "       'Outerwear', 'Soccer', 'Hardware Accessories', 'Peanut Butter',\n",
       "       'Grape Juice', 'Clocks', 'Cranberry Juice',\n",
       "       'Sparkling Fruit Juice', 'Fresh Shellfish', 'Play Vehicles',\n",
       "       'Snacks & Sides', 'AV Carts', 'Toy Gift Baskets', 'Barware',\n",
       "       'Frozen Seafood', 'Fresh Cauliflower', 'Fresh Peppers',\n",
       "       'Toaster Pastries', 'Yoga & Pilates', 'Broth, Bouillon, & Stock',\n",
       "       'Non-Dairy Cheese', 'Coffee Pods', 'Packaged Salmon', 'Sushi',\n",
       "       'Chair Mats', 'Packaged Tuna', 'Vegetable Medley', 'Pickles',\n",
       "       'Oatmeal & Hot Cereal', 'Dolls, Playsets & Toy Figures',\n",
       "       'Camping & Hiking', 'Bowling', 'Sugars & Sweeteners',\n",
       "       'Spices & Seasonings', 'Art & Crafting Materials',\n",
       "       'Fresh Cherries', 'Flameless Candles', 'Cereal',\n",
       "       'Frozen Other Appetizers', 'Food Storage Containers', 'Iced Teas',\n",
       "       'Vehicle Fluids', 'Prepared Cocktails', 'Cookware & Bakeware',\n",
       "       'Slushies & Icees', 'Clock Parts', 'Milk',\n",
       "       'Kitchen Tools & Utensils', 'Corn', 'Slot Machines',\n",
       "       'Throwing Darts', 'Prescription Glasses Frames',\n",
       "       'Baby Activity Toys', 'Weighted Clothing', 'Sunglasses',\n",
       "       'Outdoor Living', 'Fuel Containers & Tanks', 'Beans',\n",
       "       'Lemonade & Limeade', 'Tonic Water', 'Chair & Sofa Cushions',\n",
       "       'Seasonal & Holiday Decorations', 'Beer Variety Packs',\n",
       "       'Decorative Trays', 'Wind-Up Toys', 'Cocktail Sauces',\n",
       "       'Fresh Asparagus', 'Orange Juice', 'Flood & Spot Lights',\n",
       "       'Chalkboards', 'Hot Sauce', 'Emergency Tools & Kits',\n",
       "       'Snow Removal', 'Maternity Clothing', 'Oils & Sprays',\n",
       "       'Crumbled Cheese', 'Packaged Cherries', 'Fresh Melons',\n",
       "       'Tomato Juice', 'Sours & Fruit Beer', 'Carrots', 'Gift Giving',\n",
       "       'Potatoes', 'Baby Food Prep & Accessories', 'Decorative Plaques',\n",
       "       'Lemon & Lime Juice', 'Novelty Signs', 'Peas', 'Hard Sodas',\n",
       "       'Climate Control Appliances', 'Cycling', 'Non-Dairy Cream',\n",
       "       'Headwear & Accessories', 'Hoisin', 'Moving & Shipping Boxes',\n",
       "       'Peanut Butter Alternatives', 'Frozen French Fries',\n",
       "       'Baby Carriers'], dtype=object)"
      ]
     },
     "execution_count": 102,
     "metadata": {},
     "output_type": "execute_result"
    }
   ],
   "source": [
    "products.CATEGORY_3.unique()\n"
   ]
  },
  {
   "cell_type": "code",
   "execution_count": 118,
   "id": "c0325a24-0bfc-4d36-833e-f776a03128cd",
   "metadata": {},
   "outputs": [
    {
     "data": {
      "text/plain": [
       "344"
      ]
     },
     "execution_count": 118,
     "metadata": {},
     "output_type": "execute_result"
    }
   ],
   "source": [
    "products.CATEGORY_3.nunique()\n"
   ]
  },
  {
   "cell_type": "code",
   "execution_count": 117,
   "id": "b4da0baa-d797-4af4-9ac4-728afcefbcef",
   "metadata": {},
   "outputs": [
    {
     "data": {
      "text/plain": [
       "CATEGORY_3\n",
       "Confection Candy                 7.256817\n",
       "Vitamins & Herbal Supplements    7.095668\n",
       "Chocolate Candy                  6.077815\n",
       "Hair Styling Products            2.605142\n",
       "Reading Glasses                  2.598008\n",
       "                                   ...   \n",
       "Fuel Containers & Tanks          0.000127\n",
       "Beans                            0.000127\n",
       "Dry Pasta                        0.000127\n",
       "Chair & Sofa Cushions            0.000127\n",
       "Baby Carriers                    0.000127\n",
       "Name: count, Length: 344, dtype: float64"
      ]
     },
     "execution_count": 117,
     "metadata": {},
     "output_type": "execute_result"
    }
   ],
   "source": [
    "products.CATEGORY_3.value_counts()/products.CATEGORY_3.notna().sum()*100\n"
   ]
  },
  {
   "cell_type": "code",
   "execution_count": 121,
   "id": "0cbe0966-eacd-4cb3-ba6d-eb47e485c40f",
   "metadata": {},
   "outputs": [
    {
     "data": {
      "text/plain": [
       "CATEGORY_3\n",
       "Confection Candy                 56965\n",
       "Vitamins & Herbal Supplements    55700\n",
       "Chocolate Candy                  47710\n",
       "Hair Styling Products            20450\n",
       "Reading Glasses                  20394\n",
       "Name: count, dtype: int64"
      ]
     },
     "execution_count": 121,
     "metadata": {},
     "output_type": "execute_result"
    }
   ],
   "source": [
    "products.CATEGORY_3.value_counts().head()"
   ]
  },
  {
   "cell_type": "code",
   "execution_count": 103,
   "id": "0d875d79-b933-45fc-ab40-34873a14f761",
   "metadata": {},
   "outputs": [
    {
     "data": {
      "text/plain": [
       "array([nan, 'Hair Brushes & Combs', \"Women's Shaving Gel & Cream\",\n",
       "       'Lip Balms', 'Already Popped Popcorn', \"Men's Razors\",\n",
       "       'Snoring Aids', 'Popcorn Kernels & Popcorn Seasonings',\n",
       "       'Sleep Aids', 'Hair Straighteners', 'Medicated Lip Treatments',\n",
       "       'Nausea & Motion Sickness Medicines & Treatments',\n",
       "       \"Women's Razors\", 'Flavored Sparkling Water', 'Immune Support',\n",
       "       'Constipation Relief Medicines & Treatments',\n",
       "       'Cold & Flu Medicines & Treatments',\n",
       "       'Anti Diarrheal Medicines & Treatments', 'Cough Drops & Lozenges',\n",
       "       'Water Pills', 'Microwave Popcorn',\n",
       "       'Cough & Chest Congestion Medicines & Treatments',\n",
       "       'Heartburn & Antacids Medicines & Treatments', 'Regular Cola',\n",
       "       'Diet Cola', 'Sore Throat Medicines & Treatments',\n",
       "       'Gas Relief Medicines & Treatments', 'Diet Soda', 'Vapors & Rubs',\n",
       "       \"Men's Shaving Gel & Cream\", 'Skin Toners',\n",
       "       'Lactose Intolerance Medicines & Treatments', 'Water Bottles',\n",
       "       'Unflavored Sparkling Water', 'Hair Dryers', 'Orange Soda',\n",
       "       'Gender Neutral Razors', 'Ginger Ale', 'Natural Sliced Cheese',\n",
       "       'Sparkling Wine', 'Oven & Grill Cleaners', 'American Lager',\n",
       "       'Individually Packaged Cheese Snacks', 'Astringents',\n",
       "       'Imported Lager', 'Zero Sugar Cola', 'Lemon-Lime Soda',\n",
       "       'Microwavable Non-Potato Sides', 'Red Blend',\n",
       "       'Pinot Gris & Pinot Grigio', 'Pinot Noir', 'Pre-Cut Cheese Snacks',\n",
       "       'Rosé & Blends', 'Gender Neutral Shaving Gel & Cream',\n",
       "       'White Moscato', 'Refrigerators', 'Chardonnay', 'Sherbet',\n",
       "       'Syrah/Shiraz', 'Ice Cream', 'Pie Crust & Pie Filling',\n",
       "       'Drink Sleeves', 'Root Beer', 'White Zinfandel', 'Stout Ale',\n",
       "       'Margarita Mix', 'Prosecco', 'Underwear', 'Riesling',\n",
       "       'Purified Unflavored Water', 'Stovetop Macaroni & Cheese',\n",
       "       'Other Whites', 'Other Non-Alchoholic Cocktail Mixers',\n",
       "       'Drinkware', 'Cabernet Sauvignon', 'Other Red Wines', 'Lip Gloss',\n",
       "       'Cheese Spreads', 'Red Pasta Sauce', 'Baby & Toddler Tops', 'Tops',\n",
       "       'Purified Flavored Water', 'Frozen Dairy Novelties',\n",
       "       'Tool Storage & Organization', 'Wall Clocks', 'Grape Soda',\n",
       "       'Bottle Caps', 'Frozen Fish Fillets', 'Socks', 'White Blend',\n",
       "       'Yoga & Pilates Mats', 'Coolers', 'Merlot',\n",
       "       'Specialty & Cream Sodas', 'Frozen Shellfish', 'Corn Syrup',\n",
       "       'White Merlot', 'Breadcrumbs & Coatings',\n",
       "       'Craft Paint, Ink & Glaze', 'Sauvignon Blanc',\n",
       "       'Baby & Toddler Socks & Tights', 'Meal Kits', 'Zinfandel',\n",
       "       'Champagne', 'Cookware', 'Coconut Milk', 'Pancake & Waffle Syrup',\n",
       "       'Kitchen Organizers', 'Textiles', 'Ramen & Instant Noodles',\n",
       "       'Honey', 'Seasoning Blends', 'Holiday Ornaments',\n",
       "       'Salt & Pepper Shakers', 'Malbec',\n",
       "       'Garlic & Onion Spices & Seasonings', 'Chili Sauce',\n",
       "       'Ice Scrapers & Snow Brushes', 'Other Cooking & Baking Oils',\n",
       "       'Wasabi', 'Dinnerware', 'Regular Soda', 'Beverage Warmers',\n",
       "       'Humidifiers', 'Replacement Drink Lids', 'Baby & Toddler Outfits',\n",
       "       'Variety Pack Sodas', 'Spices'], dtype=object)"
      ]
     },
     "execution_count": 103,
     "metadata": {},
     "output_type": "execute_result"
    }
   ],
   "source": [
    "products.CATEGORY_4.unique()\n"
   ]
  },
  {
   "cell_type": "code",
   "execution_count": 122,
   "id": "beb314b3-469c-4e3e-8783-ecde9f92f839",
   "metadata": {},
   "outputs": [
    {
     "data": {
      "text/plain": [
       "127"
      ]
     },
     "execution_count": 122,
     "metadata": {},
     "output_type": "execute_result"
    }
   ],
   "source": [
    "products.CATEGORY_4.nunique()\n"
   ]
  },
  {
   "cell_type": "code",
   "execution_count": 129,
   "id": "32ca01b1-6117-4de7-995e-8f2c08e0a648",
   "metadata": {},
   "outputs": [
    {
     "data": {
      "text/plain": [
       "64.6570509494656"
      ]
     },
     "execution_count": 129,
     "metadata": {},
     "output_type": "execute_result"
    }
   ],
   "source": [
    "products.CATEGORY_4.value_counts().head(10).sum()/products.CATEGORY_4.notna().sum()*100\n"
   ]
  },
  {
   "cell_type": "code",
   "execution_count": 135,
   "id": "aecbd9fb-c50e-4e2d-a544-9248441ec9ce",
   "metadata": {},
   "outputs": [
    {
     "data": {
      "text/html": [
       "<div>\n",
       "<style scoped>\n",
       "    .dataframe tbody tr th:only-of-type {\n",
       "        vertical-align: middle;\n",
       "    }\n",
       "\n",
       "    .dataframe tbody tr th {\n",
       "        vertical-align: top;\n",
       "    }\n",
       "\n",
       "    .dataframe thead th {\n",
       "        text-align: right;\n",
       "    }\n",
       "</style>\n",
       "<table border=\"1\" class=\"dataframe\">\n",
       "  <thead>\n",
       "    <tr style=\"text-align: right;\">\n",
       "      <th></th>\n",
       "      <th>CATEGORY_1</th>\n",
       "      <th>CATEGORY_2</th>\n",
       "      <th>CATEGORY_3</th>\n",
       "      <th>CATEGORY_4</th>\n",
       "      <th>MANUFACTURER</th>\n",
       "      <th>BRAND</th>\n",
       "      <th>BARCODE</th>\n",
       "    </tr>\n",
       "  </thead>\n",
       "  <tbody>\n",
       "    <tr>\n",
       "      <th>0</th>\n",
       "      <td>Health &amp; Wellness</td>\n",
       "      <td>Sexual Health</td>\n",
       "      <td>Conductivity Gels &amp; Lotions</td>\n",
       "      <td>NaN</td>\n",
       "      <td>NaN</td>\n",
       "      <td>NaN</td>\n",
       "      <td>7.964944e+11</td>\n",
       "    </tr>\n",
       "    <tr>\n",
       "      <th>1</th>\n",
       "      <td>Snacks</td>\n",
       "      <td>Puffed Snacks</td>\n",
       "      <td>Cheese Curls &amp; Puffs</td>\n",
       "      <td>NaN</td>\n",
       "      <td>NaN</td>\n",
       "      <td>NaN</td>\n",
       "      <td>2.327801e+10</td>\n",
       "    </tr>\n",
       "    <tr>\n",
       "      <th>2</th>\n",
       "      <td>Health &amp; Wellness</td>\n",
       "      <td>Hair Care</td>\n",
       "      <td>Hair Care Accessories</td>\n",
       "      <td>NaN</td>\n",
       "      <td>PLACEHOLDER MANUFACTURER</td>\n",
       "      <td>ELECSOP</td>\n",
       "      <td>4.618178e+11</td>\n",
       "    </tr>\n",
       "    <tr>\n",
       "      <th>3</th>\n",
       "      <td>Health &amp; Wellness</td>\n",
       "      <td>Oral Care</td>\n",
       "      <td>Toothpaste</td>\n",
       "      <td>NaN</td>\n",
       "      <td>COLGATE-PALMOLIVE</td>\n",
       "      <td>COLGATE</td>\n",
       "      <td>3.500047e+10</td>\n",
       "    </tr>\n",
       "    <tr>\n",
       "      <th>4</th>\n",
       "      <td>Health &amp; Wellness</td>\n",
       "      <td>Medicines &amp; Treatments</td>\n",
       "      <td>Essential Oils</td>\n",
       "      <td>NaN</td>\n",
       "      <td>MAPLE HOLISTICS AND HONEYDEW PRODUCTS INTERCHA...</td>\n",
       "      <td>MAPLE HOLISTICS</td>\n",
       "      <td>8.068109e+11</td>\n",
       "    </tr>\n",
       "  </tbody>\n",
       "</table>\n",
       "</div>"
      ],
      "text/plain": [
       "          CATEGORY_1              CATEGORY_2                   CATEGORY_3  \\\n",
       "0  Health & Wellness           Sexual Health  Conductivity Gels & Lotions   \n",
       "1             Snacks           Puffed Snacks         Cheese Curls & Puffs   \n",
       "2  Health & Wellness               Hair Care        Hair Care Accessories   \n",
       "3  Health & Wellness               Oral Care                   Toothpaste   \n",
       "4  Health & Wellness  Medicines & Treatments               Essential Oils   \n",
       "\n",
       "  CATEGORY_4                                       MANUFACTURER  \\\n",
       "0        NaN                                                NaN   \n",
       "1        NaN                                                NaN   \n",
       "2        NaN                           PLACEHOLDER MANUFACTURER   \n",
       "3        NaN                                  COLGATE-PALMOLIVE   \n",
       "4        NaN  MAPLE HOLISTICS AND HONEYDEW PRODUCTS INTERCHA...   \n",
       "\n",
       "             BRAND       BARCODE  \n",
       "0              NaN  7.964944e+11  \n",
       "1              NaN  2.327801e+10  \n",
       "2          ELECSOP  4.618178e+11  \n",
       "3          COLGATE  3.500047e+10  \n",
       "4  MAPLE HOLISTICS  8.068109e+11  "
      ]
     },
     "execution_count": 135,
     "metadata": {},
     "output_type": "execute_result"
    }
   ],
   "source": [
    "products.head()"
   ]
  },
  {
   "cell_type": "code",
   "execution_count": 134,
   "id": "f045e939-74fc-4f97-83d0-2b6a66cfe146",
   "metadata": {},
   "outputs": [
    {
     "data": {
      "text/plain": [
       "Index(['CATEGORY_1', 'CATEGORY_2', 'CATEGORY_3', 'CATEGORY_4', 'MANUFACTURER',\n",
       "       'BRAND', 'BARCODE'],\n",
       "      dtype='object')"
      ]
     },
     "execution_count": 134,
     "metadata": {},
     "output_type": "execute_result"
    }
   ],
   "source": [
    "products.columns"
   ]
  },
  {
   "cell_type": "code",
   "execution_count": 139,
   "id": "e9cb78dc-508e-4aa3-b991-a339f59971ef",
   "metadata": {},
   "outputs": [
    {
     "data": {
      "text/plain": [
       "4354"
      ]
     },
     "execution_count": 139,
     "metadata": {},
     "output_type": "execute_result"
    }
   ],
   "source": [
    "products.MANUFACTURER.nunique()"
   ]
  },
  {
   "cell_type": "code",
   "execution_count": 141,
   "id": "1cf301f7-7214-455d-887b-f7471de52b6b",
   "metadata": {},
   "outputs": [
    {
     "data": {
      "text/plain": [
       "MANUFACTURER\n",
       "PLACEHOLDER MANUFACTURER             14.037326\n",
       "PROCTER & GAMBLE                      3.402641\n",
       "REM MANUFACTURER                      3.361935\n",
       "UNILEVER                              2.724051\n",
       "L'OREAL                               2.697398\n",
       "                                       ...    \n",
       "INNO FOODS, INC.                      0.000162\n",
       "FLOWERWOOD NURSERY, INC.              0.000162\n",
       "PROGRESSIVE INTERNATIONAL CORP.       0.000162\n",
       "LEVINSOHN TEXTILE COMPANY             0.000162\n",
       "OUTDOOR PRODUCT INNOVATIONS, INC.     0.000162\n",
       "Name: count, Length: 4354, dtype: float64"
      ]
     },
     "execution_count": 141,
     "metadata": {},
     "output_type": "execute_result"
    }
   ],
   "source": [
    "products.MANUFACTURER.value_counts()/products.MANUFACTURER.notna().sum()*100"
   ]
  },
  {
   "cell_type": "code",
   "execution_count": 142,
   "id": "51dbc4d9-448e-403a-8d71-25d16b62e81d",
   "metadata": {},
   "outputs": [
    {
     "data": {
      "text/plain": [
       "8122"
      ]
     },
     "execution_count": 142,
     "metadata": {},
     "output_type": "execute_result"
    }
   ],
   "source": [
    "products.BRAND.nunique()"
   ]
  },
  {
   "cell_type": "code",
   "execution_count": 143,
   "id": "0fab4344-5d30-45b5-a3d8-3539cde4b6c9",
   "metadata": {},
   "outputs": [
    {
     "data": {
      "text/plain": [
       "BRAND\n",
       "REM BRAND          3.361924\n",
       "BRAND NOT KNOWN    2.750048\n",
       "PRIVATE LABEL      2.175325\n",
       "CVS                1.033792\n",
       "SEGO               0.780351\n",
       "                     ...   \n",
       "ALAGA              0.000162\n",
       "A PINATA 4 U       0.000162\n",
       "SQWINCHER          0.000162\n",
       "MOSISO             0.000162\n",
       "GATEWAY            0.000162\n",
       "Name: count, Length: 8122, dtype: float64"
      ]
     },
     "execution_count": 143,
     "metadata": {},
     "output_type": "execute_result"
    }
   ],
   "source": [
    "products.BRAND.value_counts()/products.BRAND.notna().sum()*100"
   ]
  },
  {
   "cell_type": "code",
   "execution_count": 145,
   "id": "91c6c7d5-7674-4fca-abad-476f1fe3ff01",
   "metadata": {},
   "outputs": [
    {
     "data": {
      "text/plain": [
       "array([7.96494408e+11, 2.32780110e+10, 4.61817824e+11, ...,\n",
       "       1.00167155e+11, 7.53907560e+10, 7.96793338e+11])"
      ]
     },
     "execution_count": 145,
     "metadata": {},
     "output_type": "execute_result"
    }
   ],
   "source": [
    "products.BARCODE.unique()"
   ]
  },
  {
   "cell_type": "code",
   "execution_count": 152,
   "id": "5c98dd52-f21c-40f8-adaf-2e211e95b10e",
   "metadata": {},
   "outputs": [
    {
     "data": {
      "text/plain": [
       "4025"
      ]
     },
     "execution_count": 152,
     "metadata": {},
     "output_type": "execute_result"
    }
   ],
   "source": [
    "products.BARCODE.isna().sum()"
   ]
  },
  {
   "cell_type": "code",
   "execution_count": 144,
   "id": "67c9cb57-bd87-4d1f-abd2-94ca1427b172",
   "metadata": {},
   "outputs": [
    {
     "data": {
      "text/plain": [
       "841342"
      ]
     },
     "execution_count": 144,
     "metadata": {},
     "output_type": "execute_result"
    }
   ],
   "source": [
    "products.BARCODE.nunique()"
   ]
  },
  {
   "cell_type": "code",
   "execution_count": 194,
   "id": "065a0cc9-17a6-494a-a286-ce5e1897fde3",
   "metadata": {},
   "outputs": [
    {
     "data": {
      "text/plain": [
       "BARCODE\n",
       "3423905.0     2\n",
       "3416105.0     2\n",
       "20146900.0    2\n",
       "3454206.0     2\n",
       "3462003.0     2\n",
       "             ..\n",
       "13468439.0    2\n",
       "3465608.0     2\n",
       "3424001.0     2\n",
       "20012274.0    2\n",
       "20259044.0    2\n",
       "Name: count, Length: 185, dtype: int64"
      ]
     },
     "execution_count": 194,
     "metadata": {},
     "output_type": "execute_result"
    }
   ],
   "source": [
    "products.BARCODE.value_counts().head(185)"
   ]
  },
  {
   "cell_type": "code",
   "execution_count": 193,
   "id": "011b6ead-5d67-4a4f-8907-47557fad22d7",
   "metadata": {},
   "outputs": [
    {
     "data": {
      "text/plain": [
       "0    7.964944e+11\n",
       "1    2.327801e+10\n",
       "2    4.618178e+11\n",
       "3    3.500047e+10\n",
       "4    8.068109e+11\n",
       "Name: BARCODE, dtype: float64"
      ]
     },
     "execution_count": 193,
     "metadata": {},
     "output_type": "execute_result"
    }
   ],
   "source": [
    "products.BARCODE.head()"
   ]
  },
  {
   "cell_type": "code",
   "execution_count": null,
   "id": "51569ca0-ab71-4921-b984-6737ed42aac0",
   "metadata": {},
   "outputs": [],
   "source": [
    "products.BARCODE.value_counts()/products.BARCODE.notna().sum()*100"
   ]
  },
  {
   "cell_type": "code",
   "execution_count": 150,
   "id": "d61776d7-172d-4242-bd4e-bb9c482321c4",
   "metadata": {},
   "outputs": [
    {
     "data": {
      "image/png": "[encoded data removed]",
      "text/plain": [
       "<Figure size 640x480 with 1 Axes>"
      ]
     },
     "metadata": {},
     "output_type": "display_data"
    }
   ],
   "source": [
    "plt.hist(products.BARCODE, bins=5)\n",
    "plt.xlabel('BARCODE')\n",
    "plt.ylabel('Frequency')\n",
    "plt.title('Distribution of BARCODE')\n",
    "plt.show()"
   ]
  },
  {
   "cell_type": "code",
   "execution_count": 206,
   "id": "634f4a73-e14e-45cf-8ef1-47de6766a2c4",
   "metadata": {},
   "outputs": [
    {
     "data": {
      "text/plain": [
       "BARCODE\n",
       "14    502091\n",
       "13    296376\n",
       "15     30144\n",
       "12      7591\n",
       "3       4025\n",
       "10      1907\n",
       "11      1762\n",
       "9        950\n",
       "8        570\n",
       "7         83\n",
       "16        44\n",
       "6          8\n",
       "5          1\n",
       "Name: count, dtype: int64"
      ]
     },
     "execution_count": 206,
     "metadata": {},
     "output_type": "execute_result"
    }
   ],
   "source": [
    "products[\"BARCODE\"].astype(str).str.len().value_counts()"
   ]
  },
  {
   "cell_type": "code",
   "execution_count": 210,
   "id": "08ceacf8-26c6-43b6-8b79-7bce78ab0e0b",
   "metadata": {},
   "outputs": [
    {
     "data": {
      "text/plain": [
       "BARCODE\n",
       "14    14.827420\n",
       "13     8.752381\n",
       "15     0.890193\n",
       "12     0.224172\n",
       "3      0.118864\n",
       "10     0.056316\n",
       "11     0.052034\n",
       "9      0.028055\n",
       "8      0.016833\n",
       "7      0.002451\n",
       "16     0.001299\n",
       "6      0.000236\n",
       "5      0.000030\n",
       "Name: count, dtype: float64"
      ]
     },
     "execution_count": 210,
     "metadata": {},
     "output_type": "execute_result"
    }
   ],
   "source": [
    "products[\"BARCODE\"].astype(str).str.len().value_counts()/3386233*100"
   ]
  },
  {
   "cell_type": "code",
   "execution_count": 211,
   "id": "0e06a15d-9780-44a4-9bc0-9ffdd5fcdd2d",
   "metadata": {},
   "outputs": [
    {
     "data": {
      "text/plain": [
       "BARCODE\n",
       "14    14.827420\n",
       "13     8.752381\n",
       "15     0.890193\n",
       "12     0.224172\n",
       "3      0.118864\n",
       "Name: count, dtype: float64"
      ]
     },
     "execution_count": 211,
     "metadata": {},
     "output_type": "execute_result"
    }
   ],
   "source": [
    "products[\"BARCODE\"].astype(str).str.len().value_counts().head()/3386233*100"
   ]
  },
  {
   "cell_type": "code",
   "execution_count": 207,
   "id": "44c18de7-7cf5-4925-873a-689c850728b3",
   "metadata": {},
   "outputs": [
    {
     "data": {
      "text/plain": [
       "3386233"
      ]
     },
     "execution_count": 207,
     "metadata": {},
     "output_type": "execute_result"
    }
   ],
   "source": [
    "products[\"BARCODE\"].notna().astype(str).str.len().sum()"
   ]
  },
  {
   "cell_type": "code",
   "execution_count": 220,
   "id": "88a4ab9d-8c07-4fcb-a5f3-a005380990af",
   "metadata": {},
   "outputs": [
    {
     "data": {
      "text/plain": [
       "0          True\n",
       "1         False\n",
       "2          True\n",
       "3         False\n",
       "4          True\n",
       "          ...  \n",
       "845547     True\n",
       "845548    False\n",
       "845549     True\n",
       "845550    False\n",
       "845551     True\n",
       "Name: BARCODE, Length: 845552, dtype: bool"
      ]
     },
     "execution_count": 220,
     "metadata": {},
     "output_type": "execute_result"
    }
   ],
   "source": [
    "products[\"BARCODE\"].astype(str).str.len()>13"
   ]
  },
  {
   "cell_type": "code",
   "execution_count": 222,
   "id": "bb88fe95-b080-481f-92da-efaf134dd6ca",
   "metadata": {},
   "outputs": [
    {
     "data": {
      "text/plain": [
       "0         7.964944e+11\n",
       "2         4.618178e+11\n",
       "4         8.068109e+11\n",
       "5         6.626585e+11\n",
       "6         6.177376e+11\n",
       "              ...     \n",
       "845542    8.844864e+11\n",
       "845543    8.125120e+11\n",
       "845547    7.223016e+11\n",
       "845549    1.001672e+11\n",
       "845551    7.967933e+11\n",
       "Name: BARCODE, Length: 532279, dtype: float64"
      ]
     },
     "execution_count": 222,
     "metadata": {},
     "output_type": "execute_result"
    }
   ],
   "source": [
    "products[\"BARCODE\"][products[\"BARCODE\"].astype(str).str.len()>13]"
   ]
  },
  {
   "cell_type": "markdown",
   "id": "a5937c56-2515-4bd4-86a8-8bf5e0a88b94",
   "metadata": {},
   "source": [
    "# Transactions EDA"
   ]
  },
  {
   "cell_type": "code",
   "execution_count": 270,
   "id": "88a78a67-bde1-443d-95a3-cff15c6a3374",
   "metadata": {},
   "outputs": [
    {
     "data": {
      "text/html": [
       "<div>\n",
       "<style scoped>\n",
       "    .dataframe tbody tr th:only-of-type {\n",
       "        vertical-align: middle;\n",
       "    }\n",
       "\n",
       "    .dataframe tbody tr th {\n",
       "        vertical-align: top;\n",
       "    }\n",
       "\n",
       "    .dataframe thead th {\n",
       "        text-align: right;\n",
       "    }\n",
       "</style>\n",
       "<table border=\"1\" class=\"dataframe\">\n",
       "  <thead>\n",
       "    <tr style=\"text-align: right;\">\n",
       "      <th></th>\n",
       "      <th>RECEIPT_ID</th>\n",
       "      <th>PURCHASE_DATE</th>\n",
       "      <th>SCAN_DATE</th>\n",
       "      <th>STORE_NAME</th>\n",
       "      <th>USER_ID</th>\n",
       "      <th>BARCODE</th>\n",
       "      <th>FINAL_QUANTITY</th>\n",
       "      <th>FINAL_SALE</th>\n",
       "    </tr>\n",
       "  </thead>\n",
       "  <tbody>\n",
       "    <tr>\n",
       "      <th>0</th>\n",
       "      <td>0000d256-4041-4a3e-adc4-5623fb6e0c99</td>\n",
       "      <td>2024-08-21</td>\n",
       "      <td>2024-08-21 14:19:06.539 Z</td>\n",
       "      <td>WALMART</td>\n",
       "      <td>63b73a7f3d310dceeabd4758</td>\n",
       "      <td>1.530001e+10</td>\n",
       "      <td>1.00</td>\n",
       "      <td></td>\n",
       "    </tr>\n",
       "    <tr>\n",
       "      <th>1</th>\n",
       "      <td>0001455d-7a92-4a7b-a1d2-c747af1c8fd3</td>\n",
       "      <td>2024-07-20</td>\n",
       "      <td>2024-07-20 09:50:24.206 Z</td>\n",
       "      <td>ALDI</td>\n",
       "      <td>62c08877baa38d1a1f6c211a</td>\n",
       "      <td>NaN</td>\n",
       "      <td>zero</td>\n",
       "      <td>1.49</td>\n",
       "    </tr>\n",
       "    <tr>\n",
       "      <th>2</th>\n",
       "      <td>00017e0a-7851-42fb-bfab-0baa96e23586</td>\n",
       "      <td>2024-08-18</td>\n",
       "      <td>2024-08-19 15:38:56.813 Z</td>\n",
       "      <td>WALMART</td>\n",
       "      <td>60842f207ac8b7729e472020</td>\n",
       "      <td>7.874223e+10</td>\n",
       "      <td>1.00</td>\n",
       "      <td></td>\n",
       "    </tr>\n",
       "    <tr>\n",
       "      <th>3</th>\n",
       "      <td>000239aa-3478-453d-801e-66a82e39c8af</td>\n",
       "      <td>2024-06-18</td>\n",
       "      <td>2024-06-19 11:03:37.468 Z</td>\n",
       "      <td>FOOD LION</td>\n",
       "      <td>63fcd7cea4f8442c3386b589</td>\n",
       "      <td>7.833997e+11</td>\n",
       "      <td>zero</td>\n",
       "      <td>3.49</td>\n",
       "    </tr>\n",
       "    <tr>\n",
       "      <th>4</th>\n",
       "      <td>00026b4c-dfe8-49dd-b026-4c2f0fd5c6a1</td>\n",
       "      <td>2024-07-04</td>\n",
       "      <td>2024-07-05 15:56:43.549 Z</td>\n",
       "      <td>RANDALLS</td>\n",
       "      <td>6193231ae9b3d75037b0f928</td>\n",
       "      <td>4.790050e+10</td>\n",
       "      <td>1.00</td>\n",
       "      <td></td>\n",
       "    </tr>\n",
       "    <tr>\n",
       "      <th>...</th>\n",
       "      <td>...</td>\n",
       "      <td>...</td>\n",
       "      <td>...</td>\n",
       "      <td>...</td>\n",
       "      <td>...</td>\n",
       "      <td>...</td>\n",
       "      <td>...</td>\n",
       "      <td>...</td>\n",
       "    </tr>\n",
       "    <tr>\n",
       "      <th>49995</th>\n",
       "      <td>b5cd61a9-8033-4913-a5c4-fb3f65e3a321</td>\n",
       "      <td>2024-08-21</td>\n",
       "      <td>2024-08-31 14:13:08.634 Z</td>\n",
       "      <td>TARGET</td>\n",
       "      <td>6154bcf098f885648de2f299</td>\n",
       "      <td>8.523911e+10</td>\n",
       "      <td>2.00</td>\n",
       "      <td>1.18</td>\n",
       "    </tr>\n",
       "    <tr>\n",
       "      <th>49996</th>\n",
       "      <td>e1b2f634-c9ad-4152-b662-4b22efc25862</td>\n",
       "      <td>2024-08-11</td>\n",
       "      <td>2024-08-11 18:15:56.736 Z</td>\n",
       "      <td>STOP &amp; SHOP</td>\n",
       "      <td>60aa809f188b926b2244c974</td>\n",
       "      <td>4.610040e+10</td>\n",
       "      <td>1.00</td>\n",
       "      <td>2.00</td>\n",
       "    </tr>\n",
       "    <tr>\n",
       "      <th>49997</th>\n",
       "      <td>b07ef8dd-e444-40a2-819b-f74a3e5f1ae7</td>\n",
       "      <td>2024-07-11</td>\n",
       "      <td>2024-07-11 08:03:25.816 Z</td>\n",
       "      <td>WALMART</td>\n",
       "      <td>60bd26e83dc3b13a15c5f4e7</td>\n",
       "      <td>6.466300e+11</td>\n",
       "      <td>1.00</td>\n",
       "      <td>20.96</td>\n",
       "    </tr>\n",
       "    <tr>\n",
       "      <th>49998</th>\n",
       "      <td>42475141-bef4-4df2-aa37-72577e2512bb</td>\n",
       "      <td>2024-06-18</td>\n",
       "      <td>2024-06-18 19:57:32.211 Z</td>\n",
       "      <td>MARKET BASKET</td>\n",
       "      <td>6169912fac47744405af62b7</td>\n",
       "      <td>4.180050e+10</td>\n",
       "      <td>1.00</td>\n",
       "      <td>3.00</td>\n",
       "    </tr>\n",
       "    <tr>\n",
       "      <th>49999</th>\n",
       "      <td>3a179c4e-46f2-4126-b3d2-3514afc23a3e</td>\n",
       "      <td>2024-08-07</td>\n",
       "      <td>2024-08-07 15:30:07.911 Z</td>\n",
       "      <td>WALMART</td>\n",
       "      <td>64e94d64ca929250373ef6e1</td>\n",
       "      <td>3.076607e+11</td>\n",
       "      <td>1.00</td>\n",
       "      <td>5.48</td>\n",
       "    </tr>\n",
       "  </tbody>\n",
       "</table>\n",
       "<p>50000 rows × 8 columns</p>\n",
       "</div>"
      ],
      "text/plain": [
       "                                 RECEIPT_ID PURCHASE_DATE  \\\n",
       "0      0000d256-4041-4a3e-adc4-5623fb6e0c99    2024-08-21   \n",
       "1      0001455d-7a92-4a7b-a1d2-c747af1c8fd3    2024-07-20   \n",
       "2      00017e0a-7851-42fb-bfab-0baa96e23586    2024-08-18   \n",
       "3      000239aa-3478-453d-801e-66a82e39c8af    2024-06-18   \n",
       "4      00026b4c-dfe8-49dd-b026-4c2f0fd5c6a1    2024-07-04   \n",
       "...                                     ...           ...   \n",
       "49995  b5cd61a9-8033-4913-a5c4-fb3f65e3a321    2024-08-21   \n",
       "49996  e1b2f634-c9ad-4152-b662-4b22efc25862    2024-08-11   \n",
       "49997  b07ef8dd-e444-40a2-819b-f74a3e5f1ae7    2024-07-11   \n",
       "49998  42475141-bef4-4df2-aa37-72577e2512bb    2024-06-18   \n",
       "49999  3a179c4e-46f2-4126-b3d2-3514afc23a3e    2024-08-07   \n",
       "\n",
       "                       SCAN_DATE     STORE_NAME                   USER_ID  \\\n",
       "0      2024-08-21 14:19:06.539 Z        WALMART  63b73a7f3d310dceeabd4758   \n",
       "1      2024-07-20 09:50:24.206 Z           ALDI  62c08877baa38d1a1f6c211a   \n",
       "2      2024-08-19 15:38:56.813 Z        WALMART  60842f207ac8b7729e472020   \n",
       "3      2024-06-19 11:03:37.468 Z      FOOD LION  63fcd7cea4f8442c3386b589   \n",
       "4      2024-07-05 15:56:43.549 Z       RANDALLS  6193231ae9b3d75037b0f928   \n",
       "...                          ...            ...                       ...   \n",
       "49995  2024-08-31 14:13:08.634 Z         TARGET  6154bcf098f885648de2f299   \n",
       "49996  2024-08-11 18:15:56.736 Z    STOP & SHOP  60aa809f188b926b2244c974   \n",
       "49997  2024-07-11 08:03:25.816 Z        WALMART  60bd26e83dc3b13a15c5f4e7   \n",
       "49998  2024-06-18 19:57:32.211 Z  MARKET BASKET  6169912fac47744405af62b7   \n",
       "49999  2024-08-07 15:30:07.911 Z        WALMART  64e94d64ca929250373ef6e1   \n",
       "\n",
       "            BARCODE FINAL_QUANTITY FINAL_SALE  \n",
       "0      1.530001e+10           1.00             \n",
       "1               NaN           zero       1.49  \n",
       "2      7.874223e+10           1.00             \n",
       "3      7.833997e+11           zero       3.49  \n",
       "4      4.790050e+10           1.00             \n",
       "...             ...            ...        ...  \n",
       "49995  8.523911e+10           2.00       1.18  \n",
       "49996  4.610040e+10           1.00       2.00  \n",
       "49997  6.466300e+11           1.00      20.96  \n",
       "49998  4.180050e+10           1.00       3.00  \n",
       "49999  3.076607e+11           1.00       5.48  \n",
       "\n",
       "[50000 rows x 8 columns]"
      ]
     },
     "execution_count": 270,
     "metadata": {},
     "output_type": "execute_result"
    }
   ],
   "source": [
    "transactions = pd.read_csv('TRANSACTION_TAKEHOME.csv') \n",
    "transactions"
   ]
  },
  {
   "cell_type": "code",
   "execution_count": 271,
   "id": "c41c619f-f9df-4540-96d3-cf4889445d0e",
   "metadata": {},
   "outputs": [
    {
     "data": {
      "text/html": [
       "<div>\n",
       "<style scoped>\n",
       "    .dataframe tbody tr th:only-of-type {\n",
       "        vertical-align: middle;\n",
       "    }\n",
       "\n",
       "    .dataframe tbody tr th {\n",
       "        vertical-align: top;\n",
       "    }\n",
       "\n",
       "    .dataframe thead th {\n",
       "        text-align: right;\n",
       "    }\n",
       "</style>\n",
       "<table border=\"1\" class=\"dataframe\">\n",
       "  <thead>\n",
       "    <tr style=\"text-align: right;\">\n",
       "      <th></th>\n",
       "      <th>BARCODE</th>\n",
       "    </tr>\n",
       "  </thead>\n",
       "  <tbody>\n",
       "    <tr>\n",
       "      <th>count</th>\n",
       "      <td>4.423800e+04</td>\n",
       "    </tr>\n",
       "    <tr>\n",
       "      <th>mean</th>\n",
       "      <td>1.715863e+11</td>\n",
       "    </tr>\n",
       "    <tr>\n",
       "      <th>std</th>\n",
       "      <td>3.269219e+11</td>\n",
       "    </tr>\n",
       "    <tr>\n",
       "      <th>min</th>\n",
       "      <td>-1.000000e+00</td>\n",
       "    </tr>\n",
       "    <tr>\n",
       "      <th>25%</th>\n",
       "      <td>3.077212e+10</td>\n",
       "    </tr>\n",
       "    <tr>\n",
       "      <th>50%</th>\n",
       "      <td>5.210004e+10</td>\n",
       "    </tr>\n",
       "    <tr>\n",
       "      <th>75%</th>\n",
       "      <td>8.536765e+10</td>\n",
       "    </tr>\n",
       "    <tr>\n",
       "      <th>max</th>\n",
       "      <td>9.347108e+12</td>\n",
       "    </tr>\n",
       "  </tbody>\n",
       "</table>\n",
       "</div>"
      ],
      "text/plain": [
       "            BARCODE\n",
       "count  4.423800e+04\n",
       "mean   1.715863e+11\n",
       "std    3.269219e+11\n",
       "min   -1.000000e+00\n",
       "25%    3.077212e+10\n",
       "50%    5.210004e+10\n",
       "75%    8.536765e+10\n",
       "max    9.347108e+12"
      ]
     },
     "execution_count": 271,
     "metadata": {},
     "output_type": "execute_result"
    }
   ],
   "source": [
    "transactions.describe()"
   ]
  },
  {
   "cell_type": "code",
   "execution_count": 272,
   "id": "3733bef4-c988-4f3a-a159-f812bd032e7b",
   "metadata": {},
   "outputs": [
    {
     "name": "stdout",
     "output_type": "stream",
     "text": [
      "<class 'pandas.core.frame.DataFrame'>\n",
      "RangeIndex: 50000 entries, 0 to 49999\n",
      "Data columns (total 8 columns):\n",
      " #   Column          Non-Null Count  Dtype  \n",
      "---  ------          --------------  -----  \n",
      " 0   RECEIPT_ID      50000 non-null  object \n",
      " 1   PURCHASE_DATE   50000 non-null  object \n",
      " 2   SCAN_DATE       50000 non-null  object \n",
      " 3   STORE_NAME      50000 non-null  object \n",
      " 4   USER_ID         50000 non-null  object \n",
      " 5   BARCODE         44238 non-null  float64\n",
      " 6   FINAL_QUANTITY  50000 non-null  object \n",
      " 7   FINAL_SALE      50000 non-null  object \n",
      "dtypes: float64(1), object(7)\n",
      "memory usage: 3.1+ MB\n"
     ]
    }
   ],
   "source": [
    "transactions.info()"
   ]
  },
  {
   "cell_type": "code",
   "execution_count": 273,
   "id": "dff869b5-42e3-4976-a65a-c88d62f3019e",
   "metadata": {},
   "outputs": [
    {
     "data": {
      "text/plain": [
       "RECEIPT_ID         0.000\n",
       "PURCHASE_DATE      0.000\n",
       "SCAN_DATE          0.000\n",
       "STORE_NAME         0.000\n",
       "USER_ID            0.000\n",
       "BARCODE           11.524\n",
       "FINAL_QUANTITY     0.000\n",
       "FINAL_SALE         0.000\n",
       "dtype: float64"
      ]
     },
     "execution_count": 273,
     "metadata": {},
     "output_type": "execute_result"
    }
   ],
   "source": [
    "transactions.isna().sum()/transactions.shape[0]*100\n"
   ]
  },
  {
   "cell_type": "code",
   "execution_count": 274,
   "id": "872af41f-25dd-4466-b522-7ff0ff06148c",
   "metadata": {},
   "outputs": [
    {
     "data": {
      "text/plain": [
       "0"
      ]
     },
     "execution_count": 274,
     "metadata": {},
     "output_type": "execute_result"
    }
   ],
   "source": [
    "transactions.RECEIPT_ID.isna().sum()"
   ]
  },
  {
   "cell_type": "code",
   "execution_count": 275,
   "id": "6376bbbc-6c71-490a-b291-bf7a3c284349",
   "metadata": {},
   "outputs": [
    {
     "data": {
      "text/plain": [
       "24440"
      ]
     },
     "execution_count": 275,
     "metadata": {},
     "output_type": "execute_result"
    }
   ],
   "source": [
    "transactions.RECEIPT_ID.nunique()"
   ]
  },
  {
   "cell_type": "code",
   "execution_count": 276,
   "id": "4d317294-1b12-4e3c-9a5f-23b8519f35bf",
   "metadata": {},
   "outputs": [
    {
     "data": {
      "text/plain": [
       "25560"
      ]
     },
     "execution_count": 276,
     "metadata": {},
     "output_type": "execute_result"
    }
   ],
   "source": [
    "num_duplicates = transactions.duplicated(subset=['RECEIPT_ID']).sum()\n",
    "num_duplicates"
   ]
  },
  {
   "cell_type": "code",
   "execution_count": 277,
   "id": "b280f9f4-693f-4e12-bc61-1fe04df074e3",
   "metadata": {},
   "outputs": [
    {
     "data": {
      "text/plain": [
       "50000"
      ]
     },
     "execution_count": 277,
     "metadata": {},
     "output_type": "execute_result"
    }
   ],
   "source": [
    "25560+24440\n"
   ]
  },
  {
   "cell_type": "code",
   "execution_count": 278,
   "id": "be2f3a33-faa0-4630-8e22-9fc1717ddd02",
   "metadata": {},
   "outputs": [
    {
     "data": {
      "text/plain": [
       "RECEIPT_ID\n",
       "bedac253-2256-461b-96af-267748e6cecf    12\n",
       "bc304cd7-8353-4142-ac7f-f3ccec720cb3     8\n",
       "4ec870d2-c39f-4a40-bf8a-26a079409b20     8\n",
       "2acd7e8d-37df-4e51-8ee5-9a9c8c1d9711     8\n",
       "760c98da-5174-401f-a203-b839c4d406be     8\n",
       "                                        ..\n",
       "56a368e6-d677-459d-ba05-70a886c3126b     2\n",
       "56a0e14c-187c-43ec-96ab-b67ac5c197f1     2\n",
       "569f4be9-63d1-4afd-8ed5-d520ce85b878     2\n",
       "56946262-15b1-41fd-8814-fc544d35fc6c     2\n",
       "fffe8012-7dcf-4d84-b6c6-feaacab5074a     2\n",
       "Name: count, Length: 24440, dtype: int64"
      ]
     },
     "execution_count": 278,
     "metadata": {},
     "output_type": "execute_result"
    }
   ],
   "source": [
    "transactions.RECEIPT_ID.value_counts()"
   ]
  },
  {
   "cell_type": "code",
   "execution_count": 279,
   "id": "fe91cd34-6c4c-41a1-af76-06caaf91e09d",
   "metadata": {},
   "outputs": [
    {
     "name": "stdout",
     "output_type": "stream",
     "text": [
      "89\n",
      "0\n",
      "2024-06-12\n",
      "2024-09-08\n"
     ]
    }
   ],
   "source": [
    "print(transactions.PURCHASE_DATE.nunique())\n",
    "print(transactions.PURCHASE_DATE.isna().sum())\n",
    "print(transactions.PURCHASE_DATE.min())\n",
    "print(transactions.PURCHASE_DATE.max())\n"
   ]
  },
  {
   "cell_type": "code",
   "execution_count": 280,
   "id": "4a9d1d14-be06-4a89-bb93-85dfb3ab681b",
   "metadata": {},
   "outputs": [],
   "source": [
    "transactions['PURCHASE_DATE'] = pd.to_datetime(transactions['PURCHASE_DATE'])"
   ]
  },
  {
   "cell_type": "code",
   "execution_count": 281,
   "id": "63f4f0a6-e621-4faa-a66a-6fb8ad6204cd",
   "metadata": {},
   "outputs": [
    {
     "name": "stdout",
     "output_type": "stream",
     "text": [
      "<class 'pandas.core.frame.DataFrame'>\n",
      "RangeIndex: 50000 entries, 0 to 49999\n",
      "Data columns (total 8 columns):\n",
      " #   Column          Non-Null Count  Dtype         \n",
      "---  ------          --------------  -----         \n",
      " 0   RECEIPT_ID      50000 non-null  object        \n",
      " 1   PURCHASE_DATE   50000 non-null  datetime64[ns]\n",
      " 2   SCAN_DATE       50000 non-null  object        \n",
      " 3   STORE_NAME      50000 non-null  object        \n",
      " 4   USER_ID         50000 non-null  object        \n",
      " 5   BARCODE         44238 non-null  float64       \n",
      " 6   FINAL_QUANTITY  50000 non-null  object        \n",
      " 7   FINAL_SALE      50000 non-null  object        \n",
      "dtypes: datetime64[ns](1), float64(1), object(6)\n",
      "memory usage: 3.1+ MB\n"
     ]
    }
   ],
   "source": [
    "transactions.info()"
   ]
  },
  {
   "cell_type": "code",
   "execution_count": 282,
   "id": "2ea033c5-7436-43b1-9e2a-e497637a7b0c",
   "metadata": {},
   "outputs": [
    {
     "data": {
      "text/plain": [
       "PURCHASE_DATE\n",
       "7    18576\n",
       "8    17124\n",
       "6    10854\n",
       "9     3446\n",
       "Name: count, dtype: int64"
      ]
     },
     "execution_count": 282,
     "metadata": {},
     "output_type": "execute_result"
    }
   ],
   "source": [
    "transactions['PURCHASE_DATE'].dt.month.value_counts()"
   ]
  },
  {
   "cell_type": "code",
   "execution_count": 283,
   "id": "d6ded4fc-9bbb-469e-955f-1aa42e2369b9",
   "metadata": {},
   "outputs": [],
   "source": [
    "pdate_series = pd.Series(transactions.PURCHASE_DATE)"
   ]
  },
  {
   "cell_type": "code",
   "execution_count": 284,
   "id": "c5382a73-cd33-4334-b42d-c6a00b37713d",
   "metadata": {},
   "outputs": [
    {
     "data": {
      "image/png": "[encoded data removed]",
      "text/plain": [
       "<Figure size 640x480 with 1 Axes>"
      ]
     },
     "metadata": {},
     "output_type": "display_data"
    }
   ],
   "source": [
    "plt.hist(transactions['PURCHASE_DATE'].dt.month, bins=12)\n",
    "plt.xlabel('date')\n",
    "plt.ylabel('Frequency')\n",
    "plt.title('Distribution of date')\n",
    "plt.show()"
   ]
  },
  {
   "cell_type": "code",
   "execution_count": 285,
   "id": "46887c5d-aefa-4ea6-af89-cde271492919",
   "metadata": {},
   "outputs": [
    {
     "name": "stdout",
     "output_type": "stream",
     "text": [
      "24440\n",
      "0\n",
      "2024-06-12 06:36:34.910 Z\n",
      "2024-09-08 23:07:19.836 Z\n"
     ]
    }
   ],
   "source": [
    "print(transactions.SCAN_DATE.nunique())\n",
    "print(transactions.SCAN_DATE.isna().sum())\n",
    "print(transactions.SCAN_DATE.min())\n",
    "print(transactions.SCAN_DATE.max())"
   ]
  },
  {
   "cell_type": "code",
   "execution_count": 286,
   "id": "5fa5657a-7dde-4e30-ac84-d1e734511865",
   "metadata": {},
   "outputs": [
    {
     "data": {
      "text/plain": [
       "0"
      ]
     },
     "execution_count": 286,
     "metadata": {},
     "output_type": "execute_result"
    }
   ],
   "source": [
    "transactions.STORE_NAME.isna().sum()"
   ]
  },
  {
   "cell_type": "code",
   "execution_count": 287,
   "id": "46cc897d-47a3-4fc0-aab6-1deddbe90179",
   "metadata": {},
   "outputs": [
    {
     "data": {
      "text/plain": [
       "954"
      ]
     },
     "execution_count": 287,
     "metadata": {},
     "output_type": "execute_result"
    }
   ],
   "source": [
    "transactions.STORE_NAME.nunique()"
   ]
  },
  {
   "cell_type": "code",
   "execution_count": 288,
   "id": "688756f6-f03f-4bf6-9d8c-b73b3b9e4d86",
   "metadata": {},
   "outputs": [
    {
     "data": {
      "text/plain": [
       "17694"
      ]
     },
     "execution_count": 288,
     "metadata": {},
     "output_type": "execute_result"
    }
   ],
   "source": [
    "transactions.USER_ID.nunique()"
   ]
  },
  {
   "cell_type": "code",
   "execution_count": 289,
   "id": "4bb6f4b7-04d1-417a-9168-3c90cb54708f",
   "metadata": {},
   "outputs": [
    {
     "data": {
      "text/plain": [
       "STORE_NAME\n",
       "WALMART                   42.652\n",
       "DOLLAR GENERAL STORE       5.496\n",
       "ALDI                       5.280\n",
       "KROGER                     2.988\n",
       "TARGET                     2.968\n",
       "                           ...  \n",
       "SPIRITS                    0.004\n",
       "LA GLORIA SUPERMERCADO     0.004\n",
       "FARM FRESH                 0.004\n",
       "ALTA                       0.004\n",
       "PLATEAU TRAVEL CENTER      0.004\n",
       "Name: count, Length: 954, dtype: float64"
      ]
     },
     "execution_count": 289,
     "metadata": {},
     "output_type": "execute_result"
    }
   ],
   "source": [
    "transactions.STORE_NAME.value_counts()/transactions.STORE_NAME.notna().sum()*100"
   ]
  },
  {
   "cell_type": "code",
   "execution_count": 290,
   "id": "ccc08c38-ab81-4104-b556-05ca750df97a",
   "metadata": {},
   "outputs": [
    {
     "data": {
      "text/plain": [
       "11027"
      ]
     },
     "execution_count": 290,
     "metadata": {},
     "output_type": "execute_result"
    }
   ],
   "source": [
    "transactions.BARCODE.nunique()"
   ]
  },
  {
   "cell_type": "code",
   "execution_count": 291,
   "id": "58548852-8207-41c7-90f0-a88397e7fd02",
   "metadata": {},
   "outputs": [
    {
     "data": {
      "text/plain": [
       "38972"
      ]
     },
     "execution_count": 291,
     "metadata": {},
     "output_type": "execute_result"
    }
   ],
   "source": [
    "barcode_duplicates = transactions.duplicated(subset=['BARCODE']).sum()\n",
    "barcode_duplicates"
   ]
  },
  {
   "cell_type": "code",
   "execution_count": 292,
   "id": "5147e46c-5e1e-4b8c-98a5-788a1cc6f9a9",
   "metadata": {},
   "outputs": [
    {
     "data": {
      "text/plain": [
       "49999"
      ]
     },
     "execution_count": 292,
     "metadata": {},
     "output_type": "execute_result"
    }
   ],
   "source": [
    "11027+38972"
   ]
  },
  {
   "cell_type": "code",
   "execution_count": 293,
   "id": "1b3848d2-3c46-4627-b56a-dc7dbcec4134",
   "metadata": {},
   "outputs": [
    {
     "data": {
      "text/plain": [
       "BARCODE\n",
       "7.874222e+10    182\n",
       "5.111115e+11    168\n",
       "5.111110e+11    164\n",
       "7.874229e+10    158\n",
       "3.111112e+11    150\n",
       "               ... \n",
       "1.605611e+07      2\n",
       "2.220094e+10      2\n",
       "7.055220e+10      2\n",
       "7.137333e+11      2\n",
       "7.432310e+10      2\n",
       "Name: count, Length: 11027, dtype: int64"
      ]
     },
     "execution_count": 293,
     "metadata": {},
     "output_type": "execute_result"
    }
   ],
   "source": [
    "transactions.BARCODE.value_counts()"
   ]
  },
  {
   "cell_type": "code",
   "execution_count": 294,
   "id": "bf196d0b-9da7-486e-8a8a-dec9ee131317",
   "metadata": {},
   "outputs": [
    {
     "data": {
      "text/plain": [
       "87"
      ]
     },
     "execution_count": 294,
     "metadata": {},
     "output_type": "execute_result"
    }
   ],
   "source": [
    "transactions['FINAL_QUANTITY'].nunique()"
   ]
  },
  {
   "cell_type": "code",
   "execution_count": 295,
   "id": "32f248f0-ef2f-4e1b-acd2-bff204659175",
   "metadata": {},
   "outputs": [
    {
     "data": {
      "text/plain": [
       "FINAL_QUANTITY\n",
       "1.00    35698\n",
       "zero    12500\n",
       "2.00     1285\n",
       "3.00      184\n",
       "4.00      139\n",
       "        ...  \n",
       "6.22        1\n",
       "1.22        1\n",
       "1.23        1\n",
       "2.57        1\n",
       "2.27        1\n",
       "Name: count, Length: 87, dtype: int64"
      ]
     },
     "execution_count": 295,
     "metadata": {},
     "output_type": "execute_result"
    }
   ],
   "source": [
    "transactions['FINAL_QUANTITY'].value_counts()"
   ]
  },
  {
   "cell_type": "code",
   "execution_count": 296,
   "id": "f90f00c5-82a5-439d-a411-513bb6079925",
   "metadata": {},
   "outputs": [
    {
     "data": {
      "text/plain": [
       "0"
      ]
     },
     "execution_count": 296,
     "metadata": {},
     "output_type": "execute_result"
    }
   ],
   "source": [
    "transactions['FINAL_QUANTITY'].isna().sum()"
   ]
  },
  {
   "cell_type": "code",
   "execution_count": 297,
   "id": "9bf536c7-00fa-4948-9a5c-b59fbf1452b1",
   "metadata": {},
   "outputs": [],
   "source": [
    "transactions['FINAL_QUANTITY'] = pd.to_numeric(transactions['FINAL_QUANTITY'], errors='coerce')\n"
   ]
  },
  {
   "cell_type": "code",
   "execution_count": 298,
   "id": "9eca8cac-1f24-44a6-be17-11f2480f6cc7",
   "metadata": {},
   "outputs": [
    {
     "name": "stdout",
     "output_type": "stream",
     "text": [
      "<class 'pandas.core.frame.DataFrame'>\n",
      "RangeIndex: 50000 entries, 0 to 49999\n",
      "Data columns (total 8 columns):\n",
      " #   Column          Non-Null Count  Dtype         \n",
      "---  ------          --------------  -----         \n",
      " 0   RECEIPT_ID      50000 non-null  object        \n",
      " 1   PURCHASE_DATE   50000 non-null  datetime64[ns]\n",
      " 2   SCAN_DATE       50000 non-null  object        \n",
      " 3   STORE_NAME      50000 non-null  object        \n",
      " 4   USER_ID         50000 non-null  object        \n",
      " 5   BARCODE         44238 non-null  float64       \n",
      " 6   FINAL_QUANTITY  37500 non-null  float64       \n",
      " 7   FINAL_SALE      50000 non-null  object        \n",
      "dtypes: datetime64[ns](1), float64(2), object(5)\n",
      "memory usage: 3.1+ MB\n"
     ]
    }
   ],
   "source": [
    "transactions.info()"
   ]
  },
  {
   "cell_type": "code",
   "execution_count": 299,
   "id": "331dffe0-8e52-4631-b809-ba759c564ced",
   "metadata": {},
   "outputs": [
    {
     "data": {
      "text/plain": [
       "12500"
      ]
     },
     "execution_count": 299,
     "metadata": {},
     "output_type": "execute_result"
    }
   ],
   "source": [
    "transactions['FINAL_QUANTITY'].isna().sum()"
   ]
  },
  {
   "cell_type": "code",
   "execution_count": 302,
   "id": "d6f2a9b8-a60e-404e-bcc5-3825888d0d07",
   "metadata": {},
   "outputs": [
    {
     "data": {
      "text/plain": [
       "25.0"
      ]
     },
     "execution_count": 302,
     "metadata": {},
     "output_type": "execute_result"
    }
   ],
   "source": [
    "transactions['FINAL_QUANTITY'].isna().sum()/transactions.shape[0]*100"
   ]
  },
  {
   "cell_type": "code",
   "execution_count": 300,
   "id": "9f99e0e7-c60b-4b85-b1ca-e4a369a54afc",
   "metadata": {},
   "outputs": [
    {
     "data": {
      "text/plain": [
       "86"
      ]
     },
     "execution_count": 300,
     "metadata": {},
     "output_type": "execute_result"
    }
   ],
   "source": [
    "transactions['FINAL_QUANTITY'].nunique()"
   ]
  },
  {
   "cell_type": "code",
   "execution_count": 301,
   "id": "1e9c3cd7-c414-4ef6-87d1-3d7c99532382",
   "metadata": {},
   "outputs": [
    {
     "data": {
      "text/plain": [
       "FINAL_QUANTITY\n",
       "1.00    35698\n",
       "2.00     1285\n",
       "3.00      184\n",
       "4.00      139\n",
       "6.00       26\n",
       "        ...  \n",
       "6.22        1\n",
       "1.22        1\n",
       "1.23        1\n",
       "2.57        1\n",
       "2.27        1\n",
       "Name: count, Length: 86, dtype: int64"
      ]
     },
     "execution_count": 301,
     "metadata": {},
     "output_type": "execute_result"
    }
   ],
   "source": [
    "transactions['FINAL_QUANTITY'].value_counts()"
   ]
  },
  {
   "cell_type": "code",
   "execution_count": 303,
   "id": "e787f4dd-2a68-4219-b019-cd6bf802a9f7",
   "metadata": {},
   "outputs": [
    {
     "data": {
      "text/plain": [
       "count    37500.000000\n",
       "mean         1.085902\n",
       "std          2.056250\n",
       "min          0.010000\n",
       "25%          1.000000\n",
       "50%          1.000000\n",
       "75%          1.000000\n",
       "max        276.000000\n",
       "Name: FINAL_QUANTITY, dtype: float64"
      ]
     },
     "execution_count": 303,
     "metadata": {},
     "output_type": "execute_result"
    }
   ],
   "source": [
    "transactions['FINAL_QUANTITY'].describe()"
   ]
  },
  {
   "cell_type": "code",
   "execution_count": 305,
   "id": "dcbad11f-6f18-4aa9-afeb-45e44475298d",
   "metadata": {},
   "outputs": [
    {
     "data": {
      "text/plain": [
       "0        \n",
       "1    1.49\n",
       "2        \n",
       "3    3.49\n",
       "4        \n",
       "Name: FINAL_SALE, dtype: object"
      ]
     },
     "execution_count": 305,
     "metadata": {},
     "output_type": "execute_result"
    }
   ],
   "source": [
    "transactions['FINAL_SALE'].head()"
   ]
  },
  {
   "cell_type": "code",
   "execution_count": 306,
   "id": "6c123314-1d6e-43d1-886e-ad42c086d14f",
   "metadata": {},
   "outputs": [
    {
     "data": {
      "text/plain": [
       "count     50000\n",
       "unique     1435\n",
       "top            \n",
       "freq      12500\n",
       "Name: FINAL_SALE, dtype: object"
      ]
     },
     "execution_count": 306,
     "metadata": {},
     "output_type": "execute_result"
    }
   ],
   "source": [
    "summary_stats_sale = transactions['FINAL_SALE'].describe()\n",
    "summary_stats_sale"
   ]
  },
  {
   "cell_type": "code",
   "execution_count": 307,
   "id": "2cb5f8f1-4585-4102-81c1-9cd7af7eeaba",
   "metadata": {},
   "outputs": [
    {
     "data": {
      "text/plain": [
       "0"
      ]
     },
     "execution_count": 307,
     "metadata": {},
     "output_type": "execute_result"
    }
   ],
   "source": [
    "\n",
    "# Count missing values\n",
    "missing_values_sale = transactions['FINAL_SALE'].isna().sum()\n",
    "missing_values_sale"
   ]
  },
  {
   "cell_type": "code",
   "execution_count": 308,
   "id": "614ccb7f-8896-460c-8ad6-07c88bd405d6",
   "metadata": {},
   "outputs": [
    {
     "data": {
      "text/plain": [
       "1435"
      ]
     },
     "execution_count": 308,
     "metadata": {},
     "output_type": "execute_result"
    }
   ],
   "source": [
    "\n",
    "\n",
    "# Count unique values\n",
    "unique_values_sale = transactions['FINAL_SALE'].nunique()\n",
    "\n",
    "unique_values_sale"
   ]
  },
  {
   "cell_type": "code",
   "execution_count": 310,
   "id": "3eb564e4-cf09-40b5-a2e9-2468dcf4ee20",
   "metadata": {},
   "outputs": [],
   "source": [
    "transactions['FINAL_SALE'] = pd.to_numeric(transactions['FINAL_SALE'], errors='coerce')\n"
   ]
  },
  {
   "cell_type": "code",
   "execution_count": 311,
   "id": "507c81f3-90a3-4f55-8efe-ec5b624c4986",
   "metadata": {},
   "outputs": [
    {
     "data": {
      "text/plain": [
       "0     NaN\n",
       "1    1.49\n",
       "2     NaN\n",
       "3    3.49\n",
       "4     NaN\n",
       "Name: FINAL_SALE, dtype: float64"
      ]
     },
     "execution_count": 311,
     "metadata": {},
     "output_type": "execute_result"
    }
   ],
   "source": [
    "transactions['FINAL_SALE'].head()"
   ]
  },
  {
   "cell_type": "code",
   "execution_count": 312,
   "id": "a7c8f97d-3e03-4329-8c61-2b0578092151",
   "metadata": {},
   "outputs": [
    {
     "data": {
      "text/plain": [
       "count    37500.000000\n",
       "mean         4.576384\n",
       "std          6.625663\n",
       "min          0.000000\n",
       "25%          1.790000\n",
       "50%          3.000000\n",
       "75%          5.190000\n",
       "max        462.820000\n",
       "Name: FINAL_SALE, dtype: float64"
      ]
     },
     "execution_count": 312,
     "metadata": {},
     "output_type": "execute_result"
    }
   ],
   "source": [
    "summary_stats_sale = transactions['FINAL_SALE'].describe()\n",
    "summary_stats_sale"
   ]
  },
  {
   "cell_type": "code",
   "execution_count": 313,
   "id": "e81b767a-f90c-4474-8d1b-8dc4f98f5945",
   "metadata": {},
   "outputs": [
    {
     "data": {
      "text/plain": [
       "12500"
      ]
     },
     "execution_count": 313,
     "metadata": {},
     "output_type": "execute_result"
    }
   ],
   "source": [
    "# Count missing values\n",
    "missing_values_sale = transactions['FINAL_SALE'].isna().sum()\n",
    "missing_values_sale"
   ]
  },
  {
   "cell_type": "code",
   "execution_count": 315,
   "id": "24517bd8-7a4b-4cfb-ab7a-45c8540438de",
   "metadata": {},
   "outputs": [
    {
     "data": {
      "text/plain": [
       "25.0"
      ]
     },
     "execution_count": 315,
     "metadata": {},
     "output_type": "execute_result"
    }
   ],
   "source": [
    "missing_values_sale/transactions.shape[0]*100"
   ]
  },
  {
   "cell_type": "code",
   "execution_count": 314,
   "id": "e933a31c-d9ee-42cf-8a0f-201f98381edd",
   "metadata": {},
   "outputs": [
    {
     "data": {
      "text/plain": [
       "1434"
      ]
     },
     "execution_count": 314,
     "metadata": {},
     "output_type": "execute_result"
    }
   ],
   "source": [
    "\n",
    "# Count unique values\n",
    "unique_values_sale = transactions['FINAL_SALE'].nunique()\n",
    "\n",
    "unique_values_sale"
   ]
  },
  {
   "cell_type": "markdown",
   "id": "ed38f7d4-d97c-4bfd-9779-31eeb5a7c806",
   "metadata": {},
   "source": [
    "# Products vs Transactions"
   ]
  },
  {
   "cell_type": "code",
   "execution_count": null,
   "id": "ebeebf1a-4e2d-4bf4-8073-18836f6801d8",
   "metadata": {},
   "outputs": [],
   "source": []
  },
  {
   "cell_type": "code",
   "execution_count": 246,
   "id": "90da5501-6957-46d1-b712-13a7fab8f158",
   "metadata": {},
   "outputs": [
    {
     "name": "stdout",
     "output_type": "stream",
     "text": [
      "Barcodes in both DataFrames:\n",
      "                                 RECEIPT_ID PURCHASE_DATE  \\\n",
      "0      0000d256-4041-4a3e-adc4-5623fb6e0c99    2024-08-21   \n",
      "1      0001455d-7a92-4a7b-a1d2-c747af1c8fd3    2024-07-20   \n",
      "5      0002d8cd-1701-4cdd-a524-b70402e2dbc0    2024-06-24   \n",
      "7      00096c49-8b04-42f9-88ce-941c5e06c4a7    2024-08-19   \n",
      "9      0010d87d-1ad2-4e5e-9a25-cec736919d15    2024-08-04   \n",
      "...                                     ...           ...   \n",
      "49993  f6d3e61d-488d-448b-8148-8d681e55b3d2    2024-09-01   \n",
      "49994  6cdf3c1a-78b3-4fb0-85fd-52e2f5b4731c    2024-06-26   \n",
      "49996  e1b2f634-c9ad-4152-b662-4b22efc25862    2024-08-11   \n",
      "49997  b07ef8dd-e444-40a2-819b-f74a3e5f1ae7    2024-07-11   \n",
      "49999  3a179c4e-46f2-4126-b3d2-3514afc23a3e    2024-08-07   \n",
      "\n",
      "                       SCAN_DATE     STORE_NAME                   USER_ID  \\\n",
      "0      2024-08-21 14:19:06.539 Z        WALMART  63b73a7f3d310dceeabd4758   \n",
      "1      2024-07-20 09:50:24.206 Z           ALDI  62c08877baa38d1a1f6c211a   \n",
      "5      2024-06-24 19:44:54.247 Z        WALMART  5dcc6c510040a012b8e76924   \n",
      "7      2024-08-21 17:35:21.902 Z         TARGET  6144f4f1f3ef696919f54b5c   \n",
      "9      2024-08-04 18:01:47.787 Z           ALDI  66686fc2e04f743a096ea808   \n",
      "...                          ...            ...                       ...   \n",
      "49993  2024-09-06 08:03:54.617 Z         TARGET  61056fcc1efef449f0f39f7c   \n",
      "49994  2024-07-01 11:00:39.769 Z  HARRIS TEETER  5de7ec93ca63cc17893cdd14   \n",
      "49996  2024-08-11 18:15:56.736 Z    STOP & SHOP  60aa809f188b926b2244c974   \n",
      "49997  2024-07-11 08:03:25.816 Z        WALMART  60bd26e83dc3b13a15c5f4e7   \n",
      "49999  2024-08-07 15:30:07.911 Z        WALMART  64e94d64ca929250373ef6e1   \n",
      "\n",
      "            BARCODE FINAL_QUANTITY FINAL_SALE  \n",
      "0      1.530001e+10           1.00             \n",
      "1               NaN           zero       1.49  \n",
      "5      6.811314e+11           zero       1.46  \n",
      "7      7.830007e+10           zero       3.59  \n",
      "9               NaN           zero       2.29  \n",
      "...             ...            ...        ...  \n",
      "49993  8.523904e+10           1.00       3.46  \n",
      "49994           NaN           1.00       3.00  \n",
      "49996  4.610040e+10           1.00       2.00  \n",
      "49997  6.466300e+11           1.00      20.96  \n",
      "49999  3.076607e+11           1.00       5.48  \n",
      "\n",
      "[30592 rows x 8 columns]\n"
     ]
    }
   ],
   "source": [
    "# Find common barcodes\n",
    "common_barcodes = transactions['BARCODE'].isin(products['BARCODE'])\n",
    "\n",
    "# Filter transactions that have matching barcodes in products\n",
    "matching_transactions = transactions[common_barcodes]\n",
    "\n",
    "print(\"Barcodes in both DataFrames:\")\n",
    "print(matching_transactions)"
   ]
  },
  {
   "cell_type": "code",
   "execution_count": 236,
   "id": "9a75c5e9-d4c0-49a2-ae30-1df37b2934be",
   "metadata": {},
   "outputs": [
    {
     "name": "stdout",
     "output_type": "stream",
     "text": [
      "Number of common barcodes: 6562\n",
      "Common barcodes: {311111385093.0, 892327002122.0, 35000680464.0, 16000155664.0, 37695160344.0, 17000988702.0, 311111745569.0, 888849006632.0, 29000073258.0, 34000175147.0, 83791020075.0, 93808001072.0, 22000009265.0, 888849006649.0, 41167093818.0, 44276056125.0, 888849006656.0, 78742224961.0, 839977009224.0, 85239038031.0, 34856108115.0, 37000937555.0, 34856108122.0, 888849006687.0, 12000002144.0, 28400517225.0, 70970474606.0, 34856108146.0, 310119039090.0, 193968013431.0, 11110088826.0, 44000051327.0, 11110088840.0, 38000590993.0, 34856108184.0, 11110088857.0, 44000051358.0, 11822989473.0, 44000051365.0, 40000422068.0, 77975093429.0, 43000201404.0, 850026660029.0, 11110088895.0, 756809105599.0, 311111024831.0, 40000422082.0, 30772003015.0, 850026889420.0, 47495610574.0, 16000450769.0, 11110088918.0, 311111385307.0, 829576020188.0, 311111909596.0, 11110088932.0, 43000201459.0, 43000201466.0, 12000002304.0, 43000201473.0, 52651000069.0, 27800076554.0, 24100110605.0, 75752800529.0, 768657817876.0, 311111123220.0, 194346189083.0, 810291003679.0, 15700132128.0, 35000320292.0, 79400534309.0, 72392016167.0, 27800076585.0, 71100006704.0, 687456223537.0, 25600000311.0, 35000680761.0, 649684746561.0, 41167094082.0, 28400091473.0, 40000586074.0, 49022042476.0, 37000970613.0, 28400091510.0, 40000586104.0, 17000169859.0, 639428592004.0, 78742356365.0, 681131016599.0, 40000586135.0, 17082876317.0, 19000000927.0, 17082876331.0, 37000511915.0, 28400091565.0, 71214006706.0, 364980339124.0, 681131573689.0, 50428412350.0, 17082876355.0, 818780013000.0, 78742061535.0, 637480075756.0, 78742159867.0, 311111975423.0, 78742159874.0, 41167094280.0, 78742159881.0, 22000009739.0, 44000051723.0, 74182459925.0, 363824710167.0, 78742159898.0, 857273008666.0, 300450415134.0, 34000470563.0, 44000051747.0, 365197296163.0, 874492002855.0, 78742159911.0, 311111385642.0, 34000470587.0, 37000512066.0, 28400517706.0, 72799060558.0, 49000055375.0, 70650004048.0, 28400517713.0, 311111123541.0, 28400517720.0, 311111385697.0, 16000221796.0, 37000512103.0, 28400517737.0, 28400517744.0, 79400469106.0, 49000055412.0, 306969084540.0, 632365122181.0, 697029100165.0, 9800123018.0, 12000002700.0, 24100110988.0, 28400517775.0, 850001265300.0, 11110089373.0, 602652279461.0, 28400517799.0, 71249658536.0, 28400517805.0, 16000189102.0, 76580160175.0, 381371187898.0, 681131082433.0, 28400517829.0, 30800184006.0, 681131082440.0, 77975093962.0, 16000451278.0, 28400517843.0, 28000518868.0, 16000451285.0, 72799060701.0, 728947000029.0, 41168110309.0, 686700004069.0, 728947000043.0, 803926508267.0, 41780052728.0, 49022042872.0, 74312581885.0, 79400469250.0, 728947000067.0, 311111025418.0, 16000156432.0, 34000470808.0, 686700004120.0, 37466047263.0, 25600000816.0, 70970475313.0, 28400517942.0, 681131082556.0, 42743300924.0, 70970475337.0, 28400517966.0, 70970475344.0, 79783101266.0, 850017715028.0, 85000029015.0, 71537001303.0, 28400517980.0, 79783101280.0, 70970475368.0, 28400517997.0, 44000019310.0, 70970475375.0, 28400518000.0, 37000840046.0, 73731081075.0, 70970475382.0, 300450481016.0, 73731081082.0, 818780013437.0, 300450481023.0, 72320910222.0, 48582001558.0, 850017715103.0, 74323002294.0, 30100128724.0, 311111451620.0, 310119039984.0, 24100111350.0, 36000465914.0, 44000052225.0, 28400681988.0, 17000039428.0, 34000405510.0, 28400681995.0, 47701001233.0, 12000003110.0, 381519004711.0, 28400518185.0, 206025000005.0, 77975094341.0, 40822342728.0, 79200879693.0, 365197821006.0, 74323002447.0, 16000189522.0, 11111040083.0, 17082877017.0, 79400600684.0, 28400026734.0, 716837291121.0, 300450481269.0, 311111025784.0, 829515302009.0, 96619332731.0, 17082877062.0, 4099100116113.0, 311111910547.0, 86800860310.0, 34000077977.0, 829515302047.0, 3606000534711.0, 34000405688.0, 17000039619.0, 311111124166.0, 71249265871.0, 34000241873.0, 30100128984.0, 850009261274.0, 381371155675.0, 829515302108.0, 29000074460.0, 609249920225.0, 16000222434.0, 381371188451.0, 71249265895.0, 79200060657.0, 70870009083.0, 16000288010.0, 79200060688.0, 70870009106.0, 79200060695.0, 72470005021.0, 78742095141.0, 50428347690.0, 25600001325.0, 77661111598.0, 43194352944.0, 850001265973.0, 840045200696.0, 25600001349.0, 16000189768.0, 51500025185.0, 311111026019.0, 28400321907.0, 74312516979.0, 78742095219.0, 78742095226.0, 857279006079.0, 78742095233.0, 77260096906.0, 77260096913.0, 300450186645.0, 21130118564.0, 17082877352.0, 77260096937.0, 17082877376.0, 73141159364.0, 30100784586.0, 736798901723.0, 11110024671.0, 739944007140.0, 688047130098.0, 72320124414.0, 16000189973.0, 72140031510.0, 11822007832.0, 77975094808.0, 30100784678.0, 37000513063.0, 300450547248.0, 843604100666.0, 41167095355.0, 310158034490.0, 681131312714.0, 11111040588.0, 305730160209.0, 719283488343.0, 17082877529.0, 681131411035.0, 14321245.0, 44000020071.0, 697029101162.0, 37000971887.0, 12000102004.0, 311111485045.0, 12044011133.0, 311111550590.0, 300450449023.0, 681131411073.0, 79400666758.0, 893869000331.0, 311111485069.0, 818780014229.0, 41565193882.0, 300450449054.0, 818780014243.0, 72785135277.0, 41570109106.0, 311111550644.0, 688047130296.0, 17082877628.0, 11111007932.0, 300450449092.0, 70330713802.0, 78742226651.0, 17082877666.0, 35000551146.0, 27917027050.0, 79400535788.0, 40000521969.0, 812785010422.0, 76410521343.0, 637480077057.0, 21130118915.0, 897194002183.0, 70330746633.0, 852474169109.0, 305730160407.0, 44000020248.0, 616112031513.0, 41167423264.0, 311111321381.0, 12044044070.0, 41262286634.0, 38000265006.0, 71537002287.0, 50428348208.0, 38000265013.0, 44000020279.0, 681131149112.0, 44000020286.0, 19100239692.0, 16500557647.0, 681131149136.0, 855712008017.0, 843604100949.0, 34000013142.0, 77975095126.0, 75186014042.0, 12000036699.0, 77975095133.0, 681131411295.0, 358790072159.0, 41262286689.0, 44000020323.0, 41167095652.0, 77975095140.0, 71249364840.0, 22000011114.0, 34000045938.0, 16000124790.0, 603084294008.0, 34000045945.0, 46500775802.0, 843604100987.0, 31604017026.0, 688047130500.0, 363824056203.0, 681131247504.0, 840045201297.0, 11111040915.0, 311111550873.0, 311111124890.0, 711716145069.0, 21130086320.0, 688047130555.0, 812154030013.0, 300450482112.0, 311111124944.0, 812154030037.0, 34000013272.0, 736658556889.0, 34000472031.0, 30772103135.0, 812154030051.0, 311111223272.0, 312546002920.0, 764302231530.0, 46500710377.0, 73390000110.0, 25600002032.0, 34000177141.0, 37000349686.0, 11206002682.0, 37000841210.0, 681131378697.0, 681131280396.0, 15300200463.0, 34000013333.0, 688047130647.0, 50428610589.0, 11822729246.0, 73390000165.0, 36000335910.0, 312843536425.0, 681131247658.0, 72140032050.0, 681131411516.0, 36000335934.0, 74590554175.0, 311111321664.0, 681131411523.0, 11765844.0, 681131378772.0, 757528037468.0, 37466015842.0, 757528037475.0, 717937707109.0, 78742259819.0, 37466015859.0, 78742259840.0, 16000125063.0, 78742259857.0, 40000587927.0, 381371058341.0, 34000472246.0, 44000053437.0, 37000218814.0, 37000743101.0, 883484002506.0, 195602057429.0, 15300200661.0, 25600002261.0, 616112031957.0, 40822343893.0, 349483370720.0, 12546312417.0, 25600002278.0, 78742259963.0, 99900721405.0, 681131411714.0, 25600002308.0, 812154030341.0, 34000996612.0, 44000053512.0, 886790326540.0, 96619104536.0, 681131411738.0, 77975095584.0, 681131280679.0, 74108143914.0, 681131280686.0, 34000701742.0, 78742260020.0, 43194321209.0, 688047130937.0, 815099021634.0, 41167096147.0, 41570044261.0, 843571005797.0, 79400503657.0, 40000424314.0, 885190822270.0, 40000555391.0, 71720077696.0, 34000243075.0, 22000109965.0, 11111041431.0, 78742292892.0, 22000109989.0, 854147008937.0, 21130283439.0, 78742129082.0, 311917218236.0, 31535598021.0, 686149700041.0, 85000423882.0, 11111008724.0, 21130152407.0, 35000551900.0, 47400684003.0, 815099021801.0, 681131280877.0, 19000003058.0, 851562007040.0, 21130283521.0, 37000808961.0, 312546003460.0, 815099021832.0, 871217007119.0, 84114901521.0, 41780021786.0, 603084491292.0, 368163916324.0, 681131280938.0, 311111223852.0, 11111172654.0, 73171044913.0, 851817007672.0, 71720077887.0, 10700556868.0, 79400405579.0, 11111008847.0, 16500558415.0, 37000907343.0, 79400471123.0, 311111944788.0, 300673272408.0, 855712008796.0, 369168288362.0, 49000024685.0, 41100806765.0, 812154030716.0, 24100440702.0, 30000450178.0, 802535443082.0, 70970575501.0, 28400683661.0, 810607020697.0, 888849009305.0, 757528005276.0, 810607020703.0, 885722024608.0, 812154030754.0, 37000219309.0, 41570142899.0, 11111631540.0, 78742194875.0, 26200115900.0, 78742194882.0, 24100440771.0, 16000158405.0, 300416666310.0, 34000440009.0, 44000316112.0, 78742031057.0, 310158887638.0, 311111224026.0, 681131150057.0, 688047131378.0, 12044045046.0, 311111224057.0, 688047131385.0, 41608874747.0, 681131150088.0, 858763004687.0, 73010711327.0, 38000167713.0, 24100440870.0, 10700557100.0, 305210231597.0, 856852007724.0, 36800400177.0, 43194321742.0, 12044045138.0, 40000555865.0, 30772104026.0, 754502044511.0, 73010711396.0, 38000167782.0, 8690840210282.0, 43000204139.0, 16000158573.0, 812603018111.0, 14100073352.0, 84114901903.0, 85239040911.0, 41420065682.0, 41167424414.0, 84114901927.0, 37000711087.0, 28400749497.0, 603084491711.0, 30031875018.0, 311111125965.0, 96619596751.0, 71990316006.0, 851989007340.0, 36000369649.0, 51943050225.0, 37836000256.0, 735257005057.0, 884912000000.0, 79200717834.0, 71164333068.0, 71164333075.0, 99900722198.0, 71164333082.0, 99900722204.0, 33674136607.0, 79400504357.0, 16000158757.0, 85239270448.0, 43000204337.0, 850012507185.0, 38276009014.0, 85239270455.0, 24300031038.0, 43000204351.0, 37000907855.0, 16000355408.0, 79088290900.0, 49000057942.0, 850012507222.0, 888109010010.0, 16000289888.0, 78742359137.0, 24300031076.0, 30551510116.0, 19100109926.0, 888109010027.0, 49000057966.0, 43000204399.0, 71537003635.0, 40000588924.0, 16000126077.0, 45843123325.0, 19100109957.0, 843370073225.0, 71537003659.0, 11111042193.0, 71537003666.0, 194346028184.0, 22400011431.0, 888109010089.0, 194346028207.0, 888109010096.0, 194346028221.0, 41116241086.0, 349483470017.0, 99900001477.0, 888109010119.0, 72140000462.0, 719283490001.0, 194346028245.0, 29000076501.0, 49000549614.0, 34000080113.0, 28400323826.0, 16000486652.0, 70330748170.0, 75486137625.0, 381371190560.0, 888849009954.0, 19100110120.0, 3444009.0, 810808020267.0, 311917186351.0, 381371190577.0, 24300031281.0, 41457126707.0, 736798903604.0, 33200180531.0, 11110092090.0, 753950002500.0, 37000580423.0, 603084459339.0, 381371190607.0, 705599016288.0, 311111421289.0, 311111585134.0, 78742162799.0, 364613045620.0, 78742162805.0, 602652282232.0, 681131183499.0, 78742228372.0, 34000047529.0, 74690071978.0, 999007227308.0, 43000204726.0, 86106017210.0, 71537003970.0, 12044045770.0, 603084459469.0, 50428579282.0, 43000204757.0, 35000454614.0, 70462082517.0, 74027077079.0, 602652184024.0, 22400011738.0, 603084459483.0, 12000005596.0, 705599016417.0, 603084459490.0, 810291006960.0, 603084459506.0, 681131249140.0, 311111585271.0, 41250524670.0, 11111042568.0, 311111224842.0, 681131249171.0, 28400619028.0, 74108800541.0, 44000054816.0, 78300089889.0, 22400011813.0, 490490400297.0, 99900722730.0, 194346061358.0, 22000012852.0, 49022045750.0, 84114902610.0, 602652249686.0, 34000473687.0, 28400029278.0, 810607021663.0, 85239172704.0, 49000058468.0, 20685000294.0, 856145006182.0, 3606000537194.0, 311111585387.0, 12044045930.0, 28400324205.0, 28400324212.0, 79400013439.0, 20611600000.0, 3606000537217.0, 688047132290.0, 14100074120.0, 12044045961.0, 12000005770.0, 28400324236.0, 42421161618.0, 795944291989.0, 75476111000.0, 99900100255.0, 191565434529.0, 49807101602.0, 681131183796.0, 9800126132.0, 381370044086.0, 227969175222.0, 810291007158.0, 74027077307.0, 99900722884.0, 5060305161931.0, 359726550734.0, 748378001112.0, 71249104613.0, 11767527.0, 30000451304.0, 43000008423.0, 43000008430.0, 46500024054.0, 12044046074.0, 681131183871.0, 12044013311.0, 832112004863.0, 208220000002.0, 74182463236.0, 26200117003.0, 681131151115.0, 16000159501.0, 37000449805.0, 74182463250.0, 37000449812.0, 26169020192.0, 37000449829.0, 41415085862.0, 37000810278.0, 68305686312.0, 24100114221.0, 681131282222.0, 13562122035.0, 41250000693.0, 41100578624.0, 79200292676.0, 309978632009.0, 28400324427.0, 36000501582.0, 346581110609.0, 28400324434.0, 37000122203.0, 30772039519.0, 3606000537439.0, 17082879844.0, 888849010547.0, 3606000537460.0, 28400324472.0, 269774000009.0, 36000501643.0, 79400406927.0, 41100808080.0, 305210134416.0, 645095002005.0, 85239107478.0, 42421161878.0, 71164301210.0, 37466083230.0, 74590556070.0, 3606000537514.0, 760236150701.0, 17000337326.0, 300450910127.0, 3606000537521.0, 311111585721.0, 760236150718.0, 35000782793.0, 70018043849.0, 30772006863.0, 811877011408.0, 79400669148.0, 827854000099.0, 64144150502.0, 24100114412.0, 787651760117.0, 613440000013.0, 877991071759.0, 381371191314.0, 40000524311.0, 2887708.0, 73390002206.0, 73091026976.0, 681131282475.0, 40000000044.0, 3606000537651.0, 26200117300.0, 16000159808.0, 3606000537668.0, 70018109514.0, 79400472670.0, 681131282529.0, 3606000537699.0, 817719021673.0, 3606000537705.0, 816925020272.0, 381370044529.0, 120000319602.0, 311111323781.0, 14782602.0, 817719021710.0, 681131282581.0, 14100074649.0, 99900723355.0, 840044712091.0, 16000159907.0, 311111323811.0, 36000534696.0, 16000487598.0, 34000343218.0, 725181436102.0, 16500592839.0, 311111422163.0, 44000055509.0, 40647004375.0, 41220247769.0, 16000487642.0, 70330749153.0, 14100074724.0, 35000553706.0, 27000082669.0, 681131282680.0, 85239042298.0, 26200117508.0, 75182051591.0, 99900100873.0, 11206005003.0, 71537201420.0, 37000089872.0, 16000487697.0, 58336121111.0, 305210069275.0, 34000245024.0, 16000487727.0, 37000974642.0, 40000000310.0, 35000521019.0, 99900723515.0, 18804511035.0, 14100074816.0, 11931973.0, 860001800517.0, 40000000327.0, 28400718158.0, 492130013522.0, 37000974680.0, 12128600.0, 47400653146.0, 34000376155.0, 28400259422.0, 34000114016.0, 96619663712.0, 30100132196.0, 44000055653.0, 16000160101.0, 78742294896.0, 74690072944.0, 46100353394.0, 884912001399.0, 44000088446.0, 41565000067.0, 40000000389.0, 67981087109.0, 37000974727.0, 74323005837.0, 37000974734.0, 23896166803.0, 311111324054.0, 37000122777.0, 34000245154.0, 34000540068.0, 812154032550.0, 11111076266.0, 37000810926.0, 28400325042.0, 22000079282.0, 311111324085.0, 24100114870.0, 884486377920.0, 27000607169.0, 28400325059.0, 34000540105.0, 73852293579.0, 26200117713.0, 349483373011.0, 28400259552.0, 37000974819.0, 24100114917.0, 73010713062.0, 681131381222.0, 34000245222.0, 34000048618.0, 34000540143.0, 17000141299.0, 35000783349.0, 816925020661.0, 73010713079.0, 381371191802.0, 78742295039.0, 99900723713.0, 41565000197.0, 40000000518.0, 354312000006.0, 34000245253.0, 35000455697.0, 43000042007.0, 40000557593.0, 28400259613.0, 858081006110.0, 11111010864.0, 50428351024.0, 311111422514.0, 30100001331.0, 28400325172.0, 99900625468.0, 820645007932.0, 78742295107.0, 41565000272.0, 78742295121.0, 646630019670.0, 50428318300.0, 85239042663.0, 888849011308.0, 85239042670.0, 49000059502.0, 646630019694.0, 888849011315.0, 754502046331.0, 75476112007.0, 78742295183.0, 24100115099.0, 41420100253.0, 73010713246.0, 722252239518.0, 79400506016.0, 78742295206.0, 850010149554.0, 79400342195.0, 78742295220.0, 79656129212.0, 70200857278.0, 53100384969.0, 70200857292.0, 840044712657.0, 82666722007.0, 14100075226.0, 29000012509.0, 842096153334.0, 37466018553.0, 325866558206.0, 12000170751.0, 888109110017.0, 41820820232.0, 16000160521.0, 719903200010.0, 305731769098.0, 73852293906.0, 12000170775.0, 888109110048.0, 43000009505.0, 16000160545.0, 29000012578.0, 73852293920.0, 855235007269.0, 73010713383.0, 681131381543.0, 29000012585.0, 36457714474.0, 888109110062.0, 29000078130.0, 16000160569.0, 44000056124.0, 43000009536.0, 220709000006.0, 72785138506.0, 888109110093.0, 16000160590.0, 888109110109.0, 80878080861.0, 16000226159.0, 301871371122.0, 305731769203.0, 603084493685.0, 12044047231.0, 43000009604.0, 816925021064.0, 41565000586.0, 37000844174.0, 888109110161.0, 49022047129.0, 47469073312.0, 345334322085.0, 310310998950.0, 180999001001.0, 20685001642.0, 311111062451.0, 71164302262.0, 20685001659.0, 20685001666.0, 30772106181.0, 22000112583.0, 16000193482.0, 47400653771.0, 51381933005.0, 346581210064.0, 72785138643.0, 681131054041.0, 25293001701.0, 311111685094.0, 70330749931.0, 609280300024.0, 24300033025.0, 311111685131.0, 34000114702.0, 85239993361.0, 72799065126.0, 24300033063.0, 79400670250.0, 96619140138.0, 37000123439.0, 888849011759.0, 9542439989.0, 72030000183.0, 854242006074.0, 37000123453.0, 79400670274.0, 16000193604.0, 40000001102.0, 312546628694.0, 896887002202.0, 70330750043.0, 311111226464.0, 25600005217.0, 72140035181.0, 79400998002.0, 312546628724.0, 120001631352.0, 896887002233.0, 681131119740.0, 7501103305854.0, 810067727495.0, 72030000268.0, 888670065808.0, 11111044241.0, 812154033298.0, 72030000282.0, 72965756070.0, 16000193703.0, 810607023285.0, 79400637635.0, 717937710277.0, 40000525509.0, 381371192526.0, 72030000350.0, 11111240933.0, 311111423207.0, 300450518248.0, 34000016617.0, 72140035303.0, 888109110505.0, 193968051440.0, 717937710321.0, 810607023346.0, 700596000001.0, 311111685384.0, 193968051464.0, 681131087117.0, 722510026003.0, 34000442652.0, 29000078628.0, 41364002095.0, 311111324979.0, 888109110581.0, 71720539446.0, 11111732537.0, 22400013626.0, 687735641403.0, 19175052608.0, 888109110598.0, 42187003207.0, 78742361420.0, 41100809551.0, 855569110352.0, 311111423313.0, 888109110611.0, 52000101720.0, 21130188130.0, 34000115044.0, 886926185836.0, 888109110642.0, 96619107698.0, 12546676090.0, 24100705665.0, 4003207.0, 28400752015.0, 34000999828.0, 381371192731.0, 38000367007.0, 40000001447.0, 311111685544.0, 12000171444.0, 24100705719.0, 30100100553.0, 41780352460.0, 305731769807.0, 41167099346.0, 30100100577.0, 37000386018.0, 16000194021.0, 681131447782.0, 10700101099.0, 34000475629.0, 12000171505.0, 681131447799.0, 72030000633.0, 16000194045.0, 77232510461.0, 41420101120.0, 49000060423.0, 12000171529.0, 311111423498.0, 311111685643.0, 73491093004.0, 70501013007.0, 96619042319.0, 20685002267.0, 16000194076.0, 78742099491.0, 861592000041.0, 20527027762.0, 78742099507.0, 46100354612.0, 79656031799.0, 24100705849.0, 43000206911.0, 40000001607.0, 30100100683.0, 90891949649.0, 40000001621.0, 28400064088.0, 24100116072.0, 12000204395.0, 752798242413.0, 47469074029.0, 302990530162.0, 311111849588.0, 5060242151033.0, 14100043386.0, 37000943228.0, 90891949694.0, 855569110659.0, 888109110925.0, 50428319376.0, 46100354704.0, 878114018965.0, 46100354711.0, 73390003869.0, 73390003876.0, 28400719537.0, 305730164405.0, 311111030474.0, 827854001867.0, 350844327628.0, 840155600591.0, 748378003154.0, 12000171734.0, 12000171741.0, 29000079069.0, 45000005341.0, 72140003043.0, 73390003944.0, 302993938163.0, 50428385012.0, 12000171765.0, 28400719605.0, 35000456953.0, 99900331772.0, 311111227133.0, 16000194304.0, 24100116225.0, 812154033922.0, 311111128836.0, 300318693124.0, 43000076040.0, 827854001928.0, 309978634003.0, 827854001942.0, 864038000407.0, 46100354841.0, 12000171802.0, 810051082012.0, 490000553758.0, 12044048160.0, 16000423718.0, 24100116263.0, 850017589032.0, 40000395058.0, 28400686907.0, 896887002943.0, 11509045058.0, 41780352835.0, 22600947523.0, 79400507204.0, 79893403465.0, 311111423818.0, 340000020302.0, 792850011984.0, 12000171857.0, 12000171864.0, 854897006436.0, 73390004071.0, 22200457064.0, 73010714472.0, 12000171888.0, 78742001531.0, 757528008581.0, 39047010208.0, 799441262497.0, 73010714533.0, 86106052518.0, 79400507303.0, 719283492777.0, 87848064937.0, 16500594604.0, 37000255406.0, 41554483123.0, 12000171956.0, 23074805685.0, 37000779704.0, 47400097728.0, 71720015810.0, 26200119243.0, 11509045201.0, 12000171987.0, 892992002007.0, 20685002724.0, 12000172007.0, 757528008680.0, 49000060904.0, 50844375024.0, 757528008697.0, 11110094841.0, 19000170491.0, 70501013502.0, 44000057343.0, 71164303368.0, 78742132754.0, 311111424020.0, 12044048405.0, 17000142890.0, 816925022252.0, 11509045300.0, 840040192064.0, 68670003264.0, 11111045194.0, 73570130002.0, 49000061017.0, 757528008796.0, 79200131166.0, 43000010846.0, 50428287071.0, 681131350112.0, 892992002151.0, 12000172137.0, 16455788.0, 79400507501.0, 511111403630.0, 11111536753.0, 71537301618.0, 71249631348.0, 49000061048.0, 24100116607.0, 34000312450.0, 511111305354.0, 37000976523.0, 24100116621.0, 812154034318.0, 37000976530.0, 609492310170.0, 829515307172.0, 24100116645.0, 306960210085.0, 72030001319.0, 28400097444.0, 73570130095.0, 38000138416.0, 77975034033.0, 658010118323.0, 36000012477.0, 38000138430.0, 24100116669.0, 40000002239.0, 12000172229.0, 37000976592.0, 9542015190.0, 77975034071.0, 79200983277.0, 893222000879.0, 51135813874.0, 649684719862.0, 16000424197.0, 16500594963.0, 28400720151.0, 20685003042.0, 72600033573.0, 28400720168.0, 12000172328.0, 28400720175.0, 603084560691.0, 12000172342.0, 311111457080.0, 603084560707.0, 79400507716.0, 3447109.0, 40000002376.0, 810607024459.0, 28400720205.0, 38000138577.0, 603084560721.0, 16000162129.0, 12000172373.0, 38000269660.0, 28400720236.0, 73390004590.0, 38000138607.0, 747599403378.0, 52836145523.0, 38000269691.0, 812154034561.0, 311111457158.0, 311111326089.0, 44000024970.0, 38000138638.0, 11206007182.0, 810607024534.0, 48155924888.0, 757528009113.0, 46100355480.0, 79656130973.0, 20685003165.0, 681131776424.0, 28400720298.0, 74676640174.0, 57475570095.0, 310119537084.0, 30772042175.0, 41420036545.0, 20685003202.0, 681131284936.0, 894047001034.0, 35000981967.0, 72030001616.0, 757528009175.0, 28400589277.0, 79893404127.0, 38000138720.0, 78742297057.0, 28400589284.0, 28400589291.0, 12000172526.0, 71661001200.0, 34000443895.0, 73010715127.0, 80878180868.0, 28400589321.0, 311111653901.0, 785364130319.0, 16000457232.0, 850018802192.0, 15665601042.0, 34000476695.0, 14100077084.0, 850018802208.0, 681131285025.0, 78742231587.0, 12000172588.0, 79200000561.0, 96619928118.0, 71536908856.0, 34000214587.0, 38000138812.0, 72220219968.0, 72785140295.0, 40000002635.0, 50428648018.0, 311111948885.0, 79656000085.0, 311111785046.0, 665918610019.0, 310119537251.0, 78742133348.0, 78742297194.0, 78742231662.0, 381370047087.0, 28400327282.0, 371687660147.0, 20685003387.0, 28000131708.0, 78742297217.0, 11110619778.0, 28400327299.0, 78742362755.0, 41100810885.0, 79200000646.0, 28400327305.0, 41167002254.0, 72030001807.0, 44115008148.0, 86800472728.0, 33200741022.0, 41570015902.0, 78742297248.0, 719283985057.0, 20685003424.0, 146500721318.0, 300450192042.0, 681131121323.0, 311111785138.0, 72140004019.0, 44000058036.0, 681131449014.0, 24100117178.0, 718262115003.0, 44115008186.0, 748378004168.0, 11110030030.0, 73852033755.0, 38000138973.0, 78742297309.0, 49000028904.0, 681131449069.0, 78742067957.0, 11111471863.0, 43000208120.0, 45893098246.0, 37000944393.0, 37000878858.0, 11110095664.0, 888849013555.0, 12044016435.0, 311111785275.0, 311111129925.0, 855933000517.0, 11111045965.0, 22796901200.0, 311111785299.0, 11111045972.0, 812154035032.0, 878631000924.0, 25600007013.0, 96506420077.0, 74108935021.0, 681421020015.0, 34000214907.0, 44000058241.0, 34000214914.0, 74887732101.0, 35000982407.0, 95045000078.0, 17000209296.0, 40000592785.0, 812154035094.0, 851769007003.0, 851769007010.0, 41780190130.0, 17000209333.0, 78742002637.0, 311111949271.0, 71100210156.0, 77260069870.0, 41780190192.0, 311111425010.0, 681131187190.0, 511111207931.0, 422383000574.0, 77260069887.0, 41780190208.0, 34000018437.0, 41420069895.0, 98437241868.0, 194346097678.0, 43194162192.0, 681131187220.0, 194346097692.0, 311111523358.0, 36000341027.0, 28400589864.0, 28400589871.0, 51131227187.0, 41780190260.0, 311111785527.0, 28400032827.0, 78742363196.0, 35000458308.0, 28400589895.0, 16500595793.0, 45893033056.0, 41420069987.0, 25600007273.0, 41420069994.0, 884486151278.0, 812154035315.0, 41420070006.0, 35000458360.0, 17000209531.0, 22000016508.0, 44000058494.0, 812154035339.0, 47400098961.0, 37000944799.0, 72600001701.0, 37000912040.0, 12000173226.0, 46100356272.0, 12000173233.0, 86800112822.0, 381370047681.0, 28400590020.0, 3448005.0, 86106152133.0, 11111013582.0, 41457229019.0, 28400000222.0, 681131285728.0, 35000556769.0, 311111720177.0, 28400000246.0, 41186172150.0, 44000058616.0, 79200558338.0, 28400000260.0, 70330916104.0, 820581473549.0, 34000018703.0, 603084463381.0, 34000018710.0, 311111949608.0, 70330916142.0, 980000055.0, 44000058692.0, 20662000965.0, 72600001862.0, 78742101330.0, 34000018772.0, 72600001886.0, 764302204268.0, 34000412013.0, 40000560494.0, 71720017265.0, 840093113726.0, 34000215423.0, 28400098687.0, 44000058753.0, 194346065295.0, 5010724527504.0, 888277704087.0, 28400164252.0, 12000140709.0, 79400476074.0, 12000107948.0, 25600007600.0, 810291011001.0, 11822538176.0, 78742003146.0, 884486151629.0, 30000029138.0, 686226251220.0, 311111949783.0, 28400721370.0, 311111523815.0, 9800556021.0, 12000632334.0, 681131122214.0, 41167003206.0, 605592100437.0, 71100210781.0, 22200950367.0, 70501113448.0, 79200001643.0, 40000495215.0, 838154002034.0, 681131122290.0, 681131089524.0, 16000163447.0, 12000140921.0, 28400688765.0, 73390005887.0, 28400688772.0, 25600007815.0, 71249665671.0, 25600007822.0, 850027880105.0, 311111098030.0, 37000879794.0, 681131089586.0, 25600007860.0, 761318252221.0, 37000847038.0, 850027880129.0, 681131024068.0, 72878071512.0, 856802008795.0, 99900694235.0, 681421020893.0, 855469006557.0, 34000215775.0, 79400181480.0, 850027880174.0, 72878071536.0, 46100356852.0, 812154035957.0, 11111014138.0, 681131286268.0, 28400000772.0, 28400688901.0, 681131286282.0, 69055127315.0, 34000215829.0, 747599306518.0, 28400000789.0, 28400688918.0, 3337875660570.0, 719283592989.0, 16000163614.0, 681131286305.0, 34000215843.0, 681131024167.0, 71072030509.0, 11111079731.0, 79400181558.0, 74690240312.0, 34000215867.0, 311111098177.0, 7702011027269.0, 79400509253.0, 74312589126.0, 752798146384.0, 308000005972.0, 16000163669.0, 850027880280.0, 810039910238.0, 681131286367.0, 37000945505.0, 74108772213.0, 28400000888.0, 851769007997.0, 681131286398.0, 10700529541.0, 850027880327.0, 37000945543.0, 92265324427.0, 714706100109.0, 45893001109.0, 78742364063.0, 22000115621.0, 851093004198.0, 40000528296.0, 17082884008.0, 40000004011.0, 78742298542.0, 17082884015.0, 30100103097.0, 305210269637.0, 300450488282.0, 40000004059.0, 5060242153440.0, 719283199973.0, 311111098351.0, 300450488305.0, 72785043442.0, 71249207284.0, 309970247669.0, 37000945673.0, 71249207307.0, 12000206863.0, 764302204947.0, 716837855255.0, 85239111710.0, 381370015802.0, 311111098429.0, 79400181824.0, 16500564034.0, 681131057226.0, 50428321867.0, 312547352659.0, 14100078678.0, 312547352666.0, 72140005467.0, 511111503972.0, 22400639079.0, 72799035501.0, 768395518066.0, 43000045695.0, 52000104578.0, 22400639116.0, 34000937103.0, 22400639123.0, 28400197779.0, 22000279705.0, 22400639130.0, 603084267675.0, 757528043681.0, 603084267682.0, 220000198822.0, 79400509611.0, 44000026813.0, 44000026820.0, 24100118731.0, 35000983756.0, 24100315345.0, 16500564188.0, 85239111901.0, 40000004318.0, 22000279774.0, 40000004325.0, 16000491755.0, 12044017906.0, 311111098610.0, 604722012404.0, 40000004356.0, 36000014600.0, 311111098634.0, 41167003916.0, 841058001171.0, 34856050964.0, 716837855507.0, 29000016156.0, 311111885098.0, 34856050988.0, 713733120302.0, 78742298931.0, 28400689465.0, 34000544059.0, 34000544066.0, 40000561477.0, 71164371282.0, 14100046165.0, 810027131232.0, 11111047525.0, 810021200231.0, 22000017772.0, 511111045496.0, 12853625.0, 28400099714.0, 34000544134.0, 810021200262.0, 28000231828.0, 311111885210.0, 12044050842.0, 41200034204.0, 78742102429.0, 810021200286.0, 311111623089.0, 47469076924.0, 810021200316.0, 22000017857.0, 79400083906.0, 22000017871.0, 79400083920.0, 74312131028.0, 311111524829.0, 843445019103.0, 22000017888.0, 22000017895.0, 22000017901.0, 40000004608.0, 43000046081.0, 22000280077.0, 827854004752.0, 311111885333.0, 43000046104.0, 681131287067.0, 72799035938.0, 381371163175.0, 72785109544.0, 681131287081.0, 17000309293.0, 40000004660.0, 70670000693.0, 37000782407.0, 300450488909.0, 803954303575.0, 85239702109.0, 35000525413.0, 24100119141.0, 856584004206.0, 819721020019.0, 24100119165.0, 34000020102.0, 856584004237.0, 812154036879.0, 311111721617.0, 681131221658.0, 71249240731.0, 28400689823.0, 311917159072.0, 681131221665.0, 12044051115.0, 22000280244.0, 48014009015.0, 863948284600.0, 311917159102.0, 86106022603.0, 311917159119.0, 40084176.0, 44000027346.0, 44000060114.0, 28400001748.0, 47400690387.0, 311917159126.0, 44000027353.0, 44000060121.0, 757528044251.0, 22000280282.0, 816012010216.0, 44000060138.0, 28400329453.0, 854936003310.0, 12547433203.0, 26700129032.0, 44000060169.0, 29000016651.0, 44000060176.0, 810165019409.0, 28400329491.0, 22000280343.0, 75450131239.0, 37000979241.0, 810028573482.0, 22000280367.0, 49000031034.0, 810028573499.0, 29000016699.0, 41780192059.0, 760236155713.0, 37000979272.0, 681421022026.0, 44000060237.0, 311111885647.0, 28400067409.0, 12044051283.0, 816512017241.0, 44000060251.0, 14100046691.0, 14100079460.0, 44000060275.0, 850031879027.0, 78742201207.0, 803954303865.0, 44000060282.0, 41570149249.0, 26700129155.0, 810912031623.0, 38000272264.0, 26700129162.0, 41250562955.0, 49000555417.0, 47400690592.0, 14100079521.0, 35000525734.0, 12044051368.0, 34000249770.0, 35000984494.0, 380002345904.0, 50428617656.0, 78742201276.0, 884486382528.0, 49000031171.0, 12044051399.0, 810028573642.0, 75186021330.0, 44000060381.0, 160002647006.0, 28400034784.0, 71249241059.0, 312547386340.0, 44000060398.0, 792850899957.0, 44000060411.0, 34000937981.0, 305210041349.0, 17082000392.0, 9800000524.0, 49000031249.0, 816012010513.0, 28400690195.0, 30772143124.0, 10700858405.0, 180410000422.0, 37000979494.0, 34000479269.0, 9800000555.0, 44000060459.0, 10700858412.0, 11110097972.0, 74323010619.0, 311111885883.0, 681131779135.0, 194346067015.0, 194346067022.0, 76580004943.0, 71537042511.0, 25600042069.0, 363824686165.0, 17082000484.0, 71537042535.0, 16000296039.0, 818042020968.0, 681131156592.0, 11313030257.0, 78742201467.0, 743490004102.0, 2700717433990.0, 856584004763.0, 78742037660.0, 35000460455.0, 85239276723.0, 22000116925.0, 19100181694.0, 10700858559.0, 80878183623.0, 42185.0, 681131353298.0, 44000060626.0, 44000060633.0, 44000060640.0, 9800000739.0, 681131156707.0, 9542018276.0, 681131156714.0, 33859020011.0, 40000464112.0, 44000060657.0, 846548051186.0, 15049971.0, 34000446711.0, 34000250103.0, 37000979715.0, 10700858627.0, 78742430980.0, 33200186632.0, 22000280855.0, 324208698648.0, 74323010855.0, 13562127658.0, 681131156790.0, 16500565314.0, 78742365510.0, 859362370890.0, 22200952149.0, 16500565338.0, 9800820061.0, 681131779432.0, 34000938346.0, 747599406447.0, 64323331449.0, 850045511036.0, 40000464266.0, 22000280978.0, 75450131864.0, 856294008228.0, 10700858788.0, 34000938407.0, 50428388785.0, 681131812276.0, 741021001149.0, 311111067081.0, 22400640457.0, 47495620047.0, 14100047315.0, 25600009697.0, 28400199148.0, 47677482487.0, 8379115005.0, 28400002561.0, 9800001026.0, 79400445445.0, 9800001033.0, 752798180876.0, 35000985101.0, 37000783398.0, 605388187178.0, 34000938551.0, 888670037560.0, 220002821704.0, 14100047438.0, 28400199247.0, 681131026000.0, 73010718289.0, 11111048799.0, 816012011121.0, 323900024434.0, 34000447091.0, 44000061043.0, 44000028282.0, 49508001409.0, 305210238596.0, 766878000787.0, 36000507539.0, 311111198358.0, 816526010016.0, 403108.0, 41611110054.0, 10700859051.0, 17082885807.0, 70907209394.0, 78742365886.0, 11509049025.0, 840040163019.0, 73390008017.0, 311111198419.0, 77260105431.0, 757528045272.0, 79400216281.0, 10700859105.0, 810028574434.0, 885190534883.0, 194346002153.0, 73390008048.0, 40000595700.0, 49100400372.0, 31604025083.0, 681131157247.0, 736990013200.0, 11233077011.0, 72799037208.0, 36000474909.0, 22000019233.0, 35000985378.0, 810028574502.0, 85239113516.0, 48867223347.0, 47469078331.0, 49000064834.0, 681131157322.0, 757528045388.0, 37000324942.0, 28400002899.0, 44000028503.0, 681131157339.0, 681131157346.0, 311111853936.0, 681131157360.0, 40000497523.0, 73390008185.0, 888109115258.0, 193968187262.0, 73390008192.0, 781138700160.0, 40000497547.0, 67312002962.0, 34000447381.0, 40000006039.0, 78742333335.0, 55086000031.0, 47677482913.0, 50428356517.0, 96619440047.0, 55086000048.0, 70942304177.0, 311111821232.0, 14100047803.0, 28400199612.0, 311111428028.0, 311111198655.0, 876274001858.0, 51500001219.0, 49508100034.0, 28400199636.0, 11111016408.0, 301320185829.0, 11233077226.0, 311111985132.0, 50428389362.0, 681131386869.0, 29000017917.0, 16000165892.0, 681131026437.0, 721874003972.0, 311111985170.0, 897988012053.0, 311111198754.0, 34000447527.0, 827854006312.0, 40000530473.0, 681131223089.0, 71661824052.0, 73390008376.0, 72965007417.0, 850007468095.0, 55086000192.0, 311111985217.0, 94137002051.0, 649010751559.0, 311111198792.0, 29000017993.0, 35000985675.0, 79893112923.0, 681131124843.0, 71409543290.0, 28400625791.0, 40000006275.0, 370692139143.0, 817513015434.0, 79400380579.0, 888109050023.0, 766878001319.0, 305734756521.0, 28400691369.0, 311111985323.0, 681131354295.0, 49000065213.0, 888109050047.0, 888109050054.0, 311111723208.0, 37000816843.0, 850018347211.0, 37000751311.0, 21130520794.0, 79400511706.0, 48564087020.0, 311111985392.0, 12000504051.0, 305730169080.0, 13904135.0, 37000816904.0, 852660005143.0, 71524100378.0, 51131197732.0, 70622751017.0, 40000563501.0, 28400199988.0, 70330722620.0, 79400511805.0, 24100120901.0, 34000939343.0, 96619440498.0, 605388188021.0, 79200070014.0, 28000004484.0, 72320133508.0, 40000596356.0, 120000031108.0, 888109115791.0, 792850901391.0, 40000596370.0, 16000264601.0, 42238323100.0, 850007468446.0, 16500599203.0, 21130291625.0, 40000596394.0, 22000019882.0, 21130291632.0, 681131059640.0, 305210304956.0, 70690023870.0, 28400331203.0, 309970184643.0, 11111049673.0, 309970184650.0, 16525771.0, 11111049680.0, 310158272977.0, 305730169301.0, 309970184667.0, 78742006239.0, 76150090208.0, 34000087525.0, 38000765414.0, 72510024166.0, 6970707749356.0, 28400036337.0, 2670012915.0, 309970184698.0, 14007478779.0, 16000264700.0, 44000029180.0, 78742039039.0, 78742006277.0, 69055130117.0, 36602030602.0, 19045001743.0, 28400069151.0, 878639000100.0, 29000018471.0, 311111526953.0, 29000018488.0, 22000282170.0, 34856806981.0, 14100048459.0, 850007468620.0, 17082002006.0, 683744963161.0, 681131125338.0, 309970184797.0, 70272232041.0, 12044020333.0, 309970184827.0, 28400691840.0, 603084335756.0, 3484308.0, 78742039190.0, 70272232089.0, 309970184858.0, 29000018587.0, 24100514458.0, 712199318179.0, 32134212264.0, 681131027113.0, 53100292790.0, 73390009021.0, 681131354813.0, 309970184896.0, 79400446657.0, 511111310020.0, 309970184902.0, 46500031175.0, 72799038168.0, 47469079260.0, 311111953117.0, 16000363243.0, 16000494329.0, 34000939770.0, 41250007807.0, 26041101056.0, 78742366982.0, 84114123534.0, 17082886927.0, 47400561427.0, 78742366999.0, 309970184988.0, 28400331555.0, 24100940592.0, 28400528177.0, 766878001975.0, 309970185015.0, 38000175930.0, 44000029500.0, 79400086334.0, 71249341247.0, 309970185022.0, 34000087884.0, 36800473935.0, 309970185039.0, 309970742102.0, 309970185046.0, 307667250008.0, 28400331609.0, 44000029531.0, 311111527271.0, 70552202092.0, 78742367088.0, 50051820409.0, 78742367101.0, 681131289474.0, 78742367118.0, 855616007055.0, 28400200592.0, 96619473809.0, 72250010511.0, 22000020369.0, 49000000405.0, 28400200608.0, 40000433057.0, 28400331685.0, 17082887078.0, 28400692144.0, 30772079546.0, 49000000443.0, 79200562106.0, 35000986559.0, 70018116543.0, 78742367170.0, 193968319441.0, 735257013205.0, 78742367194.0, 28400069601.0, 34000088034.0, 827854007265.0, 70501116906.0, 28400200684.0, 28400331760.0, 38000077814.0, 300450524157.0, 73390009342.0, 78742236162.0, 71443033092.0, 40000596998.0, 37000948742.0, 310158830603.0, 28400331791.0, 850015661075.0, 72785112087.0, 37000948759.0, 827854007326.0, 43000048672.0, 850042203170.0, 28400331814.0, 19100118096.0, 28400528467.0, 757528046675.0, 605592005718.0, 757528046682.0, 28400528481.0, 71537110128.0, 895697005687.0, 359726230650.0, 681131355261.0, 71537110142.0, 732341349509.0, 37000817802.0, 34000940172.0, 30772112526.0, 195602066575.0, 30772112533.0, 11110034588.0, 37000359074.0, 72250010788.0, 307667250343.0, 311111298225.0, 21130783922.0, 50428259511.0, 30772112571.0, 16000167100.0, 329943002309.0, 381371165896.0, 47677254862.0, 310158830801.0, 78742072531.0, 44000029913.0, 79400152299.0, 895697005809.0, 34000940288.0, 603084565764.0, 70018116871.0, 34000481569.0, 37000850731.0, 28000202033.0, 40000499008.0, 36000542028.0, 15953702222.0, 77449506127.0, 3606000512351.0, 40000499039.0, 42238750050.0, 70018116963.0, 16000200043.0, 14113910125.0, 31604026738.0, 44000062835.0, 14113910132.0, 70018116987.0, 40000040323.0, 49000000900.0, 2430086541.0, 722252443038.0, 79400840608.0, 44276067749.0, 35000987051.0, 71990095277.0, 511111703983.0, 34856840626.0, 24100122035.0, 96619376056.0, 44000882105.0, 857983004095.0, 44000882112.0, 37000818113.0, 311111036360.0, 79400480217.0, 79400480224.0, 76410400228.0, 79400480231.0, 44000030193.0, 830028000771.0, 302990110227.0, 811068010005.0, 363824262680.0, 302990241310.0, 28400201261.0, 302990110265.0, 18787774021.0, 28400201285.0, 37000654407.0, 44000063047.0, 28400201292.0, 302990241358.0, 840797105744.0, 811068010067.0, 850010222165.0, 864475000411.0, 311111298652.0, 71249636961.0, 76828126819.0, 305210044005.0, 28400201322.0, 41415093867.0, 20434005617.0, 21130522231.0, 96619310715.0, 71661825660.0, 302990241419.0, 864475000466.0, 78742367897.0, 29000019614.0, 41250008750.0, 28400692915.0, 851356004019.0, 311111921345.0, 11206504131.0, 16000200395.0, 681131093712.0, 79656070873.0, 79400480477.0, 681131093736.0, 311111823083.0, 875754008301.0, 73621090033.0, 21130292981.0, 311111036667.0, 875754008318.0, 16000495364.0, 17000214276.0, 44000030476.0, 78742499086.0, 44000030483.0, 22000021267.0, 14100049685.0, 44000030490.0, 311111036711.0, 79400447784.0, 48341004073.0, 34000318261.0, 78742368054.0, 311111036735.0, 875754008387.0, 888109150020.0, 875754008400.0, 888109150037.0, 40000565079.0, 888109150044.0, 37000949596.0, 40000565093.0, 40000597865.0, 34000482153.0, 37000261483.0, 350844563323.0, 79400447869.0, 36000509830.0, 78742007687.0, 37000261513.0, 40000565130.0, 78742007700.0, 68437389204.0, 79200169886.0, 40000565154.0, 17082888112.0, 370030620593.0, 12000014260.0, 37000523703.0, 41167171516.0, 17082888129.0, 708820938694.0, 681131061193.0, 44000063450.0, 311111921628.0, 22600200161.0, 79200923617.0, 753519472614.0, 681131061230.0, 78742007793.0, 811068010494.0, 37000720386.0, 85239934982.0, 210624000007.0, 73435000839.0, 67312005130.0, 811068010517.0, 85239934999.0, 757528047641.0, 876274003999.0, 381519081514.0, 11579441.0, 54402330692.0, 78742007878.0, 226809000007.0, 14113910859.0, 875754008653.0, 21130981458.0, 75609190490.0, 22400643168.0, 305734758501.0, 28400693356.0, 810028773486.0, 79400251503.0, 50428260463.0, 31604027506.0, 79400513656.0, 67312005253.0, 858010005641.0, 49000067217.0, 67312005277.0, 34856186014.0, 49000067231.0, 697029505182.0, 54402330791.0, 22000283818.0, 208800035004.0, 22000021694.0, 681131094207.0, 856045007043.0, 858010005702.0, 346581840070.0, 841058005193.0, 16000495821.0, 816559010007.0, 22000283863.0, 755355005155.0, 11111018723.0, 41143120101.0, 44000063719.0, 78742434025.0, 712199319787.0, 72250011907.0, 16000200968.0, 72250011921.0, 41570054420.0, 34000122134.0, 16000200982.0, 44000063771.0, 20525953308.0, 28400070942.0, 49000001822.0, 73321034016.0, 54402330913.0, 41100587299.0, 97923543332.0, 22400643366.0, 46100001066.0, 816559010090.0, 22200004909.0, 28400070959.0, 46100001073.0, 22200004916.0, 67312005437.0, 9800200511.0, 28400070980.0, 78742008134.0, 22000283979.0, 28400431439.0, 850011828564.0, 35751113051.0, 46100001134.0, 46100001141.0, 311111037305.0, 67312005505.0, 67312005512.0, 44000031114.0, 44000031121.0, 850241008019.0, 22000021908.0, 41419420065.0, 44000031138.0, 74676646312.0, 681421025706.0, 71159001521.0, 41167172018.0, 68437389754.0, 44000031169.0, 46100001219.0, 37000393160.0, 22000284105.0, 46100001226.0, 757528048075.0, 44000031176.0, 312547422666.0, 47144022475.0, 52336341456.0, 46100001233.0, 757528048082.0, 44000031190.0, 312547422680.0, 22000021977.0, 34000318940.0, 78742368733.0, 725181510109.0, 37000851936.0, 46100001257.0, 22000284143.0, 757528048112.0, 633456112111.0, 22000120304.0, 34000318964.0, 72992043518.0, 34856022527.0, 79400317438.0, 757528048129.0, 79400448514.0, 50428359167.0, 781138801157.0, 79400317445.0, 79400251909.0, 67312005642.0, 79200432652.0, 14100050445.0, 67312005659.0, 16000496156.0, 34856022565.0, 850241008170.0, 71720088111.0, 67312005680.0, 16000168497.0, 44000031282.0, 709972800051.0, 73950278195.0, 856362005043.0, 724869100090.0, 605592105531.0, 96619311675.0, 41167008324.0, 681131061841.0, 37000852056.0, 79200531034.0, 79400350305.0, 36800475748.0, 724869001830.0, 44000031336.0, 760236290667.0, 353885008501.0, 14100050551.0, 28400005753.0, 37000000129.0, 311111824004.0, 31604028039.0, 827854008972.0, 40000598671.0, 36800475793.0, 24100123285.0, 78300099239.0, 194346267309.0, 13611705.0, 24354403003.0, 27000419007.0, 311111267009.0, 87176000195.0, 27000419014.0, 85815800519.0, 40000533191.0, 72799335120.0, 77312406226.0, 850032440028.0, 40000533214.0, 27000419038.0, 27000419045.0, 16000168688.0, 311111398130.0, 810002330360.0, 708163121920.0, 12547339017.0, 747599409943.0, 29000020764.0, 36800082724.0, 28400694056.0, 27000419113.0, 10700501806.0, 16000168756.0, 24300041013.0, 47400661813.0, 17000018744.0, 781138703161.0, 29000020795.0, 24300041020.0, 311111922502.0, 14100050759.0, 70501053256.0, 681131094863.0, 36000543568.0, 16000168794.0, 18787775325.0, 11822445412.0, 653559477092.0, 850158007143.0, 46100001639.0, 40000566120.0, 15300014954.0, 34000450411.0, 24300041068.0, 47400694637.0, 46100001646.0, 27000419182.0, 24300041075.0, 46100001653.0, 70501315446.0, 850031719286.0, 27000419199.0, 73497391999.0, 370030621569.0, 15300014978.0, 27000419205.0, 15300014985.0, 27000419212.0, 27000419229.0, 16000431010.0, 36800476066.0, 37000295334.0, 810030511014.0, 24300041143.0, 27000419267.0, 816559010762.0, 41633002443.0, 703885063114.0, 311111398352.0, 27000419281.0, 311111726032.0, 24300041174.0, 816559010779.0, 9384927.0, 27000419298.0, 16000168930.0, 36800476134.0, 816559010793.0, 28400071659.0, 29000020979.0, 24300041204.0, 311111398390.0, 38000276477.0, 373760.0, 27000419328.0, 303160243202.0, 78742008844.0, 41608000528.0, 37000885276.0, 41167008799.0, 45836055589.0, 850012288039.0, 41167008812.0, 34000450619.0, 24300041280.0, 22000022592.0, 34000483396.0, 44000064587.0, 34856940623.0, 28400694353.0, 24300041303.0, 85239280737.0, 85239280751.0, 24300041334.0, 24300041341.0, 681131160704.0, 49000002690.0, 28400366724.0, 681131095174.0, 681131160711.0, 85239280775.0, 681131357326.0, 14113911955.0, 50428425367.0, 681131160728.0, 681131357340.0, 34000942237.0, 72320300191.0, 681131160735.0, 722510001314.0, 85239051429.0, 14113911979.0, 5977260.0, 72320300214.0, 41565140169.0, 44000031947.0, 44000031954.0, 41143121115.0, 40000009436.0, 40000402657.0, 79400416490.0, 931052.0, 681131357425.0, 24300041464.0, 86800872702.0, 11110102270.0, 41376101632.0, 305210045699.0, 22000022790.0, 29000021266.0, 78742435091.0, 41565140244.0, 94841255187.0, 300450166043.0, 24300041501.0, 753519473956.0, 41167009116.0, 311111398758.0, 11111216488.0, 70640022892.0, 44000032111.0, 78742435183.0, 37000426882.0, 311111726476.0, 41167074701.0, 44000032142.0, 16000169364.0, 17082889621.0, 311111923103.0, 44000032159.0, 14100051367.0, 41419781548.0, 41260004780.0, 46100002223.0, 747599607219.0, 46100002230.0, 24300041655.0, 300450297273.0, 24300041662.0, 44000032197.0, 24300041679.0, 44000032210.0, 50428589526.0, 747599607257.0, 79400678874.0, 194346038749.0, 79400678881.0, 353100150244.0, 40000009702.0, 781138802154.0, 44000032234.0, 27000419823.0, 15594010106.0, 24300041723.0, 44000032258.0, 511111607816.0, 27000485392.0, 681131095570.0, 30800000542.0, 37000984108.0, 99482482220.0, 79114221113.0, 12044023358.0, 78300132943.0, 382903268955.0, 22000285287.0, 41608001129.0, 75609192043.0, 71249278574.0, 79400121967.0, 631803000432.0, 71249278581.0, 50428425855.0, 74312005251.0, 723246265988.0, 190679004819.0, 74182473389.0, 74182473396.0, 74312005305.0, 51009009341.0, 70038664901.0, 16000104136.0, 28400596688.0, 16000169685.0, 28400596695.0, 884486452955.0, 72140633820.0, 14113912549.0, 381372020453.0, 846548088557.0, 74312791796.0, 309046720249.0, 35000760074.0, 857724008214.0, 311111923479.0, 41565271832.0, 41608001310.0, 78742370088.0, 74182473518.0, 78742370095.0, 41608001327.0, 41419781937.0, 17000150833.0, 857900005174.0, 32251623226.0, 225333000002.0, 14113912648.0, 78742107981.0, 70038632276.0, 16000464735.0, 606000559991.0, 32251623288.0, 49705105276.0, 96619476862.0, 34000451456.0, 717226260353.0, 32251623325.0, 78742435749.0, 46100002728.0, 681131095983.0, 36572510128.0, 311111137203.0, 34000943029.0, 30800984002.0, 74027677637.0, 44000032715.0, 47400302549.0, 841058007005.0, 74182473693.0, 19100252141.0, 13562492916.0, 72108161013.0, 727990515702.0, 853671000059.0, 305730795517.0, 37000820734.0, 78742009858.0, 719903012866.0, 78742009865.0, 72108161037.0, 49705105436.0, 41608001570.0, 36000479270.0, 12044056615.0, 700326000684.0, 16000170032.0, 605592008757.0, 34000943159.0, 11111020603.0, 300450134080.0, 36000479300.0, 37000886341.0, 44000032838.0, 34000451678.0, 850251004001.0, 28400040037.0, 12044056677.0, 29000022119.0, 34000451708.0, 681131128957.0, 310119020685.0, 29000022157.0, 300416678030.0, 98493151378.0, 787651606675.0, 747599313059.0, 850251004070.0, 12044056745.0, 28400040112.0, 850251004087.0, 22200957113.0, 28400040129.0, 11284003014.0, 846548023497.0, 11284003021.0, 74323048667.0, 70038599906.0, 800338000099.0, 14100052197.0, 71249377512.0, 11110660329.0, 22000285942.0, 44000065782.0, 41565141241.0, 311111530745.0, 310158080251.0, 11284003069.0, 817939003657.0, 22000285966.0, 681131129107.0, 850251004179.0, 682178001180.0, 37000853794.0, 38000245039.0, 73390012731.0, 370030623037.0, 21788506430.0, 300672039248.0, 72140110161.0, 11110889812.0, 311111072085.0, 753519475035.0, 72140011871.0, 11284003168.0, 47495690606.0, 812696025454.0, 11111610736.0, 33049000304.0, 49022777729.0, 41143089545.0, 34000943500.0, 41167174029.0, 311111760272.0, 76983351699.0, 816559012247.0, 28400564632.0, 28400564649.0, 76983351729.0, 28400564663.0, 83078003142.0, 24300042706.0, 76138101209.0, 23896177120.0, 44000033255.0, 41780001276.0, 47400663565.0, 713733454353.0, 44000000554.0, 34000190003.0, 73390012991.0, 44000000578.0, 35000498755.0, 817513019975.0, 34000714322.0, 59642002019.0, 311111498342.0, 44000033385.0, 77948009068.0, 10828397.0, 37000788591.0, 44000033392.0, 511111903857.0, 47039003251.0, 311111498359.0, 32700054151.0, 41565141647.0, 14100085393.0, 651080186513.0, 11111611030.0, 30772017814.0, 41608002201.0, 9800006304.0, 34000485024.0, 40000535201.0, 816559012513.0, 74590534306.0, 34000943784.0, 78742141619.0, 71249672884.0, 817585011389.0, 75820186302.0, 808829106879.0, 9800006335.0, 311111498441.0, 305731943122.0, 14100085478.0, 14100085485.0, 24500321007.0, 809148201726.0, 10181032707.0, 24300043017.0, 24300043024.0, 28400433938.0, 96619313945.0, 38000245534.0, 14100085539.0, 11111611177.0, 79200074548.0, 38000245565.0, 300450167620.0, 41100589903.0, 311111236432.0, 24300043093.0, 37000756057.0, 30800001891.0, 24300043109.0, 41420045165.0, 22796188526.0, 14100085614.0, 24300043123.0, 11111611252.0, 14100085621.0, 853346007925.0, 77975010167.0, 827854011262.0, 28400630658.0, 49733090179.0, 70552501126.0, 24300043147.0, 818611010444.0, 73390013325.0, 370030623631.0, 72140012434.0, 70552501140.0, 24300043161.0, 12000181177.0, 72878275514.0, 120000003006.0, 12000181191.0, 24300043208.0, 11111611337.0, 75371002830.0, 14100052944.0, 14100052951.0, 681131129824.0, 311111498724.0, 24291261414.0, 28400729062.0, 73491201003.0, 381370055662.0, 14100052975.0, 72554363887.0, 921217514480.0, 725275950064.0, 74323082241.0, 229232000002.0, 300810746885.0, 71164771334.0, 85239086094.0, 14100085782.0, 49000004632.0, 841058040866.0, 41570057254.0, 768702397483.0, 24300043307.0, 28400401456.0, 24300043314.0, 678112017461.0, 311111236661.0, 37000887362.0, 681131162692.0, 41167043653.0, 21130198092.0, 24300043345.0, 59290926170.0, 5291106.0, 85410200677.0, 810095590504.0, 311111236715.0, 71567981675.0, 24100191345.0, 18787777657.0, 787423640708.0, 23896800448.0, 41420471490.0, 311111498953.0, 22000155849.0, 50428394700.0, 34000190669.0, 79400352972.0, 22000155863.0, 14597343.0, 83933248749.0, 22000155887.0, 309973105904.0, 24300043505.0, 15718104308.0, 32390003958.0, 309973105911.0, 30772018439.0, 364613451032.0, 37000887577.0, 30772018460.0, 12000214301.0, 34856221982.0, 17000348957.0, 22000123169.0, 30772051245.0, 32134217009.0, 30772018484.0, 37000887621.0, 30800199000.0, 31604030810.0, 12000181597.0, 75371003233.0, 41143090534.0, 841058041191.0, 896364002664.0, 841058008422.0, 311111236982.0, 41420045691.0, 35000991119.0, 78742371733.0, 41420045721.0, 44000066970.0, 70501154205.0, 34000944552.0, 28400008617.0, 73321725358.0, 44000066994.0, 73390013875.0, 47400664500.0, 311111073211.0, 305210179004.0, 7432912339.0, 37000953302.0, 41420045783.0, 681131130332.0, 48606.0, 873983000035.0, 48613.0, 28400041447.0, 79625076202.0, 853802008046.0, 22796910066.0, 44000034290.0, 70501154298.0, 37000953340.0, 345334300168.0, 842379148811.0, 78742208015.0, 72140013073.0, 381519183379.0, 74323738131.0, 41143090718.0, 9800007202.0, 79400156709.0, 30772018729.0, 603084209712.0, 9800007219.0, 381519019579.0, 28400041546.0, 44000034382.0, 827854011996.0, 37000887904.0, 73390014049.0, 22000287335.0, 850017468009.0, 817053023852.0, 311111237231.0, 41780002419.0, 651080187510.0, 73570565750.0, 46100201084.0, 31200001689.0, 75371003547.0, 381370056355.0, 16000401068.0, 14200127153.0, 681421029056.0, 72030011080.0, 78742044361.0, 78742372044.0, 78742372051.0, 77071531733.0, 658010128087.0, 49000005349.0, 681421029100.0, 22000287472.0, 78742372082.0, 190104157943.0, 73010003705.0, 3424005.0, 10698501.0, 603084242702.0, 99900505890.0, 34000486182.0, 603084242726.0, 43194367788.0, 79625076530.0, 311111630643.0, 22000123701.0, 28400697149.0, 28400697156.0, 850001641289.0, 28400697163.0, 24300044113.0, 34000486229.0, 11110072153.0, 28400697187.0, 16000466791.0, 79400386410.0, 49000005486.0, 41100820334.0, 720996089710.0, 50428460917.0, 30100111238.0, 72108720012.0, 190679007117.0, 16000466845.0, 79400452009.0, 72140636081.0, 311111598011.0, 681131098045.0, 79625437119.0, 792007229378.0, 14100053958.0, 747599314889.0, 28400074698.0, 311111598028.0, 311111172044.0, 73491202000.0, 78300069850.0, 381372022747.0, 708820877276.0, 11110072290.0, 18000134120.0, 704624312302.0, 311111172082.0, 70501023730.0, 34000191482.0, 41780002815.0, 300436275202.0, 721874010116.0, 44900302857.0, 28400697354.0, 44000034832.0, 78300069904.0, 24300044311.0, 311111467034.0, 40000012320.0, 760236261414.0, 24300044328.0, 30000169001.0, 78300069935.0, 31604031541.0, 78300069942.0, 30000169018.0, 350844502087.0, 42238722125.0, 857879003225.0, 49245.0, 884389199971.0, 788434108515.0, 195602038893.0, 783399698545.0, 194346270835.0, 49269.0, 41260007545.0, 194346270842.0, 24300044410.0, 195602038909.0, 22000124029.0, 78300070016.0, 9800007813.0, 30000169094.0, 49290.0, 24300044427.0, 30000169100.0, 49306.0, 14100054177.0, 49313.0, 37982781603.0, 30000169124.0, 9800007844.0, 79400386731.0, 7702011003058.0, 79400091840.0, 49344.0, 49351.0, 71720550601.0, 11110891723.0, 363824595160.0, 11110072542.0, 41100820716.0, 37000003823.0, 40000504054.0, 41100820730.0, 78742208763.0, 21130133758.0, 28400173315.0, 11111121157.0, 34000290055.0, 11110007049.0, 24300044557.0, 34000290062.0, 73491530004.0, 49429.0, 46100037911.0, 311111598363.0, 37000167709.0, 72080015649.0, 681131360548.0, 18341151015.0, 12044058923.0, 855174005050.0, 49467.0, 44000067908.0, 311111729484.0, 37000757580.0, 24300044625.0, 78742208855.0, 681131098458.0, 851669008735.0, 27000488287.0, 3424607.0, 30000169315.0, 22796910950.0, 12044058985.0, 12000018794.0, 14100087151.0, 12000018800.0, 810021208435.0, 37000495482.0, 78742208893.0, 851669008766.0, 12000018817.0, 681131065740.0, 851669008780.0, 28400337298.0, 30100111764.0, 193968030100.0, 47400305045.0, 633456116119.0, 753656709529.0, 74312008092.0, 71026000312.0, 71026000329.0, 78742241746.0, 73497002451.0, 99900178902.0, 31604031961.0, 41554264548.0, 888109253097.0, 311111664105.0, 41144893936.0, 24300012020.0, 311111598585.0, 78742241791.0, 30000169476.0, 24300012037.0, 80878191109.0, 12000182792.0, 79524872714.0, 888109253134.0, 80878191123.0, 85239120408.0, 370030658084.0, 24300012075.0, 78742241838.0, 24300044847.0, 12000707131.0, 73010004542.0, 30000169544.0, 73010004559.0, 96265192017.0, 78742241876.0, 74677437018.0, 10700702302.0, 30100472414.0, 681131098724.0, 651080188517.0, 190104060519.0, 12000182891.0, 851932004976.0, 44000035440.0, 24100717170.0, 72030012018.0, 41167078006.0, 41331049078.0, 16000467576.0, 75201102457.0, 16000467583.0, 77817168513.0, 44000035457.0, 79200928391.0, 190104060557.0, 14100054672.0, 73390015121.0, 79400387219.0, 818000020115.0, 76308726423.0, 810005414555.0, 85239120545.0, 14100054689.0, 78742012582.0, 85239120552.0, 115090604714.0, 311111172778.0, 38000280238.0, 14100054702.0, 27917271736.0, 817343021766.0, 71249642191.0, 78742241999.0, 859581006549.0, 311111598806.0, 859581006556.0, 310119056097.0, 30000169698.0, 311111336675.0, 24300045028.0, 14100054757.0, 11110105851.0, 24300045059.0, 311111336712.0, 679234061066.0, 31604032272.0, 800338101017.0, 41116255007.0, 800338101031.0, 15614759.0, 193968194345.0, 22000288561.0, 41388000060.0, 44000068424.0, 22000288585.0, 311111402318.0, 24300045141.0, 37000889175.0, 311111172952.0, 681131098977.0, 713733620581.0, 190679008107.0, 810041590640.0, 44000002930.0, 71570015091.0, 312547427203.0, 311111631756.0, 78742373263.0, 311111598998.0, 16000435094.0, 720495920026.0, 11111613348.0, 810087302054.0, 300673778603.0, 24300045233.0, 312547427258.0, 30100112334.0, 11111613393.0, 78742111186.0, 41331049436.0, 19000083425.0, 42238723047.0, 190679008244.0, 72140801014.0, 44000003067.0, 72477983759.0, 312547427357.0, 2840019998.0, 24300045349.0, 14100087847.0, 96619316267.0, 35000566850.0, 312547427395.0, 312546051140.0, 23249011781.0, 24300045387.0, 24300045394.0, 19061490774.0, 24300045400.0, 77312410728.0, 41420080234.0, 810005415019.0, 17000350851.0, 859581006990.0, 24300045455.0, 24300045462.0, 311111337115.0, 14100055204.0, 31604032678.0, 79400191151.0, 41443902643.0, 49000006841.0, 311111337146.0, 42887431355.0, 814832010430.0, 10700702920.0, 26200392905.0, 11111122123.0, 28400010443.0, 79400453327.0, 311111926999.0, 763027703001.0, 312547427555.0, 34000291052.0, 17000121581.0, 42238723320.0, 681131164924.0, 73390114046.0, 44000036096.0, 722510071041.0, 10700702982.0, 468057965831.0, 888109253899.0, 311917167886.0, 11110860057.0, 11995006236.0, 44000003357.0, 40000210207.0, 300450170149.0, 35000141095.0, 24300045622.0, 681131164986.0, 38000182587.0, 11111122246.0, 899407005004.0, 28000011598.0, 11111613782.0, 11110073693.0, 79400453471.0, 37000004967.0, 38000182631.0, 11284006251.0, 28400174459.0, 814832010621.0, 21130790272.0, 370030167425.0, 21130069392.0, 681131296144.0, 30100473244.0, 38000149917.0, 75724244382.0, 616112866733.0, 23000434095.0, 2200028596.0, 40000505273.0, 311111730619.0, 35900310973.0, 857647007165.0, 50428298688.0, 79400519108.0, 12338641.0, 300650481113.0, 312546051546.0, 40000505310.0, 810075080162.0, 37000693222.0, 311111173607.0, 28400043496.0, 732953069031.0, 810046670323.0, 34000291328.0, 70253463044.0, 37000889861.0, 22000125446.0, 34000291335.0, 681131165198.0, 628816004625.0, 46100203033.0, 41364080154.0, 725439301145.0, 42238723627.0, 12142125.0, 722252285492.0, 852100007478.0, 28400240185.0, 28400240192.0, 44000069186.0, 644808001113.0, 72030013022.0, 78742013534.0, 44000069216.0, 44000069223.0, 44000069230.0, 312547427951.0, 36602300019.0, 311111272058.0, 44000069247.0, 72140015237.0, 44000069254.0, 85239121542.0, 363736123017.0, 107005298316.0, 70346000026.0, 302993917595.0, 21908244129.0, 36800382626.0, 46100203187.0, 858959005368.0, 70346000095.0, 4671206.0, 72140015336.0, 79400716019.0, 363824072463.0, 28400043793.0, 74300081946.0, 79400257307.0, 44000003869.0, 28400043809.0, 70622431018.0, 34285537067.0, 311111698223.0, 50428331835.0, 370030659388.0, 38459000647.0, 4671305.0, 12000184161.0, 27000489826.0, 311111698278.0, 71720093542.0, 10700703590.0, 311111010155.0, 12000184178.0, 41364080499.0, 816559015798.0, 24300865404.0, 79400257406.0, 85239089026.0, 311111010179.0, 24300865411.0, 681131362184.0, 681131362207.0, 41262270367.0, 312547428255.0, 22000158628.0, 681131362214.0, 78742276007.0, 311111698346.0, 36602300330.0, 72730331051.0, 16000206762.0, 681131362221.0, 37000890287.0, 311111698353.0, 375137585073.0, 40000210870.0, 311111698360.0, 37000890300.0, 46100400067.0, 22000289735.0, 3614226794444.0, 310158084044.0, 35000469458.0, 681131034579.0, 79400486868.0, 42238724051.0, 72030013398.0, 35000469465.0, 17000024028.0, 79400486882.0, 28400044004.0, 310158084068.0, 312547493864.0, 312547428330.0, 72030013428.0, 87076456436.0, 888109254650.0, 312547428347.0, 35000764416.0, 46100400128.0, 310158084099.0, 28400044035.0, 79200143367.0, 46100006924.0, 889714001936.0, 73141110815.0, 681131362337.0, 31200004130.0, 17000024103.0, 78742276137.0, 311111698483.0, 40000505921.0, 838891030598.0, 47400110151.0, 888109254728.0, 78742276175.0, 72030013534.0, 46100007006.0, 47500019811.0, 78742276205.0, 195994536045.0, 40000505969.0, 42238724211.0, 354973337718.0, 47500019835.0, 681131034753.0, 35000993922.0, 16000206984.0, 11509221513.0, 856200005778.0, 28400371858.0, 11111024786.0, 11110860958.0, 681131034784.0, 35000993953.0, 16000207011.0, 41420048548.0, 14100089001.0, 47400044722.0, 28400732338.0, 16000207028.0, 24300865718.0, 85640300727.0, 86800287926.0, 78742276281.0, 50428332221.0, 681131034814.0, 35000993984.0, 311111764164.0, 27000490181.0, 312547428552.0, 47400044746.0, 305730701518.0, 46100007129.0, 74312009952.0, 55086008549.0, 311111698667.0, 16000141551.0, 49000073461.0, 42037102838.0, 36000549119.0, 78742046976.0, 36000549126.0, 46100007174.0, 46100400395.0, 55086008587.0, 35000764690.0, 370030627097.0, 10700507419.0, 36000385311.0, 16000141599.0, 681131428132.0, 22000290090.0, 722252187949.0, 47400241459.0, 44000069940.0, 681131395380.0, 49022847286.0, 85239286074.0, 354973337916.0, 311111272768.0, 71853001025.0, 28400470339.0, 681131395397.0, 311111698759.0, 311111272775.0, 79400061256.0, 194346142026.0, 42037102944.0, 11111123311.0, 37000792437.0, 781138807159.0, 24300865916.0, 75486087548.0, 42037102982.0, 87694100872.0, 38000183690.0, 731216103819.0, 41457109397.0, 38000183713.0, 24300865954.0, 49000040869.0, 16000207271.0, 46100400555.0, 681131395502.0, 311111436719.0, 78742112688.0, 72030013879.0, 681131002301.0, 42238724549.0, 36000123333.0, 28400372169.0, 96619383245.0, 46100400593.0, 36000549331.0, 681131395540.0, 28400372183.0, 44000004576.0, 44900305407.0, 46100007433.0, 310158019084.0, 11111025165.0, 76150000146.0, 46100400661.0, 44000004637.0, 46100007457.0, 11111025189.0, 46100007464.0, 17082010155.0, 38000249396.0, 19000085047.0, 708747151930.0, 44000037444.0, 36000549447.0, 44000037451.0, 22000159311.0, 706460240467.0, 850004462164.0, 681131395670.0, 681131166294.0, 850004462171.0, 681131133531.0, 85000014431.0, 300450204257.0, 17082600035.0, 681131428453.0, 22000159335.0, 41420016233.0, 311111633514.0, 22000159342.0, 28400700016.0, 79400323699.0, 46100400760.0, 11110107770.0, 300658150011.0, 841058011774.0, 22000159359.0, 79400323712.0, 22000290434.0, 841058011781.0, 22000159366.0, 74182445720.0, 28400700061.0, 17000090269.0, 79927102111.0, 681131002530.0, 74182445737.0, 37000956587.0, 34000292530.0, 28400700085.0, 71720061626.0, 311111436993.0, 815517027019.0, 28400700108.0, 37466000077.0, 381519186639.0, 681131002578.0, 28400700122.0, 79400323811.0, 78742211299.0, 37000956655.0, 764302019312.0, 770981055220.0, 681131395830.0, 79200471811.0, 311111273222.0, 704620088072.0, 79656045321.0, 850010721033.0, 41100593931.0, 79200504588.0, 381519186707.0, 300450204448.0, 44000004897.0, 6736675.0, 28400306980.0, 42238724914.0, 311111437112.0, 47677000513.0, 42238724938.0, 381519186769.0, 381519186783.0, 43194338146.0, 86106033005.0, 381519186806.0, 681131428729.0, 381519186813.0, 42238724990.0, 34000292738.0, 6736781.0, 794437438351.0, 305215163282.0, 50255023002.0, 681131297691.0, 78742014876.0, 305730145183.0, 12000152481.0, 29000027053.0, 27000687536.0, 70462098358.0, 21130496969.0, 850004462539.0, 850004462546.0, 381519186899.0, 311111437266.0, 78742014937.0, 78742014944.0, 78742014951.0, 16000666603.0, 79200144364.0, 192333138939.0, 193908001788.0, 720495922181.0, 22000290823.0, 72878148627.0, 25600085011.0, 381519186967.0, 41143028766.0, 381519186974.0, 27000523827.0, 47495400502.0, 28400733243.0, 41250999362.0, 25600085059.0, 9800830022.0, 71249218631.0, 11822582858.0, 27000523858.0, 28400077910.0, 9800830039.0, 77975080030.0, 73497005162.0, 71537020014.0, 77975080047.0, 27000523889.0, 74312043635.0, 681131297912.0, 77975080061.0, 810219031685.0, 681131297936.0, 40000441489.0, 811670031504.0, 194346175635.0, 767119510683.0, 77975080092.0, 11111124127.0, 71720029343.0, 26200362151.0, 810095594663.0, 11111025837.0, 13323455.0, 34000293063.0, 11111025882.0, 682607660261.0, 28400372978.0, 11111025929.0, 28190002444.0, 311111372048.0, 41376107795.0, 194346175765.0, 311111372055.0, 678523030813.0, 11111124257.0, 311111175458.0, 858959007010.0, 37000793380.0, 12044389706.0, 77326830932.0, 816559017303.0, 71537020250.0, 41100594525.0, 64144100705.0, 10505571.0, 41415167339.0, 38000119149.0, 26200001906.0, 71537020281.0, 300450205049.0, 71537020304.0, 311111798169.0, 16000142756.0, 78742375847.0, 31604002220.0, 71537020342.0, 78742375885.0, 44276043231.0, 34000195046.0, 311111798282.0, 71990300173.0, 27000000014.0, 810095595042.0, 302250610238.0, 206001000005.0, 71990300234.0, 34000490059.0, 51576000086.0, 311111798367.0, 781138710114.0, 739423440482.0, 75609198182.0, 27800063592.0, 37000957546.0, 75609198199.0, 651433266817.0, 365197840007.0, 781138710152.0, 300450664075.0, 71990300302.0, 33200197263.0, 78742015637.0, 50428628645.0, 35000766120.0, 38000283314.0, 2068500164.0, 79400193735.0, 13562302154.0, 43000057551.0, 28400045780.0, 79400193759.0, 810102050533.0, 31604002534.0, 735303290604.0, 859852001013.0, 80878194421.0, 73046740735.0, 96619777792.0, 708820651777.0, 760236101376.0, 311111536389.0, 681131036429.0, 603084082964.0, 78742015774.0, 47677001510.0, 44000005931.0, 71249383216.0, 311111536433.0, 79400488756.0, 72799932213.0, 35000995643.0, 78742015811.0, 33200197447.0, 79400587084.0, 22200930130.0, 71537020755.0, 302994313044.0, 34000195428.0, 603084410729.0, 888670113660.0, 311111110527.0, 30243868563.0, 85239287699.0, 34000490387.0, 42238300057.0, 70462001051.0, 41420115875.0, 42238300071.0, 33200000938.0, 19320000430.0, 22200962995.0, 85000015810.0, 42238365636.0, 311111798725.0, 80878194650.0, 79400816603.0, 639844110301.0, 30000566237.0, 311111372765.0, 21130465248.0, 311111372772.0, 71990300654.0, 36602302457.0, 757528023034.0, 78742015996.0, 78742048765.0, 208800043009.0, 78742016016.0, 80878194704.0, 895321002006.0, 41167081501.0, 85239156766.0, 73497006114.0, 12044029992.0, 41100595249.0, 35000995889.0, 764302020660.0, 79400816702.0, 49000042559.0, 54315012159.0, 602652201028.0, 27000623176.0, 17000091723.0, 27000623183.0, 49000042580.0, 12044030042.0, 681131036764.0, 681131036771.0, 602652201059.0, 49000042597.0, 72320700519.0, 85239156841.0, 71990300784.0, 12044030066.0, 71990300791.0, 36800057463.0, 40000573562.0, 72799932541.0, 34000490622.0, 10700804228.0, 80878194827.0, 27000623251.0, 75724640405.0, 78742376622.0, 633472602290.0, 681131430067.0, 14200000692.0, 71249383612.0, 851146002621.0, 85239156933.0, 207083000006.0, 73497006282.0, 851146002638.0, 681131135184.0, 764591821009.0, 82254516438.0, 792850026711.0, 72030015705.0, 78742114538.0, 311111241962.0, 37000990956.0, 78742376691.0, 795130024179.0, 73497006329.0, 829515321604.0, 78742114569.0, 44000071950.0, 681131430159.0, 71990300944.0, 78742376721.0, 42037104917.0, 35000996121.0, 44000071967.0, 33200197928.0, 681131430203.0, 371661820246.0, 311111536983.0, 49705570647.0, 49000042849.0, 11489641.0, 71537021295.0, 71990301040.0, 80878195060.0, 35000144249.0, 311917171067.0, 35000996220.0, 311111537027.0, 37000008071.0, 24300835209.0, 78742147468.0, 80878195084.0, 18787783054.0, 816559018386.0, 50428498330.0, 300450206121.0, 24100000197.0, 46100009413.0, 79400456649.0, 28400406987.0, 21130301904.0, 36000125399.0, 681131430364.0, 78742147550.0, 40000573920.0, 71443010017.0, 850232005089.0, 850232005096.0, 72320700908.0, 23165424108.0, 888670081518.0, 49000043006.0, 24100000258.0, 787692835331.0, 72250020381.0, 312843555365.0, 41420018213.0, 25600086575.0, 41167606322.0, 808124174900.0, 35000996411.0, 26200101439.0, 25600086599.0, 80878195275.0, 34000491087.0, 74312176210.0, 80878195282.0, 312843555426.0, 80878195299.0, 829515321956.0, 79400522344.0, 79400522351.0, 80878195312.0, 35000472175.0, 76410901107.0, 93215675002.0, 44000006778.0, 300416684666.0, 41143128701.0, 44000006785.0, 811068019329.0, 300416684673.0, 11509060228.0, 80878195336.0, 211322000009.0, 307660739210.0, 80878195350.0, 27800064674.0, 49000075946.0, 71249253038.0, 21908509358.0, 11509060273.0, 311111537331.0, 49000075960.0, 79400522429.0, 16000176829.0, 28400636612.0, 811615015620.0, 76410901190.0, 71249253069.0, 76410901206.0, 78742442723.0, 888109257446.0, 46100009703.0, 83078009588.0, 300450239242.0, 72320701202.0, 35000767257.0, 310158840602.0, 85000016671.0, 35000996640.0, 38000284458.0, 79400063786.0, 76410901299.0, 34000229178.0, 16000275263.0, 35000996671.0, 44000072520.0, 44000006990.0, 888670114643.0, 70462002003.0, 362103001941.0, 37000827733.0, 381519188824.0, 74982151005.0, 999009244006.0, 11111519084.0, 35000996718.0, 30772056943.0, 30772089712.0, 305730147187.0, 16000144248.0, 70462002041.0, 71249253243.0, 35000996749.0, 311111472014.0, 78300140436.0, 35000996756.0, 829515322267.0, 28400014236.0, 78300140450.0, 28400014243.0, 722252387240.0, 311111209900.0, 80878195633.0, 96619615162.0, 40000508861.0, 17000092614.0, 733900133324.0, 12000809941.0, 64144102358.0, 64144102365.0, 44000007133.0, 30000567265.0, 76410901473.0, 311111767011.0, 17000092645.0, 76410901480.0, 811068019688.0, 24100000746.0, 76410901503.0, 44276044801.0, 12000809996.0, 811068019725.0, 76150232097.0, 17000092706.0, 46288000035.0, 80878195749.0, 12000810022.0, 73010631724.0, 73010631731.0, 311111898166.0, 34000000067.0, 76150232134.0, 73010009158.0, 34000000074.0, 76150232141.0, 34000000081.0, 83078009946.0, 51131995246.0, 78742443119.0, 40000574576.0, 662834500721.0, 311111210098.0, 381519189111.0, 41780073594.0, 76410901626.0, 697658201219.0, 72320111766.0, 75609199769.0, 888670082201.0, 76150232219.0, 78742082721.0, 814109021350.0, 21130302635.0, 77975082157.0, 9800570034.0, 79400457400.0, 76410901688.0, 311111210173.0, 300450206909.0, 78742443201.0, 79400490179.0, 628055758020.0, 87300560076.0, 800489002188.0, 87300560083.0, 749826004181.0, 70411605224.0, 76150232301.0, 78742148335.0, 87300560113.0, 311111898357.0, 413640873208.0, 41388004600.0, 381519189241.0, 25600087305.0, 310158054665.0, 51131208971.0, 11509060877.0, 37000172819.0, 52800673045.0, 28400669979.0, 34000000289.0, 323900003620.0, 44000007461.0, 381519189289.0, 51131667754.0, 34000000319.0, 72799933760.0, 311111898432.0, 71990302023.0, 37000828235.0, 16000439627.0, 72250021197.0, 41780073808.0, 311111898449.0, 44000007508.0, 747599418716.0, 28400047456.0, 44000007522.0, 34000000357.0, 787651122533.0, 40000476528.0, 70501193075.0, 681131136372.0, 311111472502.0, 76410901879.0, 44000040321.0, 665638000022.0, 11822781848.0, 363824010649.0, 28400309660.0, 19320001970.0, 79200048563.0, 193968100797.0, 34000000449.0, 34000000463.0, 4904403.0, 34000000470.0, 12546004442.0, 768395498979.0, 16000439801.0, 76410902012.0, 10507773.0, 28000081409.0, 70330734081.0, 44000007683.0, 76150232585.0, 34000000524.0, 27800065558.0, 27800065572.0, 311111898661.0, 681131071024.0, 41376503351.0, 28400047685.0, 50428499535.0, 77290919510.0, 28400047708.0, 70462002782.0, 50428597859.0, 78742083186.0, 841058014843.0, 5723775.0, 44000040598.0, 41420052125.0, 311111734945.0, 27800065701.0, 681131169462.0, 13850296.0, 125460141756.0, 681131235006.0, 79400457929.0, 41420052170.0, 79400490704.0, 50428335826.0, 11300820700.0, 96619321063.0, 11300820717.0, 24100001521.0, 79200048884.0, 819021010680.0, 28400637695.0, 312547170048.0, 72140019457.0, 72140019464.0, 363736323851.0, 73010009868.0, 302993889038.0, 28400637718.0, 681131235099.0, 76150200102.0, 37867444012.0, 44000073527.0, 681131169592.0, 11300820793.0, 28400211772.0, 28400670531.0, 12000221002.0, 9800800094.0, 681131235167.0, 12000221026.0, 34000000876.0, 41364543345.0, 722252191601.0, 75486091125.0, 10700707710.0, 603084576647.0, 79200049034.0, 71146002319.0, 681131071376.0, 305730705301.0, 681131071383.0, 9800800155.0, 79200049058.0, 79400458148.0, 767119513509.0, 41780271013.0, 79200049065.0, 681131169707.0, 40000542636.0, 12000024498.0, 27800065978.0, 37000107965.0, 888277718978.0, 681131169745.0, 10181040085.0, 41262274525.0, 662834501599.0, 839138007007.0, 22796916709.0, 22796916716.0, 194346080250.0, 70462035964.0, 305730705417.0, 312547170314.0, 73390020620.0, 681131169813.0, 71146002456.0, 44000040987.0, 70462036008.0, 71567661096.0, 80878196777.0, 311111145512.0, 44000041007.0, 704620058686.0, 740390295616.0, 681131104340.0, 42897660004.0, 42897660011.0, 311111538802.0, 840038209651.0, 802763331700.0, 34000296057.0, 11822291071.0, 28400310406.0, 28400310413.0, 600699361422.0, 681131104401.0, 422383409308.0, 28400310444.0, 12000811197.0, 75669199037.0, 810002110658.0, 662834501827.0, 28400310468.0, 301490002124.0, 678112254156.0, 28400703697.0, 42238302419.0, 10700708052.0, 16000211155.0, 75609200854.0, 311111309525.0, 16000211162.0, 37000927457.0, 28400310505.0, 78742018287.0, 37000075509.0, 34000001286.0, 19100031241.0, 10700708106.0, 28400310543.0, 28400310550.0, 814109022494.0, 83142007076.0, 77043358023.0, 9542031695.0, 9347108002132.0, 42238302556.0, 738553190748.0, 302994119004.0, 18787785058.0, 311111309686.0, 27800066432.0, 41780271488.0, 70552902022.0, 79893125527.0, 78742444444.0, 895072000436.0, 78742444475.0, 713733134804.0, 802535496156.0, 829515323882.0, 681131366908.0, 72785123847.0, 16000277007.0, 722252192271.0, 858795006482.0, 24100493845.0, 9542031893.0, 16000211490.0, 311111572004.0, 72799050276.0, 815305021991.0, 99900447275.0, 814832015916.0, 898571000365.0, 41780271662.0, 796708330036.0, 681131104821.0, 799289858616.0, 681131039291.0, 41420020285.0, 79893125695.0, 310158056003.0, 697029220931.0, 681421036108.0, 16000277069.0, 16000277076.0, 44000008789.0, 28400081498.0, 681131072090.0, 681421036122.0, 41780271709.0, 340001741404.0, 42238302815.0, 34000296552.0, 381371177578.0, 681131072106.0, 681131104876.0, 40000543343.0, 731703270000.0, 36800420465.0, 888670018163.0, 681131399807.0, 41780271761.0, 37000174233.0, 74108951199.0, 49000045222.0, 300410100391.0, 852933008048.0, 50428631737.0, 79200049850.0, 14200003259.0, 38341106365.0, 311111867070.0, 681131367103.0, 41780271808.0, 79200049867.0, 637480000208.0, 37000272601.0, 24100788958.0, 41780271839.0, 76660300514.0, 311111572196.0, 681131006712.0, 311111572219.0, 851681008379.0, 30000569085.0, 22000294661.0, 41780271877.0, 28400540438.0, 681131006743.0, 76410903323.0, 681131006750.0, 49000012590.0, 681131399982.0, 34000952113.0, 681131006774.0, 34000460601.0, 681131399999.0, 71123000130.0, 34000001859.0, 79400491848.0, 78742313801.0, 305732868936.0, 72030018379.0, 44000074579.0, 369168309081.0, 803926530909.0, 34000722785.0, 24100789092.0, 70462004083.0, 681131006835.0, 72030018423.0, 311111572349.0, 767119514506.0, 311111998347.0, 76150332308.0, 311111998361.0, 681131039642.0, 681131039659.0, 44000074678.0, 28400147392.0, 41780272065.0, 49000012750.0, 28400147408.0, 28400147415.0, 41780272096.0, 311111998439.0, 49000012781.0, 24300837869.0, 34000002030.0, 36800257009.0, 854102006770.0, 32420846579.0, 16000146419.0, 16000146426.0, 35000671226.0, 853986008061.0, 49000012798.0, 34000296965.0, 631656602630.0, 16000146440.0, 851681008652.0, 307667491852.0, 87194000399.0, 854102006800.0, 80878197781.0, 311111998491.0, 311111572509.0, 852933008413.0, 37000469537.0, 854102006817.0, 79400426536.0, 311111572523.0, 2840058927.0, 72799935542.0, 10700807229.0, 34000002122.0, 312547171403.0, 12546006095.0, 24300837968.0, 681131039840.0, 10700807274.0, 305732017259.0, 28400737388.0, 28400737401.0, 24100789382.0, 381519191176.0, 381519191183.0, 687456214160.0, 28400737425.0, 655956008084.0, 34000002207.0, 34000002214.0, 28400737456.0, 722252160195.0, 27800100037.0, 703123446983.0, 72554273995.0, 34000002252.0, 13971021011.0, 41167412435.0, 79400459480.0, 16000179417.0, 12000222429.0, 27917016290.0, 312547204323.0, 681131007207.0, 40000511212.0, 34000002290.0, 713733627139.0, 305210416390.0, 312547204361.0, 49000045840.0, 300450209047.0, 28400737562.0, 808124112155.0, 76410903835.0, 311111998750.0, 34000952618.0, 41570131244.0, 71159078196.0, 28400737593.0, 35000671547.0, 350844411211.0, 757528026448.0, 41100598608.0, 22400621906.0, 21130206551.0, 78742084954.0, 4000046426.0, 784857881950.0, 34000002399.0, 71159078240.0, 300410101091.0, 34000002405.0, 75707014506.0, 34000002412.0, 99900972418.0, 605388987778.0, 34000002436.0, 194346114436.0, 38000287114.0, 34000002450.0, 716270001554.0, 720300236182.0, 311111736727.0, 311917174174.0, 125460110752.0, 34000002467.0, 34000002474.0, 44000042417.0, 681131138482.0, 36000423358.0, 853030002113.0, 681131138499.0, 732913229253.0, 36000423365.0, 16500579786.0, 72320114125.0, 365197811151.0, 311111310804.0, 50428304853.0, 27800067545.0, 76410904030.0, 681131040235.0, 311111998958.0, 70038576631.0, 850029796855.0, 37000830467.0, 76314304011.0, 850018852364.0, 311111998989.0, 681131433501.0, 10181041709.0, 78742019659.0, 813805002328.0, 681131433570.0, 681131040365.0, 16000147058.0, 737870175865.0, 681131171458.0, 34000002702.0, 53100338832.0, 16000147096.0, 810815020700.0, 22000000675.0, 79400066725.0, 16000147119.0, 70501064368.0, 74108952240.0, 603084578498.0, 79400492739.0, 662834503364.0, 37014200003.0, 16000179912.0, 79400492746.0, 11111325388.0, 22000295644.0, 25866591967.0, 22400622309.0, 72785125100.0, 896324001522.0, 781624008442.0, 44000075514.0, 74323091199.0, 25866592001.0, 41388007175.0, 125460111124.0, 10700021526.0, 59290574616.0, 323900006171.0, 16000179998.0, 22000295712.0, 30772125472.0, 850011381540.0, 34000199464.0, 25866592056.0, 14200004409.0, 305215070009.0, 681131106108.0, 605388627773.0, 30772059968.0, 36000030532.0, 856069005124.0, 681131106122.0, 856069005131.0, 72431001420.0, 30772125519.0, 70501064535.0, 681131106139.0, 856069005155.0, 27800067941.0, 28400574310.0, 887363493737.0, 78742085494.0, 16000147324.0, 16000147331.0, 16000147348.0, 34000560028.0, 764521340839.0, 34000560042.0, 34000002993.0, 311111737267.0, 300450275257.0, 670171881403.0, 78742085579.0, 78742085609.0, 28400705530.0, 70462431230.0, 25866592261.0, 73010012172.0, 155670.0, 16000278554.0, 34000003129.0, 44000075835.0, 34000560189.0, 41420054594.0, 44000075842.0, 722252161093.0, 30100119630.0, 28400705615.0, 829515325527.0, 311111770202.0, 764302024798.0, 37000568926.0, 79400591463.0, 28400705639.0, 34000560233.0, 28400607339.0, 34000003181.0, 79400591470.0, 72030019697.0, 764302024828.0, 34000003204.0, 28400705684.0, 77034086553.0, 606000537753.0, 28400705691.0, 107000881308.0, 850180006046.0, 15665520800.0, 28400705707.0, 74690060460.0, 856069005483.0, 28400345262.0, 37000896692.0, 28400705721.0, 829515325633.0, 878114005187.0, 28400083140.0, 28400705738.0, 11509063885.0, 28400705745.0, 79896174812.0, 34000003303.0, 28400705769.0, 311111475435.0, 28400705776.0, 71159079155.0, 28400705790.0, 644209303809.0, 78742151427.0, 44000043285.0, 28400017688.0, 309978456353.0, 96619258147.0, 78742020389.0, 885799641388.0, 34000003372.0, 10700808493.0, 34000560431.0, 72030019895.0, 70578004281.0, 305731330380.0, 12000190797.0, 71720001875.0, 72140022105.0, 41420054877.0, 71249420638.0, 40004641120.0, 41420054884.0, 16000180598.0, 28400607612.0, 30772126080.0, 365197681037.0, 34000003471.0, 311111147929.0, 323900039582.0, 300410102180.0, 12000190889.0, 34000921003.0, 74469499309.0, 681131073967.0, 22400393650.0, 12546007481.0, 38000845246.0, 46100341186.0, 38000845253.0, 38000845260.0, 28400247245.0, 74108133854.0, 85000020456.0, 37000864233.0, 758093472234.0, 81864221169.0, 88109113852.0, 764302025214.0, 22400393728.0, 722252194305.0, 79200051716.0, 787651420677.0, 22400393735.0, 41364087306.0, 100378370580.0, 41364087320.0, 44000043551.0, 79200510497.0, 852717003306.0, 31262073389.0, 34223252014.0, 22400393773.0, 300650816045.0, 852717003313.0, 81864221244.0, 832697000526.0, 856069005902.0, 86800687702.0, 70462005851.0, 363824996974.0, 681131074162.0, 10181042805.0, 28400738941.0, 856069005957.0, 300450407047.0, 37000962700.0, 34000134809.0, 888109130404.0, 28400280242.0, 11110081216.0, 41100600004.0, 41331090117.0, 311111836359.0, 311111672520.0, 78742086361.0, 26200171227.0, 305210221277.0, 808124113633.0, 749826138855.0, 24100594412.0, 22000001788.0, 37000962823.0, 37000733454.0, 64144106257.0, 41250087700.0, 810571031316.0, 41260376863.0, 78742020921.0, 757528027964.0, 10700088130.0, 99900908363.0, 76410905426.0, 28400575317.0, 75724252004.0, 12000027505.0, 312843101050.0, 83078112134.0, 11110015891.0, 41116263316.0, 311917110165.0, 49000047516.0, 311111672742.0, 46872060841.0, 810006471595.0, 37000733614.0, 75724219311.0, 790429262768.0, 74323092400.0, 311111836595.0, 3400000441.0, 49000047547.0, 832992011197.0, 33674159040.0, 697029551042.0, 850010792903.0, 5366729.0, 51756000202.0, 38000845772.0, 76410905549.0, 722252325839.0, 885310350287.0, 783399871443.0, 38000845789.0, 717334242272.0, 51756000226.0, 36000424935.0, 311111902184.0, 51756000233.0, 78742316031.0, 28400018432.0, 49022821378.0, 41250939917.0, 305732019222.0, 47400313897.0, 78742053929.0, 305734181934.0, 371687777326.0, 76410905648.0, 311111836724.0, 47495210040.0, 31604040772.0, 24100594757.0, 28400084048.0, 810041599056.0, 28400084055.0, 34000725083.0, 78742348896.0, 78742348902.0, 74676233321.0, 22224200813.0, 605388661869.0, 50844329072.0, 96619062386.0, 41364087924.0, 808124114043.0, 64042198156.0, 22000297105.0, 28400739481.0, 681131173018.0, 113008207002.0, 36000195750.0, 708820493483.0, 40000382126.0, 78742152370.0, 96619160761.0, 305210287303.0, 28400051408.0, 78742152400.0, 310158320852.0, 22000297174.0, 41500894423.0, 28400313605.0, 44000077068.0, 76410905877.0, 345334310167.0, 79200249113.0, 85178017050.0, 30772061466.0, 36000195866.0, 76410905891.0, 72878155045.0, 681131107631.0, 34000004409.0, 71249651001.0, 22400623931.0, 731124000064.0, 310310430016.0, 70462006599.0, 310158058823.0, 71720002889.0, 46100800843.0, 70462006605.0, 44000077136.0, 76150007121.0, 323900040533.0, 16000148826.0, 26200171883.0, 70462006636.0, 308001990000.0, 311111345523.0, 44000044404.0, 72140023157.0, 662834505078.0, 609454679413.0, 44000077174.0, 603084055937.0, 41250645382.0, 603084547463.0, 79400461704.0, 47495800203.0, 27800167832.0, 47400510876.0, 311111050656.0, 47495800227.0, 792000521646.0, 37000734130.0, 80878200245.0, 323900040632.0, 35000444349.0, 41100568007.0, 310310430153.0, 34000430543.0, 681131402705.0, 311111837141.0, 651080066518.0, 78742218199.0, 511111914983.0, 681131402729.0, 72030021102.0, 35000444400.0, 76410906102.0, 72030021119.0, 34000004607.0, 74323093001.0, 305212352009.0, 74027001357.0, 73010013711.0, 349597001244.0, 81864222241.0, 34000561704.0, 300450932266.0, 311111837226.0, 708820952621.0, 637480003131.0, 11225130557.0, 16000476738.0, 16000476752.0, 820645226067.0, 14100096597.0, 31604041304.0, 30772061787.0, 761062450782.0, 34000004713.0, 16000411241.0, 305730709101.0, 79400593016.0, 28400313988.0, 78742021768.0, 28400313995.0, 52336912014.0, 637480003216.0, 22000002709.0, 50428438169.0, 28400314015.0, 34000561827.0, 44000044718.0, 681131402927.0, 76660008625.0, 28400215732.0, 79400265401.0, 38000355004.0, 28400314046.0, 300450113214.0, 73161991876.0, 34000004805.0, 72030021317.0, 76828141256.0, 21130176205.0, 855569000141.0, 323900040915.0, 311111706324.0, 681131402965.0, 72554276569.0, 713733301978.0, 28400314077.0, 28400314091.0, 34000070381.0, 770981095158.0, 681131403016.0, 637480003339.0, 74887685902.0, 311111673619.0, 300312094484.0, 27917018904.0, 28400314138.0, 3606000559912.0, 888849000241.0, 681131403085.0, 852661266260.0, 681131173728.0, 83078113131.0, 34000430956.0, 891038001004.0, 34856822639.0, 79400462213.0, 370008090502.0, 34000070534.0, 79400265609.0, 79400462220.0, 44000077709.0, 72060004236.0, 381371180950.0, 34856822684.0, 312843593633.0, 37000505259.0, 802535434158.0, 28400740272.0, 28400019378.0, 308694706100.0, 16000149434.0, 761809004476.0, 36602079175.0, 34000070619.0, 13764028395.0, 28400642033.0, 28400642040.0, 73491081209.0, 681131239424.0, 681131108355.0, 72959420420.0, 22400002057.0, 79400462350.0, 13764028432.0, 34000005154.0, 850005911586.0, 72030021669.0, 72060004397.0, 49000081459.0, 96002009141.0, 753656719429.0, 70132099142.0, 891038001226.0, 44000077907.0, 878941005909.0, 16000477278.0, 681131108454.0, 50428373095.0, 810006472806.0, 34000005222.0, 311111772268.0, 681131403375.0, 22000003195.0, 34000005246.0, 37000734857.0, 36602833036.0, 22400624785.0, 44000077969.0, 818480015526.0, 53076191400.0, 75020101808.0, 818480015540.0, 40000579779.0, 74323028164.0, 767119714500.0, 37000308935.0, 78742022345.0, 77975087312.0, 40000579793.0, 44000078034.0, 311111510228.0, 818594015450.0, 19200993500.0, 40000579816.0, 36602833135.0, 24100104437.0, 78742022390.0, 40000579830.0, 12000192760.0, 41167055106.0, 32251275524.0, 27800103175.0, 681131436298.0, 311111772428.0, 78742022413.0, 29000296732.0, 305215007005.0, 323900041509.0, 16000215337.0, 301490039083.0, 697941813556.0, 41116002618.0, 764566071620.0, 34000005451.0, 681131436366.0, 885222336850.0, 37000735076.0, 697029421437.0, 35000510846.0, 301490039168.0, 35000510853.0, 72140810634.0, 22000298379.0, 75609041297.0, 44000045463.0, 713733466523.0, 71249422748.0, 58000140707.0, 35000510884.0, 681131436458.0, 827165665710.0, 22000298416.0, 72030022086.0, 80177609.0, 872181000649.0, 72030022093.0, 40000514510.0, 323900041677.0, 681131436496.0, 70462007770.0, 22000298461.0, 47400315358.0, 872181000687.0, 301490039281.0, 70462007794.0, 793099102709.0, 40000580089.0, 35000510969.0, 22000298492.0, 41116232190.0, 301490039298.0, 40000580102.0, 35000510983.0, 37000899082.0, 44000045579.0, 16000215566.0, 28400183826.0, 44000045586.0, 79783488022.0, 28400183833.0, 37000899099.0, 72140024352.0, 12000029226.0, 40000580164.0, 311111772749.0, 73141152334.0, 35000511058.0, 96002009684.0, 10700024404.0, 78742121048.0, 35000511065.0, 28400183901.0, 889411431005.0, 11111033443.0, 70501100134.0, 40000580201.0, 872181000809.0, 73171004016.0, 11111262850.0, 47400675971.0, 30772062852.0, 681131731591.0, 97923000972.0, 35000511126.0, 41840831126.0, 38000356001.0, 85239196328.0, 681131928236.0, 40000580270.0, 44000045753.0, 40000580294.0, 851100003015.0, 311111936721.0, 24300808913.0, 35000511201.0, 11111033573.0, 840797154032.0, 37000801009.0, 26200140537.0, 323900041981.0, 73141152518.0, 72030022406.0, 41565285129.0, 30000573198.0, 41565285136.0, 78742022932.0, 30772062999.0, 300230667043.0, 26200140582.0, 77784017708.0, 79400266545.0, 79400495921.0, 17000131382.0, 79400266552.0, 311111248701.0, 26200238920.0, 79400495945.0, 851413003085.0, 125460114262.0, 41260346200.0, 11111033689.0, 78742121307.0, 85239163740.0, 79400495976.0, 851100003176.0, 74323094381.0, 79400495983.0, 301220293488.0, 10181045103.0, 312547306355.0, 79400495990.0, 301220293495.0, 34000006007.0, 311111445377.0, 41167580035.0, 307663072147.0, 41167580059.0, 308694707107.0, 79400496041.0, 70462008234.0, 85000022955.0, 681131109291.0, 70462008241.0, 307660745655.0, 831248001975.0, 831248001982.0, 681131731904.0, 75371015120.0, 72030022611.0, 24300841941.0, 1141719.0, 30000573402.0, 681131240413.0, 300230798303.0, 681131305952.0, 77043002339.0, 70501100516.0, 681131731942.0, 301490039786.0, 3029938891754.0, 28400643061.0, 41840831485.0, 74108300287.0, 215600000002.0, 311111085061.0, 73731009543.0, 819156020233.0, 311111150608.0, 819156020240.0, 93922520084.0, 311111085078.0, 16000412699.0, 681131240482.0, 854135008291.0, 27000073254.0, 311111773234.0, 311111085108.0, 16500583479.0, 86800100409.0, 16500583493.0, 796237196370.0, 16000183384.0, 42238307421.0, 70462008425.0, 34000432240.0, 73171004528.0, 44000046194.0, 14200040568.0, 300410825850.0, 194346118267.0, 307660745853.0, 299682000006.0, 600699661447.0, 492450704520.0, 311111085191.0, 37000670346.0, 34000432271.0, 21130079377.0, 28400675994.0, 681131306140.0, 34000432288.0, 194346052769.0, 681131240611.0, 77975022757.0, 371687320744.0, 370030275755.0, 681131699372.0, 681131306157.0, 311111150769.0, 681131240628.0, 302994910403.0, 34000432325.0, 311111937223.0, 34856037583.0, 22000135377.0, 73497013457.0, 8711700966610.0, 78300081364.0, 31604042967.0, 681131240666.0, 34000006366.0, 41167351017.0, 44000046316.0, 681131928823.0, 757901880568.0, 40000515326.0, 79400267009.0, 681131699471.0, 74013011216.0, 17000164625.0, 719410720018.0, 681131240727.0, 96619982110.0, 764302290209.0, 681131109666.0, 44000046378.0, 49705086254.0, 72030022963.0, 681131928885.0, 52800482623.0, 72140025151.0, 78742056258.0, 41780047175.0, 764302290247.0, 299597000009.0, 16018761.0, 300450409805.0, 37000179023.0, 305730514262.0, 372494101854.0, 634418523488.0, 681131240802.0, 854135008611.0, 634418523495.0, 50051313000.0, 14100098423.0, 681131699587.0, 73141153157.0, 34000006533.0, 72799055240.0, 304960892300.0, 30100123026.0, 34000170388.0, 311111085467.0, 50428571040.0, 21130079650.0, 12044037539.0, 361422679459.0, 49000050103.0, 12044037560.0, 50428636602.0, 651433405896.0, 650240028106.0, 28400184779.0, 37000670667.0, 713733369299.0, 12044037591.0, 16000413146.0, 49000050141.0, 74323095012.0, 49000050165.0, 34000006656.0, 74323095043.0, 74182290948.0, 16000216587.0, 37000736271.0, 681131699730.0, 606541803027.0, 41260019241.0, 70462008876.0, 37000670773.0, 78742351414.0, 30772063798.0, 14200204854.0, 78742122045.0, 79400496706.0, 713733467728.0, 37000670803.0, 74312150616.0, 73420041816.0, 11111722590.0, 370030145119.0, 34000399970.0, 34000531042.0, 23933677156.0, 74323029604.0, 732748017254.0, 79400496744.0, 73390026349.0, 840093101686.0, 40000581239.0, 74323029628.0, 681131077248.0, 49022561922.0, 713733467780.0, 37000736394.0, 11110018700.0, 38000357008.0, 74323029673.0, 28400152242.0, 35000512178.0, 70462009019.0, 764302290629.0, 681131699921.0, 56100024019.0, 305210224346.0, 28400742108.0, 84114108128.0, 22000004833.0, 46100410080.0, 22000004840.0, 34856890089.0, 311917211374.0, 311111610096.0, 311111085818.0, 41260019456.0, 22000004864.0, 350580535042.0, 72058957575.0, 34000432905.0, 307660746508.0, 72799055639.0, 16500584223.0, 311111249708.0, 50428342060.0, 75609206573.0, 24500334380.0, 681131700016.0, 11594100533.0, 381370036029.0, 194346020669.0, 194346053438.0, 42238340930.0, 71249325896.0, 708820758346.0, 72799055691.0, 311111085900.0, 41780014924.0, 3731284.0, 79400496980.0, 30772064085.0, 42238340954.0, 10700156778.0, 691036647286.0, 640410513273.0, 74312511356.0, 70462009217.0, 10700156808.0, 44000046989.0, 74923405198.0, 818323025811.0, 681131175838.0, 882095222686.0, 44000047009.0, 30800900002.0, 681131175845.0, 311111544742.0, 681131175852.0, 11111002029.0, 38000291760.0, 44000047030.0, 681131175869.0, 79200055233.0, 12546011075.0, 12000030659.0, 681131175876.0, 681131143110.0, 74027167688.0, 681131175883.0, 17000132556.0, 307660746706.0, 747599622106.0, 73390026714.0, 681131175906.0, 12546011112.0, 681131700214.0, 12546011136.0, 73170219008.0, 16000446465.0, 77975089156.0, 681131175944.0, 311111610379.0, 681131175951.0, 22000005144.0, 34000400409.0, 879890001950.0, 28400742443.0, 22400528441.0, 818594017348.0, 22000300102.0, 9531125831.0, 810815025224.0, 50428309582.0, 681131176019.0, 19100233812.0, 49000018011.0, 24100106332.0, 52800483422.0, 810006474855.0, 363824050287.0, 883484717172.0, 34000007301.0, 34000171156.0, 363824050331.0, 27917021348.0, 22600020141.0, 17000001722.0, 300650361026.0, 11110904003.0, 490000183498.0, 888853590219.0, 829262000340.0, 36000133332.0, 78742352091.0, 74323095777.0, 12546011365.0, 12546011372.0, 27800072433.0, 72140026110.0, 72140026141.0, 34000236831.0, 12546011426.0, 27800072488.0, 12546011433.0, 28400513333.0, 14200205622.0, 72140026172.0, 35000971593.0, 27800072525.0, 72140026189.0, 634418524508.0, 194346021215.0, 35000971616.0, 74323095906.0, 34000040292.0, 194346021222.0, 28400251242.0, 72030024042.0, 28400021869.0, 36602311022.0, 27800072563.0, 28400480628.0, 30000312698.0, 34000040315.0, 12546011525.0, 381371183494.0, 732494000524.0, 12546011532.0, 74323095951.0, 681131405713.0, 37000769941.0, 36000199062.0, 681131405720.0, 310119002520.0, 381371183517.0, 300410106270.0, 846675014047.0, 21000024483.0, 21000024490.0, 12546011563.0, 49000018349.0, 78742024622.0, 310158356912.0, 72799056308.0, 78742254005.0, 672975581633.0, 381371150786.0, 70330708419.0, 784716001734.0, 781138719179.0, 71146009042.0, 49508250067.0, 72030024165.0, 879890002407.0, 300671201769.0, 300671201776.0, 879890002421.0, 781138719223.0, 850015089145.0, 34000007677.0, 307661173259.0, 78742090252.0, 41167057421.0, 9800512041.0, 38000914997.0, 41116004926.0, 72030024257.0, 795631809091.0, 16000512580.0, 879890002506.0, 879890002513.0, 681131176545.0, 24100106851.0, 722252329578.0, 70501102190.0, 78742221427.0, 78742221434.0, 78742221441.0, 72730276482.0, 100403114639.0, 34000433810.0, 311111185044.0, 46100411032.0, 41388012209.0, 46100411063.0, 28400087735.0, 311111021243.0, 20525183682.0, 12546011846.0, 681131078344.0, 50428277454.0, 311111185112.0, 38000292569.0, 73608032988.0, 681131864800.0, 850028229354.0, 311111250667.0, 38000292590.0, 300650361583.0, 681131111157.0, 73491510006.0, 78742090511.0, 312547701525.0, 888853000985.0, 11111527201.0, 30100124450.0, 300450444066.0, 810010440488.0, 311111185198.0, 681131078450.0, 311111185204.0, 28400055093.0, 50428408643.0, 28400055109.0, 20709012302.0, 16000185166.0, 681131078504.0, 28000220013.0, 681131078511.0, 16000283503.0, 16000152434.0, 832992015218.0, 851409007486.0, 14100099970.0, 72785130371.0, 35000972163.0, 662834508680.0, 5000167322507.0, 810006475661.0, 311111185297.0, 20200027027.0, 310119035801.0, 41116005275.0, 47495410600.0, 888853001135.0, 310119035825.0, 371661829041.0, 36602311602.0, 34000008117.0, 70411613113.0, 30100124603.0, 78742254524.0, 79400465351.0, 311111021526.0, 79400072160.0, 194346021857.0, 603084026852.0, 768702542821.0, 12546012140.0, 371661829102.0, 79400072177.0, 311111185402.0, 681131045889.0, 40000582663.0, 840038249480.0, 681131045896.0, 681131275279.0, 311111185426.0, 35000972309.0, 41100080165.0, 894771000372.0, 311111185464.0, 107005310018.0, 840044704836.0, 85239166024.0, 603084223565.0, 20709012562.0, 41376511066.0, 12546012256.0, 38459995233.0, 22400005218.0, 681131275378.0, 311111152756.0, 86800102519.0, 354973316218.0, 71100200058.0, 322514908284.0, 99900585090.0, 687735305350.0, 11111396487.0, 11111396494.0, 11111396500.0, 34000008360.0, 819156022442.0, 311111972019.0, 77661140154.0, 74182292669.0, 12000031960.0, 311111709912.0, 843992036585.0, 363824018669.0, 34000008438.0, 37000738046.0, 69055837443.0, 300450444547.0, 40822011143.0, 704620066056.0, 71720826119.0, 841058022664.0, 36602311954.0, 34952148244.0, 5534999.0, 34000008476.0, 75609208102.0, 810010441003.0, 96619656493.0, 768702543149.0, 78742189369.0, 12000163135.0, 34000008520.0, 708971918668.0, 414200362316.0, 311111972187.0, 817939019108.0, 40822011242.0, 80878171507.0, 12044039540.0, 888849003891.0, 41116005756.0, 38000293245.0, 78742189437.0, 76150011265.0, 80878171521.0, 888849003907.0, 78742189444.0, 72470001030.0, 76828046728.0, 15103369.0, 19045053834.0, 311111021960.0, 42238309777.0, 603084223893.0, 14200042906.0, 35000972699.0, 75609601439.0, 99900159413.0, 11509003720.0, 382431000010.0, 27917022680.0, 871760000476.0, 713733305822.0, 311111185891.0, 41167058404.0, 28400186858.0, 68142102006.0, 78742222332.0, 22000006653.0, 871760000513.0, 22000006660.0, 305213077000.0, 79400302090.0, 300671202827.0, 78742222349.0, 12546012690.0, 35000514066.0, 370030147090.0, 22000006677.0, 22000006684.0, 70462010909.0, 300651509281.0, 78742222370.0, 300234307105.0, 41116005923.0, 70462010916.0, 829262001705.0, 44000015923.0, 850042058299.0, 78742222400.0, 722252101204.0, 72140027476.0, 73171007062.0, 50428573273.0, 38000359002.0, 792850658905.0, 34000402014.0, 97467299429.0, 85239166581.0, 609332819580.0, 363824215686.0, 609332819597.0, 40822011549.0, 311111448224.0, 28400055970.0, 511111001768.0, 34000008872.0, 810291001002.0, 17082873514.0, 17000003245.0, 22200940207.0, 28400055987.0, 34000402113.0, 79400498885.0, 16000415447.0, 780330563290.0, 72140027612.0, 300450838247.0, 49022564077.0, 14874352.0, 78742222585.0, 16000513792.0, 810291001088.0, 72140027650.0, 606541936404.0, 72140027674.0, 302993930020.0, 70330742567.0, 752798234418.0, 41190061877.0, 303160260407.0, 72140027704.0, 888670025529.0, 722252068682.0, 15038289.0, 750894610259.0, 41167058787.0, 41116006265.0, 40000583547.0, 41168631675.0, 40000550785.0, 2840033155.0, 722252068743.0, 311111972743.0, 30772033418.0, 49000544138.0, 49000544145.0, 858380040099.0, 11110086570.0, 889476413367.0, 78742321080.0, 11110086594.0, 41116006340.0, 72799057862.0, 24100108244.0, 30772033500.0, 44000049133.0, 10700060655.0, 852466006009.0, 70462011388.0, 79200057343.0, 78742222851.0, 34000140299.0, 75609208850.0, 43917113371.0, 78742222875.0, 311111972897.0, 26200471587.0, 26200471594.0, 78742026282.0, 28400744492.0, 311917213743.0, 78742353968.0, 681131276344.0, 28400744508.0, 681131276351.0, 40822011969.0, 422383024198.0, 78742091853.0, 71100004434.0, 12000000089.0, 609332820067.0, 28400679015.0, 609332820081.0, 194346121335.0, 28400679039.0, 10700060808.0, 28400679053.0, 71249000601.0, 312546621596.0, 311111448736.0, 302994127009.0, 28400679077.0, 71249164457.0, 12000000171.0, 850030360748.0, 381370038443.0, 14113700016.0, 9800120499.0, 43000002742.0, 71249230015.0, 843283134655.0, 28400679114.0, 28400056526.0, 40000551133.0, 709434800353.0, 10700060907.0, 24500304109.0, 300651510003.0, 24500304116.0, 40000551157.0, 78742288635.0, 26200471808.0, 831248005379.0, 9542039813.0, 21600106763.0, 28400056588.0, 311111645456.0, 79200057619.0, 28400089364.0, 856481003807.0, 21600106794.0, 28400646444.0, 71100004656.0, 858102004019.0, 34000140596.0, 858102004026.0, 311111645500.0, 311111121219.0, 381370038597.0, 311111285065.0, 34000140619.0, 78742026572.0, 884486437198.0, 33732000079.0, 34000140626.0, 31059.0, 603084290390.0, 79400499547.0, 16500586845.0, 719283616098.0, 311111350633.0, 78742026602.0, 19100006775.0, 311111285133.0, 813277018520.0, 194346121632.0, 28400581028.0, 40000518587.0, 312546621886.0, 854226008513.0, 229231000003.0, 311917214153.0, 810056350154.0, 840315501003.0, 311111285201.0, 30772034002.0, 28400482769.0, 37600295383.0, 871760001497.0, 855594007009.0, 9800120802.0, 194346056170.0, 70330743274.0, 51943242231.0, 194346056187.0, 854226008582.0, 70462011913.0, 50428574225.0, 22000007698.0, 26200144405.0, 100000856598.0, 311111285270.0, 26200144412.0, 34000140831.0, 50428312100.0, 16000219687.0, 311111645739.0, 311111285294.0, 77975091760.0, 28400679473.0, 26200144436.0, 70200556089.0, 26200144443.0, 78742092348.0, 64064.0, 78742092355.0, 9697867.0, 28400745048.0, 311111023209.0, 11111529069.0, 16500554349.0, 16500554356.0, 37600000628.0, 681131145848.0, 650066000508.0, 72043002495.0, 73170320001.0, 72600091283.0, 49000053401.0, 888849005222.0, 49000053418.0, 28400679602.0, 34000239283.0, 312546622135.0, 78742059716.0, 303160228551.0, 78742059723.0, 722252266194.0, 872181005019.0, 311673912027.0, 300650429153.0, 948968.0, 19100138223.0, 311111121653.0, 74323000054.0, 34000042746.0, 704620067596.0, 12044040980.0, 12000230165.0, 858158005015.0, 12044040997.0, 28400515887.0, 28400679732.0, 41220078400.0, 214725000003.0, 41420127052.0, 43000200018.0, 312546622296.0, 36800494428.0, 43000200032.0, 872181005156.0, 790223911787.0, 43000200049.0, 301220199285.0, 77975092088.0, 43000200056.0, 858158005114.0, 73390029692.0, 12044041086.0, 26200144771.0, 73170320261.0, 12546014090.0, 757528001421.0, 736658946963.0, 72785132443.0, 871760001947.0, 17276238754.0, 71720926116.0, 37000772521.0, 37000117162.0, 300410108847.0, 50428312506.0, 71720532935.0, 818780011471.0, 26200144849.0, 22200941525.0, 871760002005.0, 26200144856.0, 40000551898.0, 22200941532.0, 300450184160.0, 41457155042.0, 818780011495.0, 843571002345.0, 28400090094.0, 12546014199.0, 194346122233.0, 78742354941.0, 194346122240.0, 194346122257.0, 78742354972.0, 311111449634.0, 769915190311.0, 78742354989.0, 76828048432.0, 78742354996.0, 14113700917.0, 311111810106.0, 34000174140.0, 78742355009.0, 28400090179.0, 43000200261.0, 78742355023.0, 79400008794.0, 871760002142.0, 28400647267.0, 72140029029.0, 78742355047.0, 78742125671.0, 12000001130.0, 44000050290.0, 300410109042.0, 311111285874.0, 300318719107.0, 745527114884.0, 30772001929.0, 11111038097.0, 311111023780.0, 34000403622.0, 28400155830.0, 72140029111.0, 22000008381.0, 810006478013.0, 12000230592.0, 27000372418.0, 840044707011.0, 27000372425.0, 16000154834.0, 28400516310.0, 12000230615.0, 73852058840.0, 832112000230.0, 28400516327.0, 78742027500.0, 12000230639.0, 16185130227.0, 708826103034.0, 12000230653.0, 85239069950.0, 78742027517.0, 44000050436.0, 76828048647.0, 12000001291.0, 11110874382.0, 32251444494.0, 12000230677.0, 28400712989.0, 12000230691.0, 311111810342.0, 41364880679.0, 840797158696.0, 44000017705.0, 71214005549.0, 840797158702.0, 310742023497.0, 850010111315.0, 300410109271.0, 28400516440.0, 43000200537.0, 34000239962.0, 855880007010.0, 717226278242.0, 872181005675.0, 44000017774.0, 22000008558.0, 28400516464.0, 678523010419.0, 28400516471.0, 300810730877.0, 300810730884.0, 78742125961.0, 722252168597.0, 11111005594.0, 86106013083.0, 10700062109.0, 818780011938.0, 829576019366.0, 888849005994.0, 323900013995.0, 16000220591.0, 72092024240.0, 14113734066.0, 86106013120.0, 16000220614.0, 850005622215.0, 28400680400.0, 76410093017.0, 28400516570.0, 76410093031.0, 40000421375.0, 41331064330.0, 43000200735.0, 10700062253.0, 28400516655.0, 79400500786.0, 28400516662.0, 301490372159.0, 28400516679.0, 300410011208.0, 856823004745.0, 16000351820.0, 34000502349.0, 28400516686.0, 872181005910.0, 365197295203.0, 34000993895.0, 381370039914.0, 681131769457.0, 872181005941.0, 78742322810.0, 810000318094.0, 72140029586.0, 9800122011.0, 20200029854.0, 71249395363.0, 12546014885.0, 300410109608.0, 686700101300.0, 11110022837.0, 323900014268.0, 47495610048.0, 50428313282.0, 44276055746.0, 853382004421.0, 22000008916.0, 28400090841.0, 18000510689.0, 829515300579.0, 74027007717.0, 28400090858.0, 7020052202.0, 49022697195.0, 28400516853.0, 32251805431.0, 38276005627.0, 34000404223.0, 77975092996.0, 42238312203.0, 12000100109.0, 637480075022.0, 28400090896.0, 42238312210.0, 22000008985.0, 22000008992.0, 681131409186.0, 650066001703.0, 44000050986.0, 28400516914.0, 44000051006.0, 75005771.0, 79400599384.0, 311111941985.0, 44000051044.0, 37000839033.0, 72225226619.0, 77975093122.0, 681131409285.0, 38276005771.0, 756809105292.0, 80878043026.0, 75186012055.0, 44000051099.0, 42238312371.0, 12000100284.0, 36300062653.0, 637480075206.0, 890592002007.0, 16000221154.0, 43000201190.0, 16000221178.0, 80878043132.0}\n"
     ]
    }
   ],
   "source": [
    "# Find barcodes that exist in both DataFrames\n",
    "common_barcodes = set(transactions['BARCODE']).intersection(set(products['BARCODE']))\n",
    "print(f\"Number of common barcodes: {len(common_barcodes)}\")\n",
    "print(\"Common barcodes:\", common_barcodes)"
   ]
  },
  {
   "cell_type": "code",
   "execution_count": 242,
   "id": "c21e96c9-ba60-46a6-a62a-c00b789d96a4",
   "metadata": {},
   "outputs": [
    {
     "data": {
      "text/plain": [
       "0        1.530001e+10\n",
       "1                 NaN\n",
       "2        7.874223e+10\n",
       "3        7.833997e+11\n",
       "4        4.790050e+10\n",
       "             ...     \n",
       "49995    8.523911e+10\n",
       "49996    4.610040e+10\n",
       "49997    6.466300e+11\n",
       "49998    4.180050e+10\n",
       "49999    3.076607e+11\n",
       "Name: BARCODE, Length: 50000, dtype: float64"
      ]
     },
     "execution_count": 242,
     "metadata": {},
     "output_type": "execute_result"
    }
   ],
   "source": [
    "transactions.BARCODE"
   ]
  },
  {
   "cell_type": "code",
   "execution_count": 243,
   "id": "c376d6a2-1174-46df-8cd7-2f627221491f",
   "metadata": {},
   "outputs": [
    {
     "data": {
      "text/plain": [
       "0         7.964944e+11\n",
       "1         2.327801e+10\n",
       "2         4.618178e+11\n",
       "3         3.500047e+10\n",
       "4         8.068109e+11\n",
       "              ...     \n",
       "845547    7.223016e+11\n",
       "845548    4.182082e+10\n",
       "845549    1.001672e+11\n",
       "845550    7.539076e+10\n",
       "845551    7.967933e+11\n",
       "Name: BARCODE, Length: 845552, dtype: float64"
      ]
     },
     "execution_count": 243,
     "metadata": {},
     "output_type": "execute_result"
    }
   ],
   "source": [
    "products.BARCODE"
   ]
  },
  {
   "cell_type": "code",
   "execution_count": 244,
   "id": "e2119821-b279-4787-82dc-94814839a5bc",
   "metadata": {},
   "outputs": [
    {
     "name": "stdout",
     "output_type": "stream",
     "text": [
      "Number of matched barcodes: 23216904\n"
     ]
    }
   ],
   "source": [
    "# Inner join - only keeps matching barcodes\n",
    "matched = transactions.merge(products, on='BARCODE', how='inner')\n",
    "print(f\"Number of matched barcodes: {len(matched)}\")"
   ]
  },
  {
   "cell_type": "code",
   "execution_count": 245,
   "id": "46f10ffa-4fdf-453e-b055-83212113f693",
   "metadata": {},
   "outputs": [
    {
     "data": {
      "text/html": [
       "<div>\n",
       "<style scoped>\n",
       "    .dataframe tbody tr th:only-of-type {\n",
       "        vertical-align: middle;\n",
       "    }\n",
       "\n",
       "    .dataframe tbody tr th {\n",
       "        vertical-align: top;\n",
       "    }\n",
       "\n",
       "    .dataframe thead th {\n",
       "        text-align: right;\n",
       "    }\n",
       "</style>\n",
       "<table border=\"1\" class=\"dataframe\">\n",
       "  <thead>\n",
       "    <tr style=\"text-align: right;\">\n",
       "      <th></th>\n",
       "      <th>RECEIPT_ID</th>\n",
       "      <th>PURCHASE_DATE</th>\n",
       "      <th>SCAN_DATE</th>\n",
       "      <th>STORE_NAME</th>\n",
       "      <th>USER_ID</th>\n",
       "      <th>BARCODE</th>\n",
       "      <th>FINAL_QUANTITY</th>\n",
       "      <th>FINAL_SALE</th>\n",
       "      <th>CATEGORY_1</th>\n",
       "      <th>CATEGORY_2</th>\n",
       "      <th>CATEGORY_3</th>\n",
       "      <th>CATEGORY_4</th>\n",
       "      <th>MANUFACTURER</th>\n",
       "      <th>BRAND</th>\n",
       "    </tr>\n",
       "  </thead>\n",
       "  <tbody>\n",
       "    <tr>\n",
       "      <th>0</th>\n",
       "      <td>0000d256-4041-4a3e-adc4-5623fb6e0c99</td>\n",
       "      <td>2024-08-21</td>\n",
       "      <td>2024-08-21 14:19:06.539 Z</td>\n",
       "      <td>WALMART</td>\n",
       "      <td>63b73a7f3d310dceeabd4758</td>\n",
       "      <td>1.530001e+10</td>\n",
       "      <td>1.00</td>\n",
       "      <td></td>\n",
       "      <td>Pantry</td>\n",
       "      <td>Packaged Meals &amp; Sides</td>\n",
       "      <td>Microwavable Sides</td>\n",
       "      <td>Microwavable Non-Potato Sides</td>\n",
       "      <td>PEPSICO</td>\n",
       "      <td>CHEETOS</td>\n",
       "    </tr>\n",
       "    <tr>\n",
       "      <th>1</th>\n",
       "      <td>29d96785-b15e-467b-891b-83e86bd48967</td>\n",
       "      <td>2024-08-06</td>\n",
       "      <td>2024-08-06 17:52:23.912 Z</td>\n",
       "      <td>WALMART</td>\n",
       "      <td>6314f481b2906b770ea969a0</td>\n",
       "      <td>1.530001e+10</td>\n",
       "      <td>zero</td>\n",
       "      <td>1.54</td>\n",
       "      <td>Pantry</td>\n",
       "      <td>Packaged Meals &amp; Sides</td>\n",
       "      <td>Microwavable Sides</td>\n",
       "      <td>Microwavable Non-Potato Sides</td>\n",
       "      <td>PEPSICO</td>\n",
       "      <td>CHEETOS</td>\n",
       "    </tr>\n",
       "    <tr>\n",
       "      <th>2</th>\n",
       "      <td>0000d256-4041-4a3e-adc4-5623fb6e0c99</td>\n",
       "      <td>2024-08-21</td>\n",
       "      <td>2024-08-21 14:19:06.539 Z</td>\n",
       "      <td>WALMART</td>\n",
       "      <td>63b73a7f3d310dceeabd4758</td>\n",
       "      <td>1.530001e+10</td>\n",
       "      <td>1.00</td>\n",
       "      <td>1.54</td>\n",
       "      <td>Pantry</td>\n",
       "      <td>Packaged Meals &amp; Sides</td>\n",
       "      <td>Microwavable Sides</td>\n",
       "      <td>Microwavable Non-Potato Sides</td>\n",
       "      <td>PEPSICO</td>\n",
       "      <td>CHEETOS</td>\n",
       "    </tr>\n",
       "    <tr>\n",
       "      <th>3</th>\n",
       "      <td>29d96785-b15e-467b-891b-83e86bd48967</td>\n",
       "      <td>2024-08-06</td>\n",
       "      <td>2024-08-06 17:52:23.912 Z</td>\n",
       "      <td>WALMART</td>\n",
       "      <td>6314f481b2906b770ea969a0</td>\n",
       "      <td>1.530001e+10</td>\n",
       "      <td>1.00</td>\n",
       "      <td>1.54</td>\n",
       "      <td>Pantry</td>\n",
       "      <td>Packaged Meals &amp; Sides</td>\n",
       "      <td>Microwavable Sides</td>\n",
       "      <td>Microwavable Non-Potato Sides</td>\n",
       "      <td>PEPSICO</td>\n",
       "      <td>CHEETOS</td>\n",
       "    </tr>\n",
       "    <tr>\n",
       "      <th>4</th>\n",
       "      <td>0001455d-7a92-4a7b-a1d2-c747af1c8fd3</td>\n",
       "      <td>2024-07-20</td>\n",
       "      <td>2024-07-20 09:50:24.206 Z</td>\n",
       "      <td>ALDI</td>\n",
       "      <td>62c08877baa38d1a1f6c211a</td>\n",
       "      <td>NaN</td>\n",
       "      <td>zero</td>\n",
       "      <td>1.49</td>\n",
       "      <td>Health &amp; Wellness</td>\n",
       "      <td>NaN</td>\n",
       "      <td>NaN</td>\n",
       "      <td>NaN</td>\n",
       "      <td>CHURCH &amp; DWIGHT</td>\n",
       "      <td>REPHRESH</td>\n",
       "    </tr>\n",
       "    <tr>\n",
       "      <th>...</th>\n",
       "      <td>...</td>\n",
       "      <td>...</td>\n",
       "      <td>...</td>\n",
       "      <td>...</td>\n",
       "      <td>...</td>\n",
       "      <td>...</td>\n",
       "      <td>...</td>\n",
       "      <td>...</td>\n",
       "      <td>...</td>\n",
       "      <td>...</td>\n",
       "      <td>...</td>\n",
       "      <td>...</td>\n",
       "      <td>...</td>\n",
       "      <td>...</td>\n",
       "    </tr>\n",
       "    <tr>\n",
       "      <th>23216899</th>\n",
       "      <td>ffdf3f92-c5a6-42c5-8a9e-70cadd53c7a1</td>\n",
       "      <td>2024-09-07</td>\n",
       "      <td>2024-09-08 09:53:30.089 Z</td>\n",
       "      <td>CVS</td>\n",
       "      <td>5accc0a5e4b02815056486cc</td>\n",
       "      <td>3.400043e+10</td>\n",
       "      <td>1.00</td>\n",
       "      <td>0.61</td>\n",
       "      <td>Snacks</td>\n",
       "      <td>Candy</td>\n",
       "      <td>Chocolate Candy</td>\n",
       "      <td>NaN</td>\n",
       "      <td>THE HERSHEY COMPANY</td>\n",
       "      <td>REESE'S</td>\n",
       "    </tr>\n",
       "    <tr>\n",
       "      <th>23216900</th>\n",
       "      <td>ffef10cb-52ac-4123-aa87-0d65e85b6ef7</td>\n",
       "      <td>2024-07-21</td>\n",
       "      <td>2024-07-27 19:44:19.898 Z</td>\n",
       "      <td>WALMART</td>\n",
       "      <td>65bfb83d7050d0a6206c7b15</td>\n",
       "      <td>7.940045e+10</td>\n",
       "      <td>zero</td>\n",
       "      <td>6.97</td>\n",
       "      <td>Health &amp; Wellness</td>\n",
       "      <td>Deodorant &amp; Antiperspirant</td>\n",
       "      <td>Women's Deodorant &amp; Antiperspirant</td>\n",
       "      <td>NaN</td>\n",
       "      <td>UNILEVER</td>\n",
       "      <td>DOVE</td>\n",
       "    </tr>\n",
       "    <tr>\n",
       "      <th>23216901</th>\n",
       "      <td>ffef10cb-52ac-4123-aa87-0d65e85b6ef7</td>\n",
       "      <td>2024-07-21</td>\n",
       "      <td>2024-07-27 19:44:19.898 Z</td>\n",
       "      <td>WALMART</td>\n",
       "      <td>65bfb83d7050d0a6206c7b15</td>\n",
       "      <td>7.940045e+10</td>\n",
       "      <td>1.00</td>\n",
       "      <td>6.97</td>\n",
       "      <td>Health &amp; Wellness</td>\n",
       "      <td>Deodorant &amp; Antiperspirant</td>\n",
       "      <td>Women's Deodorant &amp; Antiperspirant</td>\n",
       "      <td>NaN</td>\n",
       "      <td>UNILEVER</td>\n",
       "      <td>DOVE</td>\n",
       "    </tr>\n",
       "    <tr>\n",
       "      <th>23216902</th>\n",
       "      <td>fffe8012-7dcf-4d84-b6c6-feaacab5074a</td>\n",
       "      <td>2024-09-07</td>\n",
       "      <td>2024-09-08 08:21:25.648 Z</td>\n",
       "      <td>WALGREENS</td>\n",
       "      <td>5f53c62bd683c715b9991b20</td>\n",
       "      <td>7.432310e+10</td>\n",
       "      <td>zero</td>\n",
       "      <td>2.98</td>\n",
       "      <td>Snacks</td>\n",
       "      <td>Snack Cakes</td>\n",
       "      <td>Cakes &amp; Truffles Snack Cakes</td>\n",
       "      <td>NaN</td>\n",
       "      <td>BIMBO</td>\n",
       "      <td>MARINELA SWEET BAKED GOODS</td>\n",
       "    </tr>\n",
       "    <tr>\n",
       "      <th>23216903</th>\n",
       "      <td>fffe8012-7dcf-4d84-b6c6-feaacab5074a</td>\n",
       "      <td>2024-09-07</td>\n",
       "      <td>2024-09-08 08:21:25.648 Z</td>\n",
       "      <td>WALGREENS</td>\n",
       "      <td>5f53c62bd683c715b9991b20</td>\n",
       "      <td>7.432310e+10</td>\n",
       "      <td>2.00</td>\n",
       "      <td>2.98</td>\n",
       "      <td>Snacks</td>\n",
       "      <td>Snack Cakes</td>\n",
       "      <td>Cakes &amp; Truffles Snack Cakes</td>\n",
       "      <td>NaN</td>\n",
       "      <td>BIMBO</td>\n",
       "      <td>MARINELA SWEET BAKED GOODS</td>\n",
       "    </tr>\n",
       "  </tbody>\n",
       "</table>\n",
       "<p>23216904 rows × 14 columns</p>\n",
       "</div>"
      ],
      "text/plain": [
       "                                    RECEIPT_ID PURCHASE_DATE  \\\n",
       "0         0000d256-4041-4a3e-adc4-5623fb6e0c99    2024-08-21   \n",
       "1         29d96785-b15e-467b-891b-83e86bd48967    2024-08-06   \n",
       "2         0000d256-4041-4a3e-adc4-5623fb6e0c99    2024-08-21   \n",
       "3         29d96785-b15e-467b-891b-83e86bd48967    2024-08-06   \n",
       "4         0001455d-7a92-4a7b-a1d2-c747af1c8fd3    2024-07-20   \n",
       "...                                        ...           ...   \n",
       "23216899  ffdf3f92-c5a6-42c5-8a9e-70cadd53c7a1    2024-09-07   \n",
       "23216900  ffef10cb-52ac-4123-aa87-0d65e85b6ef7    2024-07-21   \n",
       "23216901  ffef10cb-52ac-4123-aa87-0d65e85b6ef7    2024-07-21   \n",
       "23216902  fffe8012-7dcf-4d84-b6c6-feaacab5074a    2024-09-07   \n",
       "23216903  fffe8012-7dcf-4d84-b6c6-feaacab5074a    2024-09-07   \n",
       "\n",
       "                          SCAN_DATE STORE_NAME                   USER_ID  \\\n",
       "0         2024-08-21 14:19:06.539 Z    WALMART  63b73a7f3d310dceeabd4758   \n",
       "1         2024-08-06 17:52:23.912 Z    WALMART  6314f481b2906b770ea969a0   \n",
       "2         2024-08-21 14:19:06.539 Z    WALMART  63b73a7f3d310dceeabd4758   \n",
       "3         2024-08-06 17:52:23.912 Z    WALMART  6314f481b2906b770ea969a0   \n",
       "4         2024-07-20 09:50:24.206 Z       ALDI  62c08877baa38d1a1f6c211a   \n",
       "...                             ...        ...                       ...   \n",
       "23216899  2024-09-08 09:53:30.089 Z        CVS  5accc0a5e4b02815056486cc   \n",
       "23216900  2024-07-27 19:44:19.898 Z    WALMART  65bfb83d7050d0a6206c7b15   \n",
       "23216901  2024-07-27 19:44:19.898 Z    WALMART  65bfb83d7050d0a6206c7b15   \n",
       "23216902  2024-09-08 08:21:25.648 Z  WALGREENS  5f53c62bd683c715b9991b20   \n",
       "23216903  2024-09-08 08:21:25.648 Z  WALGREENS  5f53c62bd683c715b9991b20   \n",
       "\n",
       "               BARCODE FINAL_QUANTITY FINAL_SALE         CATEGORY_1  \\\n",
       "0         1.530001e+10           1.00                        Pantry   \n",
       "1         1.530001e+10           zero       1.54             Pantry   \n",
       "2         1.530001e+10           1.00       1.54             Pantry   \n",
       "3         1.530001e+10           1.00       1.54             Pantry   \n",
       "4                  NaN           zero       1.49  Health & Wellness   \n",
       "...                ...            ...        ...                ...   \n",
       "23216899  3.400043e+10           1.00       0.61             Snacks   \n",
       "23216900  7.940045e+10           zero       6.97  Health & Wellness   \n",
       "23216901  7.940045e+10           1.00       6.97  Health & Wellness   \n",
       "23216902  7.432310e+10           zero       2.98             Snacks   \n",
       "23216903  7.432310e+10           2.00       2.98             Snacks   \n",
       "\n",
       "                          CATEGORY_2                          CATEGORY_3  \\\n",
       "0             Packaged Meals & Sides                  Microwavable Sides   \n",
       "1             Packaged Meals & Sides                  Microwavable Sides   \n",
       "2             Packaged Meals & Sides                  Microwavable Sides   \n",
       "3             Packaged Meals & Sides                  Microwavable Sides   \n",
       "4                                NaN                                 NaN   \n",
       "...                              ...                                 ...   \n",
       "23216899                       Candy                     Chocolate Candy   \n",
       "23216900  Deodorant & Antiperspirant  Women's Deodorant & Antiperspirant   \n",
       "23216901  Deodorant & Antiperspirant  Women's Deodorant & Antiperspirant   \n",
       "23216902                 Snack Cakes        Cakes & Truffles Snack Cakes   \n",
       "23216903                 Snack Cakes        Cakes & Truffles Snack Cakes   \n",
       "\n",
       "                             CATEGORY_4         MANUFACTURER  \\\n",
       "0         Microwavable Non-Potato Sides              PEPSICO   \n",
       "1         Microwavable Non-Potato Sides              PEPSICO   \n",
       "2         Microwavable Non-Potato Sides              PEPSICO   \n",
       "3         Microwavable Non-Potato Sides              PEPSICO   \n",
       "4                                   NaN      CHURCH & DWIGHT   \n",
       "...                                 ...                  ...   \n",
       "23216899                            NaN  THE HERSHEY COMPANY   \n",
       "23216900                            NaN             UNILEVER   \n",
       "23216901                            NaN             UNILEVER   \n",
       "23216902                            NaN                BIMBO   \n",
       "23216903                            NaN                BIMBO   \n",
       "\n",
       "                               BRAND  \n",
       "0                            CHEETOS  \n",
       "1                            CHEETOS  \n",
       "2                            CHEETOS  \n",
       "3                            CHEETOS  \n",
       "4                           REPHRESH  \n",
       "...                              ...  \n",
       "23216899                     REESE'S  \n",
       "23216900                        DOVE  \n",
       "23216901                        DOVE  \n",
       "23216902  MARINELA SWEET BAKED GOODS  \n",
       "23216903  MARINELA SWEET BAKED GOODS  \n",
       "\n",
       "[23216904 rows x 14 columns]"
      ]
     },
     "execution_count": 245,
     "metadata": {},
     "output_type": "execute_result"
    }
   ],
   "source": [
    "matched"
   ]
  },
  {
   "cell_type": "code",
   "execution_count": 247,
   "id": "1e9cd16a-1e9f-42b5-b9fd-87e0c42846ca",
   "metadata": {},
   "outputs": [
    {
     "name": "stdout",
     "output_type": "stream",
     "text": [
      "Barcodes only in transactions:\n",
      "                                 RECEIPT_ID PURCHASE_DATE  \\\n",
      "2      00017e0a-7851-42fb-bfab-0baa96e23586    2024-08-18   \n",
      "3      000239aa-3478-453d-801e-66a82e39c8af    2024-06-18   \n",
      "4      00026b4c-dfe8-49dd-b026-4c2f0fd5c6a1    2024-07-04   \n",
      "6      000550b2-1480-4c07-950f-ff601f242152    2024-07-06   \n",
      "8      000e1d35-15e5-46c6-b6b3-33653ed3d27e    2024-08-13   \n",
      "...                                     ...           ...   \n",
      "49990  441b9ecd-38ed-4960-9780-eb44a464284a    2024-06-26   \n",
      "49991  840c30ae-bc0a-40a4-a47d-052ed0af2da2    2024-08-18   \n",
      "49992  68f74fb3-ccf2-41f3-896a-799eb9a80680    2024-08-13   \n",
      "49995  b5cd61a9-8033-4913-a5c4-fb3f65e3a321    2024-08-21   \n",
      "49998  42475141-bef4-4df2-aa37-72577e2512bb    2024-06-18   \n",
      "\n",
      "                       SCAN_DATE        STORE_NAME                   USER_ID  \\\n",
      "2      2024-08-19 15:38:56.813 Z           WALMART  60842f207ac8b7729e472020   \n",
      "3      2024-06-19 11:03:37.468 Z         FOOD LION  63fcd7cea4f8442c3386b589   \n",
      "4      2024-07-05 15:56:43.549 Z          RANDALLS  6193231ae9b3d75037b0f928   \n",
      "6      2024-07-06 19:27:48.586 Z           WALMART  5f850bc9cf9431165f3ac175   \n",
      "8      2024-08-13 18:21:07.931 Z           WALMART  61a6d926f998e47aad33db66   \n",
      "...                          ...               ...                       ...   \n",
      "49990  2024-07-02 09:37:07.656 Z  FRY'S FOOD STORE  6251c788e3d6762c55855c1d   \n",
      "49991  2024-08-18 14:44:02.530 Z            COSTCO  65b322787050d0a6206b3479   \n",
      "49992  2024-08-19 11:06:59.023 Z   PEPPERIDGE FARM  64f4aee2b84ba41db3fb246a   \n",
      "49995  2024-08-31 14:13:08.634 Z            TARGET  6154bcf098f885648de2f299   \n",
      "49998  2024-06-18 19:57:32.211 Z     MARKET BASKET  6169912fac47744405af62b7   \n",
      "\n",
      "            BARCODE FINAL_QUANTITY FINAL_SALE  \n",
      "2      7.874223e+10           1.00             \n",
      "3      7.833997e+11           zero       3.49  \n",
      "4      4.790050e+10           1.00             \n",
      "6      4.920091e+10           1.00             \n",
      "8      5.200001e+10           1.00             \n",
      "...             ...            ...        ...  \n",
      "49990  7.225002e+10           1.00       2.49  \n",
      "49991  1.407435e+07           1.00      11.99  \n",
      "49992  1.410007e+10           1.00       2.89  \n",
      "49995  8.523911e+10           2.00       1.18  \n",
      "49998  4.180050e+10           1.00       3.00  \n",
      "\n",
      "[19408 rows x 8 columns]\n"
     ]
    }
   ],
   "source": [
    "only_in_transactions = transactions[~transactions['BARCODE'].isin(products['BARCODE'])]\n",
    "print(\"Barcodes only in transactions:\")\n",
    "print(only_in_transactions)"
   ]
  },
  {
   "cell_type": "code",
   "execution_count": 238,
   "id": "03121740-ea0c-483b-af1e-b3937a52a3dd",
   "metadata": {},
   "outputs": [
    {
     "name": "stdout",
     "output_type": "stream",
     "text": [
      "Transactions with product info: (23236312, 14)\n"
     ]
    }
   ],
   "source": [
    "# Left join - shows all transactions and matching products (if any)\n",
    "left_join = transactions.merge(products, on='BARCODE', how='left')\n",
    "print(\"Transactions with product info:\", left_join.shape)"
   ]
  },
  {
   "cell_type": "code",
   "execution_count": 248,
   "id": "5b4845aa-55be-40c7-a562-e2699c4ad8d0",
   "metadata": {},
   "outputs": [
    {
     "name": "stdout",
     "output_type": "stream",
     "text": [
      "Barcodes only in products:\n",
      "               CATEGORY_1                                CATEGORY_2  \\\n",
      "0       Health & Wellness                             Sexual Health   \n",
      "1                  Snacks                             Puffed Snacks   \n",
      "2       Health & Wellness                                 Hair Care   \n",
      "3       Health & Wellness                                 Oral Care   \n",
      "4       Health & Wellness                    Medicines & Treatments   \n",
      "...                   ...                                       ...   \n",
      "845547  Health & Wellness  Topical Muscle & Joint Relief Treatments   \n",
      "845548             Snacks                                   Cookies   \n",
      "845549             Snacks                                     Candy   \n",
      "845550             Snacks                              Nuts & Seeds   \n",
      "845551  Health & Wellness                                 First Aid   \n",
      "\n",
      "                         CATEGORY_3 CATEGORY_4  \\\n",
      "0       Conductivity Gels & Lotions        NaN   \n",
      "1              Cheese Curls & Puffs        NaN   \n",
      "2             Hair Care Accessories        NaN   \n",
      "3                        Toothpaste        NaN   \n",
      "4                    Essential Oils        NaN   \n",
      "...                             ...        ...   \n",
      "845547               Braces & Wraps        NaN   \n",
      "845548                          NaN        NaN   \n",
      "845549             Confection Candy        NaN   \n",
      "845550                    Hazelnuts        NaN   \n",
      "845551               First Aid Kits        NaN   \n",
      "\n",
      "                                             MANUFACTURER            BRAND  \\\n",
      "0                                                     NaN              NaN   \n",
      "1                                                     NaN              NaN   \n",
      "2                                PLACEHOLDER MANUFACTURER          ELECSOP   \n",
      "3                                       COLGATE-PALMOLIVE          COLGATE   \n",
      "4       MAPLE HOLISTICS AND HONEYDEW PRODUCTS INTERCHA...  MAPLE HOLISTICS   \n",
      "...                                                   ...              ...   \n",
      "845547                                                NaN              NaN   \n",
      "845548                              TREEHOUSE FOODS, INC.        LOFTHOUSE   \n",
      "845549                                HARIBO GMBH & CO KG           HARIBO   \n",
      "845550                                     DOUBLE-COLA CO            JUMBO   \n",
      "845551                                                 3M          NEXCARE   \n",
      "\n",
      "             BARCODE  \n",
      "0       7.964944e+11  \n",
      "1       2.327801e+10  \n",
      "2       4.618178e+11  \n",
      "3       3.500047e+10  \n",
      "4       8.068109e+11  \n",
      "...              ...  \n",
      "845547  7.223016e+11  \n",
      "845548  4.182082e+10  \n",
      "845549  1.001672e+11  \n",
      "845550  7.539076e+10  \n",
      "845551  7.967933e+11  \n",
      "\n",
      "[834960 rows x 7 columns]\n"
     ]
    }
   ],
   "source": [
    "only_in_products = products[~products['BARCODE'].isin(transactions['BARCODE'])]\n",
    "print(\"Barcodes only in products:\")\n",
    "print(only_in_products)"
   ]
  },
  {
   "cell_type": "code",
   "execution_count": 240,
   "id": "884b69b1-00b8-48fe-98e6-36834956e132",
   "metadata": {},
   "outputs": [
    {
     "name": "stdout",
     "output_type": "stream",
     "text": [
      "Transactions with missing product info: 19408\n"
     ]
    }
   ],
   "source": [
    "# Barcodes in transactions but not in products\n",
    "missing_products = transactions[~transactions['BARCODE'].isin(products['BARCODE'])]\n",
    "print(f\"Transactions with missing product info: {len(missing_products)}\")"
   ]
  },
  {
   "cell_type": "code",
   "execution_count": 241,
   "id": "97c93d38-fce0-4809-ab7d-20ae077a81f4",
   "metadata": {},
   "outputs": [
    {
     "name": "stdout",
     "output_type": "stream",
     "text": [
      "Products with no transactions: 834960\n"
     ]
    }
   ],
   "source": [
    "# Barcodes in products but not in transactions\n",
    "missing_transactions = products[~products['BARCODE'].isin(transactions['BARCODE'])]\n",
    "print(f\"Products with no transactions: {len(missing_transactions)}\")"
   ]
  },
  {
   "cell_type": "code",
   "execution_count": null,
   "id": "a7d79190-bca1-4b30-aff0-41d9a7c4bb04",
   "metadata": {},
   "outputs": [],
   "source": []
  },
  {
   "cell_type": "markdown",
   "id": "5208597f-7792-4e13-aae9-e39d12983a5c",
   "metadata": {},
   "source": [
    "# Transactions VS Users"
   ]
  },
  {
   "cell_type": "code",
   "execution_count": 250,
   "id": "31480daa-52c3-4eef-8beb-87438f559125",
   "metadata": {},
   "outputs": [
    {
     "name": "stdout",
     "output_type": "stream",
     "text": [
      "IDs in both DataFrames:\n",
      "                                 RECEIPT_ID PURCHASE_DATE  \\\n",
      "38     00729da3-2564-4616-a4ea-7426232d52e8    2024-08-30   \n",
      "63     00ad12b5-a990-4f56-b7d8-78a506c36529    2024-08-18   \n",
      "151    019520fd-f28b-42ff-a29e-d6bf4f5c4b7c    2024-08-19   \n",
      "152    019520fd-f28b-42ff-a29e-d6bf4f5c4b7c    2024-08-19   \n",
      "264    02c675f0-3d0c-49ae-aa18-9422bb9b1cda    2024-06-28   \n",
      "...                                     ...           ...   \n",
      "48172  d80f7f61-d98f-46d7-be8a-0969971e2b7c    2024-08-16   \n",
      "48176  c50b8ee7-9e03-4f7c-9af1-73e367dbf2bb    2024-08-13   \n",
      "48691  47c724c5-680f-450d-a617-e36514fff06e    2024-07-18   \n",
      "49334  fb6dfcb8-65a0-4024-9b4a-5091d0af3c72    2024-07-14   \n",
      "49556  da8eda20-b96d-4df9-a618-45df75623eb6    2024-08-08   \n",
      "\n",
      "                       SCAN_DATE          STORE_NAME  \\\n",
      "38     2024-09-03 13:00:21.972 Z       FAMILY DOLLAR   \n",
      "63     2024-08-18 16:22:58.531 Z            7-ELEVEN   \n",
      "151    2024-08-19 11:19:59.681 Z              MEIJER   \n",
      "152    2024-08-19 11:19:59.681 Z              MEIJER   \n",
      "264    2024-06-28 09:59:19.953 Z              PUBLIX   \n",
      "...                          ...                 ...   \n",
      "48172  2024-08-17 08:55:14.932 Z              HY-VEE   \n",
      "48176  2024-08-13 13:37:15.212 Z                ALDI   \n",
      "48691  2024-07-19 18:36:31.512 Z               H-E-B   \n",
      "49334  2024-07-14 21:11:46.253 Z  LOTTE PLAZA MARKET   \n",
      "49556  2024-08-11 06:43:27.935 Z              MEIJER   \n",
      "\n",
      "                        USER_ID       BARCODE FINAL_QUANTITY FINAL_SALE  \n",
      "38     62e5a95ca6565cf0534c989c  3.400008e+10           1.00             \n",
      "63     610a8541ca1fab5b417b5d33  4.000000e+10           zero       2.39  \n",
      "151    646bdaa67a342372c857b958  4.125009e+10           zero       2.49  \n",
      "152    646bdaa67a342372c857b958  4.125022e+10           1.00             \n",
      "264    647281efa55bb77a0e26f586  7.203000e+10           1.00             \n",
      "...                         ...           ...            ...        ...  \n",
      "48172  5e6d0beb01ecdd13986852e8  3.077211e+10           1.00       8.97  \n",
      "48176  64dd9170516348066e7c4006           NaN           1.00       1.29  \n",
      "48691  64ce5d823cb069b5eac9b700  4.122008e+10           1.00       2.97  \n",
      "49334  5fbd58f1ad6b5e12a114079a  2.540780e+10           1.00       1.79  \n",
      "49556  65044dc5fe41d365c2ed7d71  7.602363e+11           1.00       5.69  \n",
      "\n",
      "[262 rows x 8 columns]\n"
     ]
    }
   ],
   "source": [
    "# Find common IDs\n",
    "common_ids = transactions['USER_ID'].isin(users['ID'])\n",
    "\n",
    "# Filter transactions that have matching IDs in users\n",
    "matching_transactions = transactions[common_ids]\n",
    "\n",
    "print(\"IDs in both DataFrames:\")\n",
    "print(matching_transactions)"
   ]
  },
  {
   "cell_type": "code",
   "execution_count": 251,
   "id": "3c37beeb-bd9b-4367-b0a8-cb38ba9ecaa1",
   "metadata": {},
   "outputs": [
    {
     "name": "stdout",
     "output_type": "stream",
     "text": [
      "USER_IDs only in transactions:\n",
      "                                 RECEIPT_ID PURCHASE_DATE  \\\n",
      "0      0000d256-4041-4a3e-adc4-5623fb6e0c99    2024-08-21   \n",
      "1      0001455d-7a92-4a7b-a1d2-c747af1c8fd3    2024-07-20   \n",
      "2      00017e0a-7851-42fb-bfab-0baa96e23586    2024-08-18   \n",
      "3      000239aa-3478-453d-801e-66a82e39c8af    2024-06-18   \n",
      "4      00026b4c-dfe8-49dd-b026-4c2f0fd5c6a1    2024-07-04   \n",
      "...                                     ...           ...   \n",
      "49995  b5cd61a9-8033-4913-a5c4-fb3f65e3a321    2024-08-21   \n",
      "49996  e1b2f634-c9ad-4152-b662-4b22efc25862    2024-08-11   \n",
      "49997  b07ef8dd-e444-40a2-819b-f74a3e5f1ae7    2024-07-11   \n",
      "49998  42475141-bef4-4df2-aa37-72577e2512bb    2024-06-18   \n",
      "49999  3a179c4e-46f2-4126-b3d2-3514afc23a3e    2024-08-07   \n",
      "\n",
      "                       SCAN_DATE     STORE_NAME                   USER_ID  \\\n",
      "0      2024-08-21 14:19:06.539 Z        WALMART  63b73a7f3d310dceeabd4758   \n",
      "1      2024-07-20 09:50:24.206 Z           ALDI  62c08877baa38d1a1f6c211a   \n",
      "2      2024-08-19 15:38:56.813 Z        WALMART  60842f207ac8b7729e472020   \n",
      "3      2024-06-19 11:03:37.468 Z      FOOD LION  63fcd7cea4f8442c3386b589   \n",
      "4      2024-07-05 15:56:43.549 Z       RANDALLS  6193231ae9b3d75037b0f928   \n",
      "...                          ...            ...                       ...   \n",
      "49995  2024-08-31 14:13:08.634 Z         TARGET  6154bcf098f885648de2f299   \n",
      "49996  2024-08-11 18:15:56.736 Z    STOP & SHOP  60aa809f188b926b2244c974   \n",
      "49997  2024-07-11 08:03:25.816 Z        WALMART  60bd26e83dc3b13a15c5f4e7   \n",
      "49998  2024-06-18 19:57:32.211 Z  MARKET BASKET  6169912fac47744405af62b7   \n",
      "49999  2024-08-07 15:30:07.911 Z        WALMART  64e94d64ca929250373ef6e1   \n",
      "\n",
      "            BARCODE FINAL_QUANTITY FINAL_SALE  \n",
      "0      1.530001e+10           1.00             \n",
      "1               NaN           zero       1.49  \n",
      "2      7.874223e+10           1.00             \n",
      "3      7.833997e+11           zero       3.49  \n",
      "4      4.790050e+10           1.00             \n",
      "...             ...            ...        ...  \n",
      "49995  8.523911e+10           2.00       1.18  \n",
      "49996  4.610040e+10           1.00       2.00  \n",
      "49997  6.466300e+11           1.00      20.96  \n",
      "49998  4.180050e+10           1.00       3.00  \n",
      "49999  3.076607e+11           1.00       5.48  \n",
      "\n",
      "[49738 rows x 8 columns]\n"
     ]
    }
   ],
   "source": [
    "only_in_transactions = transactions[~transactions['USER_ID'].isin(users['ID'])]\n",
    "print(\"USER_IDs only in transactions:\")\n",
    "print(only_in_transactions)"
   ]
  },
  {
   "cell_type": "code",
   "execution_count": 252,
   "id": "ee2f7c0b-0f17-4855-8cff-affbcfa25fa3",
   "metadata": {},
   "outputs": [
    {
     "name": "stdout",
     "output_type": "stream",
     "text": [
      "IDs only in users:\n",
      "                             ID              CREATED_DATE  \\\n",
      "0      5ef3b4f17053ab141787697d 2020-06-24 20:17:54+00:00   \n",
      "1      5ff220d383fcfc12622b96bc 2021-01-03 19:53:55+00:00   \n",
      "2      6477950aa55bb77a0e27ee10 2023-05-31 18:42:18+00:00   \n",
      "3      658a306e99b40f103b63ccf8 2023-12-26 01:46:22+00:00   \n",
      "4      653cf5d6a225ea102b7ecdc2 2023-10-28 11:51:50+00:00   \n",
      "...                         ...                       ...   \n",
      "99995  61fc06d41febf771966da8fa 2022-02-03 16:46:12+00:00   \n",
      "99996  6391e7ef90ad5449ec5f782d 2022-12-08 13:34:39+00:00   \n",
      "99997  637d5efdd6f2a49c49934dcb 2022-11-22 23:45:05+00:00   \n",
      "99998  5f0de23b05d8a6147dc0cafa 2020-07-14 16:50:04+00:00   \n",
      "99999  5e7ab436905e9512ff44abc8 2020-03-25 01:30:30+00:00   \n",
      "\n",
      "                     BIRTH_DATE STATE LANGUAGE  GENDER  \n",
      "0     2000-08-11 00:00:00+00:00    CA   es-419  female  \n",
      "1     2001-09-24 04:00:00+00:00    PA       en  female  \n",
      "2     1994-10-28 00:00:00+00:00    FL   es-419  female  \n",
      "3                           NaT    NC       en     NaN  \n",
      "4     1972-03-19 00:00:00+00:00    PA       en  female  \n",
      "...                         ...   ...      ...     ...  \n",
      "99995 1992-03-16 08:00:00+00:00    CA       en  female  \n",
      "99996 1993-09-23 05:00:00+00:00    MO       en  female  \n",
      "99997 1983-04-19 00:00:00+00:00    RI       en  female  \n",
      "99998 1995-06-09 04:00:00+00:00    DE       en  female  \n",
      "99999 1995-12-15 05:00:00+00:00    VA      NaN  female  \n",
      "\n",
      "[99909 rows x 6 columns]\n"
     ]
    }
   ],
   "source": [
    "only_in_users = users[~users['ID'].isin(transactions['USER_ID'])]\n",
    "print(\"IDs only in users:\")\n",
    "print(only_in_users)"
   ]
  },
  {
   "cell_type": "code",
   "execution_count": null,
   "id": "8817432b-23f8-492c-8082-0ebc7cd9c68e",
   "metadata": {},
   "outputs": [],
   "source": []
  }
 ],
 "metadata": {
  "kernelspec": {
   "display_name": "Python 3 (ipykernel)",
   "language": "python",
   "name": "python3"
  },
  "language_info": {
   "codemirror_mode": {
    "name": "ipython",
    "version": 3
   },
   "file_extension": ".py",
   "mimetype": "text/x-python",
   "name": "python",
   "nbconvert_exporter": "python",
   "pygments_lexer": "ipython3",
   "version": "3.8.18"
  }
 },
 "nbformat": 4,
 "nbformat_minor": 5
}
